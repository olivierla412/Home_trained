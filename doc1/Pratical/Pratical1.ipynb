{
 "cells": [
  {
   "cell_type": "code",
   "execution_count": 1,
   "id": "c8422c74-7321-4037-bebf-f9d7a4536346",
   "metadata": {},
   "outputs": [],
   "source": [
    "import numpy as np\n",
    "import pandas as pd"
   ]
  },
  {
   "cell_type": "code",
   "execution_count": 10,
   "id": "475ea44c-fd44-4433-82f8-8d787ceca771",
   "metadata": {},
   "outputs": [],
   "source": [
    "np.set_printoptions(suppress=True,linewidth=100,precision=2)"
   ]
  },
  {
   "cell_type": "code",
   "execution_count": 15,
   "id": "bca6afb6-8f37-404c-a413-1bfe70e0b8a1",
   "metadata": {},
   "outputs": [],
   "source": [
    "load_data = np.genfromtxt(\"loan-data.csv\",\n",
    "                          delimiter=';',\n",
    "                          encoding=('ISO-8859-1'),\n",
    "                         skip_header=1,\n",
    "                         autostrip= True)"
   ]
  },
  {
   "cell_type": "code",
   "execution_count": 16,
   "id": "c2f77389-320e-461d-a114-8187e48f2cd3",
   "metadata": {},
   "outputs": [
    {
     "data": {
      "text/plain": [
       "array([[48010226.  ,         nan,    35000.  , ...,         nan,         nan,     9452.96],\n",
       "       [57693261.  ,         nan,    30000.  , ...,         nan,         nan,     4679.7 ],\n",
       "       [59432726.  ,         nan,    15000.  , ...,         nan,         nan,     1969.83],\n",
       "       ...,\n",
       "       [50415990.  ,         nan,    10000.  , ...,         nan,         nan,     2185.64],\n",
       "       [46154151.  ,         nan,         nan, ...,         nan,         nan,     3199.4 ],\n",
       "       [66055249.  ,         nan,    10000.  , ...,         nan,         nan,      301.9 ]])"
      ]
     },
     "execution_count": 16,
     "metadata": {},
     "output_type": "execute_result"
    }
   ],
   "source": [
    "load_data"
   ]
  },
  {
   "cell_type": "code",
   "execution_count": 13,
   "id": "e2e1008b-c082-4aec-8fa5-6e851eaaf030",
   "metadata": {},
   "outputs": [
    {
     "data": {
      "text/plain": [
       "(10001, 14)"
      ]
     },
     "execution_count": 13,
     "metadata": {},
     "output_type": "execute_result"
    }
   ],
   "source": [
    "load_data.shape"
   ]
  },
  {
   "cell_type": "code",
   "execution_count": 21,
   "id": "d11d413f-2877-4ba9-aaee-0403d0ecd035",
   "metadata": {},
   "outputs": [],
   "source": [
    "#np.savetxt('Loan.csv',load_data,\n",
    "#          fmt='%s',\n",
    "#          delimiter=',')"
   ]
  },
  {
   "cell_type": "code",
   "execution_count": null,
   "id": "8d1c377f-63ac-4939-bc8c-ba06c69e44da",
   "metadata": {},
   "outputs": [],
   "source": []
  },
  {
   "cell_type": "markdown",
   "id": "4e09912d-87c2-4b33-8b55-064a454b61a2",
   "metadata": {},
   "source": [
    "## Checking for Incomplete Data"
   ]
  },
  {
   "cell_type": "code",
   "execution_count": 31,
   "id": "8c9458c9-294f-497a-a15d-6ed51d2375cd",
   "metadata": {},
   "outputs": [
    {
     "data": {
      "text/plain": [
       "88005"
      ]
     },
     "execution_count": 31,
     "metadata": {},
     "output_type": "execute_result"
    }
   ],
   "source": [
    "np.isnan(load_data).sum()"
   ]
  },
  {
   "cell_type": "code",
   "execution_count": 32,
   "id": "460aaea7-a1f3-4994-930a-d086b13f372d",
   "metadata": {},
   "outputs": [
    {
     "name": "stderr",
     "output_type": "stream",
     "text": [
      "<ipython-input-32-4e529a07503b>:7: RuntimeWarning: Mean of empty slice\n",
      "  temporary_mean = np.nanmean(load_data,axis=0)\n"
     ]
    }
   ],
   "source": [
    "## create a filler for all the missing entries of the dataset\n",
    "\n",
    "temporary_fill = np.nanmax(load_data) +1\n",
    "\n",
    "## create also temporary mean Which Hold the means for every column\n",
    "\n",
    "temporary_mean = np.nanmean(load_data,axis=0)\n"
   ]
  },
  {
   "cell_type": "code",
   "execution_count": 35,
   "id": "ea8647a9-7098-4aa6-9cf8-c72920f183a7",
   "metadata": {},
   "outputs": [
    {
     "data": {
      "text/plain": [
       "array([54015809.19,         nan,    15273.46,         nan,    15311.04,         nan,       16.62,\n",
       "            440.92,         nan,         nan,         nan,         nan,         nan,     3143.85])"
      ]
     },
     "execution_count": 35,
     "metadata": {},
     "output_type": "execute_result"
    }
   ],
   "source": [
    "temporary_mean\n",
    "\n",
    "## This show the mean of each column, and the column with mean \"nan\" contians no numbers"
   ]
  },
  {
   "cell_type": "markdown",
   "id": "86331c59-b06c-4538-8631-daecdcdc2d95",
   "metadata": {},
   "source": [
    "#### From the abave result, we can say that there 8 columns which contain only string, it is shown by NAN \n",
    "\n",
    "#### This show the mean of each column, and the column with mean \"nan\" contians no numbers"
   ]
  },
  {
   "cell_type": "markdown",
   "id": "ac12e9bc-2215-476c-b8cc-660bb3a996f0",
   "metadata": {},
   "source": [
    "## we should split our dataset into two, string column and numuric colum\n"
   ]
  },
  {
   "cell_type": "code",
   "execution_count": 36,
   "id": "ff5bdf39-a69f-4c02-ad4d-038bd5466cfb",
   "metadata": {},
   "outputs": [
    {
     "name": "stderr",
     "output_type": "stream",
     "text": [
      "<ipython-input-36-4b498c669e17>:3: RuntimeWarning: All-NaN slice encountered\n",
      "  temporary_stats = np.array([np.nanmin(load_data,axis=0),\n",
      "<ipython-input-36-4b498c669e17>:5: RuntimeWarning: All-NaN slice encountered\n",
      "  np.nanmax(load_data,axis=0)])\n"
     ]
    }
   ],
   "source": [
    "## let's create a variable called temporary_stats\n",
    "\n",
    "temporary_stats = np.array([np.nanmin(load_data,axis=0),\n",
    "                           temporary_mean,\n",
    "                           np.nanmax(load_data,axis=0)])"
   ]
  },
  {
   "cell_type": "code",
   "execution_count": 37,
   "id": "51893576-4615-4483-95a0-dfad070d5334",
   "metadata": {},
   "outputs": [
    {
     "data": {
      "text/plain": [
       "array([[  373332.  ,         nan,     1000.  ,         nan,     1000.  ,         nan,        6.  ,\n",
       "              31.42,         nan,         nan,         nan,         nan,         nan,        0.  ],\n",
       "       [54015809.19,         nan,    15273.46,         nan,    15311.04,         nan,       16.62,\n",
       "             440.92,         nan,         nan,         nan,         nan,         nan,     3143.85],\n",
       "       [68616519.  ,         nan,    35000.  ,         nan,    35000.  ,         nan,       28.99,\n",
       "            1372.97,         nan,         nan,         nan,         nan,         nan,    41913.62]])"
      ]
     },
     "execution_count": 37,
     "metadata": {},
     "output_type": "execute_result"
    }
   ],
   "source": [
    "temporary_stats"
   ]
  },
  {
   "cell_type": "markdown",
   "id": "07271232-b0fe-48eb-9a0c-4d68d830f3c4",
   "metadata": {},
   "source": [
    "#### The result above consist of 2D array which contains three 1D arrays and the midle one is temporary_mean\n",
    "\n",
    "#### the order is maintain, __min__->, __mean__->, __max__"
   ]
  },
  {
   "cell_type": "code",
   "execution_count": 52,
   "id": "b196878b-d027-490e-a37b-8eb20d3b3029",
   "metadata": {},
   "outputs": [
    {
     "data": {
      "text/plain": [
       "array([[ 1],\n",
       "       [ 3],\n",
       "       [ 5],\n",
       "       [ 8],\n",
       "       [ 9],\n",
       "       [10],\n",
       "       [11],\n",
       "       [12]])"
      ]
     },
     "execution_count": 52,
     "metadata": {},
     "output_type": "execute_result"
    }
   ],
   "source": [
    "## create variable called columns_strings\n",
    "\n",
    "columns_strings = np.argwhere(np.isnan(temporary_mean))\n",
    "columns_strings\n",
    "\n",
    "#### column     mean         np.isnan()\n",
    "\n",
    "## contain ==>   =            =\n",
    "\n",
    "## only text     nan          True"
   ]
  },
  {
   "cell_type": "markdown",
   "id": "e3408576-c95e-4490-b4e0-9e988ad5d603",
   "metadata": {},
   "source": [
    "## __squeeze()__ help to get the result into one  dimension (1D)"
   ]
  },
  {
   "cell_type": "code",
   "execution_count": 53,
   "id": "948337b9-6cbb-4763-af75-d27d801c4665",
   "metadata": {},
   "outputs": [
    {
     "data": {
      "text/plain": [
       "array([ 1,  3,  5,  8,  9, 10, 11, 12])"
      ]
     },
     "execution_count": 53,
     "metadata": {},
     "output_type": "execute_result"
    }
   ],
   "source": [
    "columns_strings1 = np.argwhere(np.isnan(temporary_mean)).squeeze()\n",
    "\n",
    "columns_strings1"
   ]
  },
  {
   "cell_type": "code",
   "execution_count": 54,
   "id": "2697ddb0-15c4-491f-a739-ea281ba76089",
   "metadata": {},
   "outputs": [
    {
     "data": {
      "text/plain": [
       "array([ 0,  2,  4,  6,  7, 13])"
      ]
     },
     "execution_count": 54,
     "metadata": {},
     "output_type": "execute_result"
    }
   ],
   "source": [
    "columns_numeric = np.argwhere(np.isnan(temporary_mean) == False).squeeze()\n",
    "columns_numeric"
   ]
  },
  {
   "cell_type": "markdown",
   "id": "60bbeb33-5fac-4d89-86db-6cf883dc760a",
   "metadata": {},
   "source": [
    "### Great job\n",
    "\n",
    "#### using : usecols = columns_strings1\n",
    "#### using : usecols = columns_numeric\n",
    "#### We can import our dataset as we want it....>>>>>>>>>"
   ]
  },
  {
   "cell_type": "markdown",
   "id": "7b390abb-e998-4b46-b180-90cf0805095c",
   "metadata": {},
   "source": [
    "## Let's import again our same dataset but into two diffrents __arrays__"
   ]
  },
  {
   "cell_type": "code",
   "execution_count": 104,
   "id": "06836fc9-e21b-4f20-a4f6-59ffa62bc021",
   "metadata": {},
   "outputs": [
    {
     "data": {
      "text/plain": [
       "array([['May-15', 'Current', '36 months', ..., 'Verified',\n",
       "        'https://www.lendingclub.com/browse/loanDetail.action?loan_id=48010226', 'CA'],\n",
       "       ['', 'Current', '36 months', ..., 'Source Verified',\n",
       "        'https://www.lendingclub.com/browse/loanDetail.action?loan_id=57693261', 'NY'],\n",
       "       ['Sep-15', 'Current', '36 months', ..., 'Verified',\n",
       "        'https://www.lendingclub.com/browse/loanDetail.action?loan_id=59432726', 'PA'],\n",
       "       ...,\n",
       "       ['Jun-15', 'Current', '36 months', ..., 'Source Verified',\n",
       "        'https://www.lendingclub.com/browse/loanDetail.action?loan_id=50415990', 'CA'],\n",
       "       ['Apr-15', 'Current', '36 months', ..., 'Source Verified',\n",
       "        'https://www.lendingclub.com/browse/loanDetail.action?loan_id=46154151', 'OH'],\n",
       "       ['Dec-15', 'Current', '36 months', ..., '',\n",
       "        'https://www.lendingclub.com/browse/loanDetail.action?loan_id=66055249', 'IL']],\n",
       "      dtype='<U69')"
      ]
     },
     "execution_count": 104,
     "metadata": {},
     "output_type": "execute_result"
    }
   ],
   "source": [
    "load_data_strings = np.genfromtxt(\"loan-data.csv\",\n",
    "                         delimiter=';',\n",
    "                         encoding=('ISO-8859-1'),\n",
    "                         skip_header=1,\n",
    "                         autostrip= True,\n",
    "                         usecols=columns_strings1,\n",
    "                         dtype= np.str_)\n",
    "load_data_strings\n",
    "\n",
    "### This gives only string data"
   ]
  },
  {
   "cell_type": "code",
   "execution_count": 57,
   "id": "ada64df4-bd25-429c-8a81-23b5333118ff",
   "metadata": {},
   "outputs": [
    {
     "data": {
      "text/plain": [
       "array([[48010226.  ,    35000.  ,    35000.  ,       13.33,     1184.86,     9452.96],\n",
       "       [57693261.  ,    30000.  ,    30000.  , 68616520.  ,      938.57,     4679.7 ],\n",
       "       [59432726.  ,    15000.  ,    15000.  , 68616520.  ,      494.86,     1969.83],\n",
       "       ...,\n",
       "       [50415990.  ,    10000.  ,    10000.  , 68616520.  , 68616520.  ,     2185.64],\n",
       "       [46154151.  , 68616520.  ,    10000.  ,       16.55,      354.3 ,     3199.4 ],\n",
       "       [66055249.  ,    10000.  ,    10000.  , 68616520.  ,      309.97,      301.9 ]])"
      ]
     },
     "execution_count": 57,
     "metadata": {},
     "output_type": "execute_result"
    }
   ],
   "source": [
    "load_data_numeric = np.genfromtxt(\"loan-data.csv\",\n",
    "                         delimiter=';',\n",
    "                         encoding=('ISO-8859-1'),\n",
    "                         skip_header=1,\n",
    "                         autostrip= True,\n",
    "                         usecols=columns_numeric,\n",
    "                         filling_values=temporary_fill)\n",
    "load_data_numeric"
   ]
  },
  {
   "cell_type": "code",
   "execution_count": 62,
   "id": "d04896ea-56a8-45b5-802a-fd3a0dfb9894",
   "metadata": {},
   "outputs": [
    {
     "data": {
      "text/plain": [
       "(10000, 6)"
      ]
     },
     "execution_count": 62,
     "metadata": {},
     "output_type": "execute_result"
    }
   ],
   "source": [
    "load_data_numeric.shape"
   ]
  },
  {
   "cell_type": "code",
   "execution_count": 63,
   "id": "cbddbe62-3e9e-475d-8ff3-ec07160d8c49",
   "metadata": {},
   "outputs": [
    {
     "data": {
      "text/plain": [
       "(10000, 8)"
      ]
     },
     "execution_count": 63,
     "metadata": {},
     "output_type": "execute_result"
    }
   ],
   "source": [
    "load_data_strings.shape"
   ]
  },
  {
   "cell_type": "markdown",
   "id": "35ee9755-4649-40e2-9ede-63f837456e31",
   "metadata": {},
   "source": [
    "### Well done we have string two datasets: __String_dataset__ and __Numeric_dataset__"
   ]
  },
  {
   "cell_type": "code",
   "execution_count": null,
   "id": "cef9ce4f-b1b2-4364-9292-6f1bd56e2fab",
   "metadata": {},
   "outputs": [],
   "source": []
  },
  {
   "cell_type": "markdown",
   "id": "aca208fb-d233-4da4-abeb-dd1874993b59",
   "metadata": {},
   "source": [
    "## The Names of the Column"
   ]
  },
  {
   "cell_type": "code",
   "execution_count": 66,
   "id": "8fe9323e-abfa-4f90-815f-a65511678e1d",
   "metadata": {},
   "outputs": [
    {
     "data": {
      "text/plain": [
       "array(['id', 'issue_d', 'loan_amnt', 'loan_status', 'funded_amnt', 'term', 'int_rate',\n",
       "       'installment', 'grade', 'sub_grade', 'verification_status', 'url', 'addr_state',\n",
       "       'total_pymnt'], dtype='<U19')"
      ]
     },
     "execution_count": 66,
     "metadata": {},
     "output_type": "execute_result"
    }
   ],
   "source": [
    "header_full = np.genfromtxt(\"loan-data.csv\",\n",
    "                         delimiter=';',\n",
    "                         encoding=('ISO-8859-1'),\n",
    "                         skip_footer=load_data.shape[0],\n",
    "                         autostrip= True,\n",
    "                         dtype= np.str_)\n",
    "header_full\n",
    "## skip_footer=load_data.shape[0], This will ignore all the rows of the dataset"
   ]
  },
  {
   "cell_type": "markdown",
   "id": "f5e5efc6-4466-452f-996d-7b3792171be3",
   "metadata": {},
   "source": [
    "### let's create two different headers"
   ]
  },
  {
   "cell_type": "code",
   "execution_count": 67,
   "id": "acda7d3a-7ae2-4781-9d68-ece1f5d452d3",
   "metadata": {},
   "outputs": [],
   "source": [
    "header_strings,header_numeric = header_full[columns_strings1],header_full[columns_numeric]"
   ]
  },
  {
   "cell_type": "code",
   "execution_count": 68,
   "id": "f320f627-f185-493a-9a1b-8d7e175e67bd",
   "metadata": {},
   "outputs": [
    {
     "data": {
      "text/plain": [
       "array(['issue_d', 'loan_status', 'term', 'grade', 'sub_grade', 'verification_status', 'url',\n",
       "       'addr_state'], dtype='<U19')"
      ]
     },
     "execution_count": 68,
     "metadata": {},
     "output_type": "execute_result"
    }
   ],
   "source": [
    "header_strings"
   ]
  },
  {
   "cell_type": "code",
   "execution_count": 69,
   "id": "76ba571d-deb0-47bb-a5e8-be116fe865d4",
   "metadata": {},
   "outputs": [
    {
     "data": {
      "text/plain": [
       "(8,)"
      ]
     },
     "execution_count": 69,
     "metadata": {},
     "output_type": "execute_result"
    }
   ],
   "source": [
    "header_strings.shape"
   ]
  },
  {
   "cell_type": "code",
   "execution_count": 70,
   "id": "7b67d231-beed-44f9-8399-518969fb6dbc",
   "metadata": {},
   "outputs": [
    {
     "data": {
      "text/plain": [
       "array(['id', 'loan_amnt', 'funded_amnt', 'int_rate', 'installment', 'total_pymnt'], dtype='<U19')"
      ]
     },
     "execution_count": 70,
     "metadata": {},
     "output_type": "execute_result"
    }
   ],
   "source": [
    "header_numeric"
   ]
  },
  {
   "cell_type": "code",
   "execution_count": 85,
   "id": "3480ca1f-4e90-423b-913b-2909faf37f07",
   "metadata": {},
   "outputs": [
    {
     "data": {
      "text/plain": [
       "(6,)"
      ]
     },
     "execution_count": 85,
     "metadata": {},
     "output_type": "execute_result"
    }
   ],
   "source": [
    "header_numeric.shape"
   ]
  },
  {
   "cell_type": "markdown",
   "id": "b68c847f-f1c7-4c37-bdd7-7c0dc39247e1",
   "metadata": {},
   "source": [
    "## Creating a Checkpoints:\n",
    "#### This will help to save the clean data permanently"
   ]
  },
  {
   "cell_type": "code",
   "execution_count": 86,
   "id": "17ec78e7-eaf7-4639-a06c-74d5272d3b03",
   "metadata": {},
   "outputs": [],
   "source": [
    "def checkpoint(file_name, checkpoint_header, checkpoint_data):\n",
    "    np.savez(file_name, header = checkpoint_header, data= checkpoint_data)\n",
    "    checkpoint_variable = np.load(file_name + \".npz\")\n",
    "    return checkpoint_variable"
   ]
  },
  {
   "cell_type": "code",
   "execution_count": 106,
   "id": "031e5a82-4963-46da-9b3b-0d70ce8a7715",
   "metadata": {},
   "outputs": [],
   "source": [
    "checkpoint_test = checkpoint(\"checkpoint-test\",header_strings,load_data_strings)"
   ]
  },
  {
   "cell_type": "code",
   "execution_count": 107,
   "id": "04538682-9289-4493-b513-8b7b2997e278",
   "metadata": {},
   "outputs": [
    {
     "data": {
      "text/plain": [
       "array(['issue_d', 'loan_status', 'term', 'grade', 'sub_grade', 'verification_status', 'url',\n",
       "       'addr_state'], dtype='<U19')"
      ]
     },
     "execution_count": 107,
     "metadata": {},
     "output_type": "execute_result"
    }
   ],
   "source": [
    "checkpoint_test['header']"
   ]
  },
  {
   "cell_type": "code",
   "execution_count": 108,
   "id": "6a005f47-6b16-46bc-9a27-c2cf3b0c974b",
   "metadata": {},
   "outputs": [
    {
     "data": {
      "text/plain": [
       "array([['May-15', 'Current', '36 months', ..., 'Verified',\n",
       "        'https://www.lendingclub.com/browse/loanDetail.action?loan_id=48010226', 'CA'],\n",
       "       ['', 'Current', '36 months', ..., 'Source Verified',\n",
       "        'https://www.lendingclub.com/browse/loanDetail.action?loan_id=57693261', 'NY'],\n",
       "       ['Sep-15', 'Current', '36 months', ..., 'Verified',\n",
       "        'https://www.lendingclub.com/browse/loanDetail.action?loan_id=59432726', 'PA'],\n",
       "       ...,\n",
       "       ['Jun-15', 'Current', '36 months', ..., 'Source Verified',\n",
       "        'https://www.lendingclub.com/browse/loanDetail.action?loan_id=50415990', 'CA'],\n",
       "       ['Apr-15', 'Current', '36 months', ..., 'Source Verified',\n",
       "        'https://www.lendingclub.com/browse/loanDetail.action?loan_id=46154151', 'OH'],\n",
       "       ['Dec-15', 'Current', '36 months', ..., '',\n",
       "        'https://www.lendingclub.com/browse/loanDetail.action?loan_id=66055249', 'IL']],\n",
       "      dtype='<U69')"
      ]
     },
     "execution_count": 108,
     "metadata": {},
     "output_type": "execute_result"
    }
   ],
   "source": [
    "checkpoint_test['data']"
   ]
  },
  {
   "cell_type": "code",
   "execution_count": 92,
   "id": "2ff65a95-e566-465f-91ee-4fc2875567a8",
   "metadata": {},
   "outputs": [
    {
     "data": {
      "text/plain": [
       "True"
      ]
     },
     "execution_count": 92,
     "metadata": {},
     "output_type": "execute_result"
    }
   ],
   "source": [
    "np.array_equal(checkpoint_test['data'],load_data_strings)\n",
    "\n",
    "## checking the both arrays"
   ]
  },
  {
   "cell_type": "code",
   "execution_count": 93,
   "id": "96a41653-a329-411a-9df4-9811ed6e828f",
   "metadata": {},
   "outputs": [
    {
     "name": "stdout",
     "output_type": "stream",
     "text": [
      "Loan.csv             Pratical1.ipynb      loan-data.csv\n",
      "Loan_y.csv           checkpoint-test.npz\n"
     ]
    }
   ],
   "source": [
    "ls\n"
   ]
  },
  {
   "cell_type": "code",
   "execution_count": 94,
   "id": "401ab790-b8bd-45b2-a5ec-008e1b21932e",
   "metadata": {},
   "outputs": [],
   "source": [
    "checkpoint_test_no = checkpoint(\"checkpoint-test_no\",header_numeric,load_data_numeric)"
   ]
  },
  {
   "cell_type": "code",
   "execution_count": 100,
   "id": "238ca9a7-37f6-418e-b176-e9447a4523ce",
   "metadata": {},
   "outputs": [
    {
     "data": {
      "text/plain": [
       "array([[48010226.  ,    35000.  ,    35000.  ,       13.33,     1184.86,     9452.96],\n",
       "       [57693261.  ,    30000.  ,    30000.  , 68616520.  ,      938.57,     4679.7 ],\n",
       "       [59432726.  ,    15000.  ,    15000.  , 68616520.  ,      494.86,     1969.83],\n",
       "       ...,\n",
       "       [50415990.  ,    10000.  ,    10000.  , 68616520.  , 68616520.  ,     2185.64],\n",
       "       [46154151.  , 68616520.  ,    10000.  ,       16.55,      354.3 ,     3199.4 ],\n",
       "       [66055249.  ,    10000.  ,    10000.  , 68616520.  ,      309.97,      301.9 ]])"
      ]
     },
     "execution_count": 100,
     "metadata": {},
     "output_type": "execute_result"
    }
   ],
   "source": [
    "checkpoint_test_no['data']"
   ]
  },
  {
   "cell_type": "code",
   "execution_count": 97,
   "id": "017ce605-6119-412e-ab8e-d9943fdff2a6",
   "metadata": {},
   "outputs": [],
   "source": []
  },
  {
   "cell_type": "code",
   "execution_count": null,
   "id": "6197e44c-f7bf-4902-8006-003f5463ee03",
   "metadata": {},
   "outputs": [],
   "source": []
  },
  {
   "cell_type": "code",
   "execution_count": 105,
   "id": "7b645a29-5d22-4452-ac0b-b2c6b35c38fe",
   "metadata": {},
   "outputs": [
    {
     "data": {
      "text/plain": [
       "array([['May-15', 'Current', '36 months', ..., 'Verified',\n",
       "        'https://www.lendingclub.com/browse/loanDetail.action?loan_id=48010226', 'CA'],\n",
       "       ['', 'Current', '36 months', ..., 'Source Verified',\n",
       "        'https://www.lendingclub.com/browse/loanDetail.action?loan_id=57693261', 'NY'],\n",
       "       ['Sep-15', 'Current', '36 months', ..., 'Verified',\n",
       "        'https://www.lendingclub.com/browse/loanDetail.action?loan_id=59432726', 'PA'],\n",
       "       ...,\n",
       "       ['Jun-15', 'Current', '36 months', ..., 'Source Verified',\n",
       "        'https://www.lendingclub.com/browse/loanDetail.action?loan_id=50415990', 'CA'],\n",
       "       ['Apr-15', 'Current', '36 months', ..., 'Source Verified',\n",
       "        'https://www.lendingclub.com/browse/loanDetail.action?loan_id=46154151', 'OH'],\n",
       "       ['Dec-15', 'Current', '36 months', ..., '',\n",
       "        'https://www.lendingclub.com/browse/loanDetail.action?loan_id=66055249', 'IL']],\n",
       "      dtype='<U69')"
      ]
     },
     "execution_count": 105,
     "metadata": {},
     "output_type": "execute_result"
    }
   ],
   "source": [
    "load_data_strings"
   ]
  },
  {
   "cell_type": "code",
   "execution_count": null,
   "id": "7b77e998-fa94-48bd-9f9e-bfaeb5208c3b",
   "metadata": {},
   "outputs": [],
   "source": []
  }
 ],
 "metadata": {
  "kernelspec": {
   "display_name": "Python 3",
   "language": "python",
   "name": "python3"
  },
  "language_info": {
   "codemirror_mode": {
    "name": "ipython",
    "version": 3
   },
   "file_extension": ".py",
   "mimetype": "text/x-python",
   "name": "python",
   "nbconvert_exporter": "python",
   "pygments_lexer": "ipython3",
   "version": "3.8.8"
  }
 },
 "nbformat": 4,
 "nbformat_minor": 5
}
