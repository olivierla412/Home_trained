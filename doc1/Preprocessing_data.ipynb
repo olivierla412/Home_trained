{
 "cells": [
  {
   "cell_type": "markdown",
   "id": "21dbc48b-9afc-4f40-b0cc-be3862906a43",
   "metadata": {},
   "source": [
    "## Preprocessing data with Numpy"
   ]
  },
  {
   "cell_type": "code",
   "execution_count": 1,
   "id": "d5a8b243-f780-4d1f-b2d2-f3cceba71a6a",
   "metadata": {},
   "outputs": [],
   "source": [
    "import numpy as np\n",
    "import pandas as pd "
   ]
  },
  {
   "cell_type": "code",
   "execution_count": 2,
   "id": "e2a501f8-c42c-4a3d-8898-8874fa7f5665",
   "metadata": {},
   "outputs": [],
   "source": [
    "lending_co_data_numeric = np.loadtxt('Lending-Company-Numeric-Data.csv',delimiter=',')\n",
    "\n",
    "## we don't got any error message , that mean there no missing value(NAN)"
   ]
  },
  {
   "cell_type": "code",
   "execution_count": 3,
   "id": "43632367-4551-49f4-9d95-a2ee945a1493",
   "metadata": {},
   "outputs": [],
   "source": [
    "data = pd.read_csv('Lending-Company-Numeric-Data.csv')"
   ]
  },
  {
   "cell_type": "code",
   "execution_count": 4,
   "id": "6d0498a1-f72b-49dd-9779-dd29383e3f75",
   "metadata": {},
   "outputs": [
    {
     "data": {
      "text/html": [
       "<div>\n",
       "<style scoped>\n",
       "    .dataframe tbody tr th:only-of-type {\n",
       "        vertical-align: middle;\n",
       "    }\n",
       "\n",
       "    .dataframe tbody tr th {\n",
       "        vertical-align: top;\n",
       "    }\n",
       "\n",
       "    .dataframe thead th {\n",
       "        text-align: right;\n",
       "    }\n",
       "</style>\n",
       "<table border=\"1\" class=\"dataframe\">\n",
       "  <thead>\n",
       "    <tr style=\"text-align: right;\">\n",
       "      <th></th>\n",
       "      <th>2000</th>\n",
       "      <th>40</th>\n",
       "      <th>365</th>\n",
       "      <th>3121</th>\n",
       "      <th>4241</th>\n",
       "      <th>13621</th>\n",
       "    </tr>\n",
       "  </thead>\n",
       "  <tbody>\n",
       "    <tr>\n",
       "      <th>0</th>\n",
       "      <td>2000</td>\n",
       "      <td>40</td>\n",
       "      <td>365</td>\n",
       "      <td>3061</td>\n",
       "      <td>4171</td>\n",
       "      <td>15041</td>\n",
       "    </tr>\n",
       "    <tr>\n",
       "      <th>1</th>\n",
       "      <td>1000</td>\n",
       "      <td>40</td>\n",
       "      <td>365</td>\n",
       "      <td>2160</td>\n",
       "      <td>3280</td>\n",
       "      <td>15340</td>\n",
       "    </tr>\n",
       "  </tbody>\n",
       "</table>\n",
       "</div>"
      ],
      "text/plain": [
       "   2000  40  365  3121  4241  13621\n",
       "0  2000  40  365  3061  4171  15041\n",
       "1  1000  40  365  2160  3280  15340"
      ]
     },
     "execution_count": 4,
     "metadata": {},
     "output_type": "execute_result"
    }
   ],
   "source": [
    "data.head(2)"
   ]
  },
  {
   "cell_type": "code",
   "execution_count": 5,
   "id": "5ca40bda-e9c6-457e-84ae-beebe9c06c7c",
   "metadata": {},
   "outputs": [
    {
     "data": {
      "text/plain": [
       "array([[False, False, False, False, False, False],\n",
       "       [False, False, False, False, False, False],\n",
       "       [False, False, False, False, False, False],\n",
       "       ...,\n",
       "       [False, False, False, False, False, False],\n",
       "       [False, False, False, False, False, False],\n",
       "       [False, False, False, False, False, False]])"
      ]
     },
     "execution_count": 5,
     "metadata": {},
     "output_type": "execute_result"
    }
   ],
   "source": [
    "np.isnan(lending_co_data_numeric)"
   ]
  },
  {
   "cell_type": "code",
   "execution_count": 6,
   "id": "9633cac2-2226-4144-a88e-9061d0d5adc9",
   "metadata": {},
   "outputs": [
    {
     "data": {
      "text/plain": [
       "0"
      ]
     },
     "execution_count": 6,
     "metadata": {},
     "output_type": "execute_result"
    }
   ],
   "source": [
    "np.isnan(lending_co_data_numeric).sum()"
   ]
  },
  {
   "cell_type": "raw",
   "id": "3731cb7f-a6ee-48d9-844e-45912df599ca",
   "metadata": {},
   "source": [
    "lending_co_data_numeric_nan = np.loadtxt('Lending-Company-Numeric-Data-NAN.csv',delimiter=';')\n",
    "\n",
    "## we got error message , that mean there is missing value(NAN)\n",
    "\n",
    "# let's genfromtxt() method"
   ]
  },
  {
   "cell_type": "code",
   "execution_count": 7,
   "id": "8778842a-815b-4a3f-8588-4a231abd566d",
   "metadata": {},
   "outputs": [
    {
     "data": {
      "text/plain": [
       "array([[ 2000.,    40.,   365.,  3121.,  4241., 13621.],\n",
       "       [ 2000.,    40.,   365.,  3061.,  4171., 15041.],\n",
       "       [ 1000.,    40.,   365.,  2160.,  3280., 15340.],\n",
       "       ...,\n",
       "       [   nan,    40.,   365.,  4201.,  5001., 16600.],\n",
       "       [ 1000.,    40.,   365.,  2080.,  3320., 15600.],\n",
       "       [ 2000.,    40.,   365.,  4601.,  4601., 16600.]])"
      ]
     },
     "execution_count": 7,
     "metadata": {},
     "output_type": "execute_result"
    }
   ],
   "source": [
    "lending_co_data_numeric_nan = np.genfromtxt('Lending-Company-Numeric-Data-NAN.csv',delimiter=';')\n",
    "\n",
    "lending_co_data_numeric_nan\n"
   ]
  },
  {
   "cell_type": "code",
   "execution_count": 8,
   "id": "16391d99-18cb-47c9-a6a2-5f8cd2294b1f",
   "metadata": {},
   "outputs": [
    {
     "data": {
      "text/plain": [
       "260"
      ]
     },
     "execution_count": 8,
     "metadata": {},
     "output_type": "execute_result"
    }
   ],
   "source": [
    "np.isnan(lending_co_data_numeric_nan).sum()\n",
    "\n",
    "#this the total missing values"
   ]
  },
  {
   "cell_type": "markdown",
   "id": "bfaf710d-6ad0-4216-aef0-0beef85f7289",
   "metadata": {},
   "source": [
    "## How fill the missing values"
   ]
  },
  {
   "cell_type": "code",
   "execution_count": null,
   "id": "5bb6bf29-b7ba-42cb-96d5-557751e2651e",
   "metadata": {},
   "outputs": [],
   "source": [
    "\n",
    "\n"
   ]
  },
  {
   "cell_type": "code",
   "execution_count": 9,
   "id": "6d45b4f7-ea2f-412c-b430-47bd6a69a822",
   "metadata": {},
   "outputs": [
    {
     "data": {
      "text/plain": [
       "array([ 2250.25,    46.11,   365.  ,  3895.99,  5160.75, 16571.44])"
      ]
     },
     "execution_count": 9,
     "metadata": {},
     "output_type": "execute_result"
    }
   ],
   "source": [
    "## this help to check the mean of each column of tha dataset\n",
    "\n",
    "temporary_mean = np.nanmean(lending_co_data_numeric_nan,axis=0).round(2)\n",
    "temporary_mean"
   ]
  },
  {
   "cell_type": "code",
   "execution_count": 10,
   "id": "6b59bc2c-45a2-4d87-b23c-f35204e1bc51",
   "metadata": {},
   "outputs": [
    {
     "data": {
      "text/plain": [
       "2250.25"
      ]
     },
     "execution_count": 10,
     "metadata": {},
     "output_type": "execute_result"
    }
   ],
   "source": [
    "temporary_mean[0]"
   ]
  },
  {
   "cell_type": "code",
   "execution_count": 11,
   "id": "b59ab218-ff07-4257-b660-f1c4bce69c55",
   "metadata": {},
   "outputs": [],
   "source": [
    "## thsi help to choose the filler value grater than the maximum of the set\n",
    "\n",
    "temporary_fill = np.nanmax(lending_co_data_numeric_nan).round(2) + 1\n",
    "\n",
    "lending_co_data_numeric_nan = np.genfromtxt('Lending-Company-Numeric-Data-NAN.csv',\n",
    "                                            delimiter=';',\n",
    "                                           filling_values=temporary_fill)"
   ]
  },
  {
   "cell_type": "code",
   "execution_count": 12,
   "id": "7406da2c-a91a-450c-9583-275424d14a5c",
   "metadata": {},
   "outputs": [
    {
     "data": {
      "text/plain": [
       "64002.0"
      ]
     },
     "execution_count": 12,
     "metadata": {},
     "output_type": "execute_result"
    }
   ],
   "source": [
    "temporary_fill"
   ]
  },
  {
   "cell_type": "code",
   "execution_count": 13,
   "id": "f4584f0c-79fa-4c2c-bc3e-0b02ec485bd6",
   "metadata": {},
   "outputs": [
    {
     "data": {
      "text/plain": [
       "2250.25"
      ]
     },
     "execution_count": 13,
     "metadata": {},
     "output_type": "execute_result"
    }
   ],
   "source": [
    "temporary_mean[0]\n",
    "\n",
    "## For this coulumn the filler temporary_fill = 64002.0 will outlier\n",
    "\n",
    "## It will be fine the column temporary_mean[0]\n"
   ]
  },
  {
   "cell_type": "code",
   "execution_count": 14,
   "id": "4c41934c-83a7-4da7-a002-c52a8abd63ae",
   "metadata": {},
   "outputs": [
    {
     "data": {
      "text/plain": [
       "4263.25"
      ]
     },
     "execution_count": 14,
     "metadata": {},
     "output_type": "execute_result"
    }
   ],
   "source": [
    "## let's check the dataset without missing value\n",
    "\n",
    "np.mean(lending_co_data_numeric_nan[:,0]).round(2)\n",
    "\n",
    "## [0:0,0:0] = [lower_row : uper_row,lower_col:uper_col]"
   ]
  },
  {
   "cell_type": "raw",
   "id": "87997a8c-7558-4196-b930-7a19e736aa79",
   "metadata": {},
   "source": [
    "revision of slincing an ndarray\n",
    "\n",
    "matrix_A = np.array([[1,0,0,3,1],[3,6,6,2,9],[4,5,3,8,0]])\n",
    "print(matrix_A)\n"
   ]
  },
  {
   "cell_type": "raw",
   "id": "5f29cc0a-42ff-48b5-ac39-09f96a7d400c",
   "metadata": {},
   "source": [
    "matrix_A[2:,4:5]"
   ]
  },
  {
   "cell_type": "code",
   "execution_count": 15,
   "id": "e5e9b15d-44e7-4fd4-be4a-c5871edabe2e",
   "metadata": {},
   "outputs": [
    {
     "data": {
      "text/plain": [
       "4263.25"
      ]
     },
     "execution_count": 15,
     "metadata": {},
     "output_type": "execute_result"
    }
   ],
   "source": [
    "np.mean(lending_co_data_numeric_nan[:,0]).round(2)\n"
   ]
  },
  {
   "cell_type": "code",
   "execution_count": 16,
   "id": "b09fcab5-6d8e-4437-ba8a-ac0c7059a10a",
   "metadata": {},
   "outputs": [
    {
     "data": {
      "text/plain": [
       "2250.25"
      ]
     },
     "execution_count": 16,
     "metadata": {},
     "output_type": "execute_result"
    }
   ],
   "source": [
    "temporary_mean[0]\n"
   ]
  },
  {
   "cell_type": "code",
   "execution_count": 17,
   "id": "37c958ce-964a-4b9e-838f-f9206c3d87c4",
   "metadata": {},
   "outputs": [],
   "source": [
    "lending_co_data_numeric_nan[:,0] = np.where(lending_co_data_numeric_nan[:,0] == temporary_fill,\n",
    "                                            temporary_mean[0],\n",
    "                                            lending_co_data_numeric_nan[:,0]\n",
    "                                           )"
   ]
  },
  {
   "cell_type": "code",
   "execution_count": 18,
   "id": "a79f7c9f-2cc9-40a2-a5a2-a63d5b9169bf",
   "metadata": {},
   "outputs": [
    {
     "data": {
      "text/plain": [
       "2250.25"
      ]
     },
     "execution_count": 18,
     "metadata": {},
     "output_type": "execute_result"
    }
   ],
   "source": [
    "np.mean(lending_co_data_numeric_nan[:,0]).round(2)\n",
    "\n",
    "# new mean"
   ]
  },
  {
   "cell_type": "code",
   "execution_count": 19,
   "id": "1808cbf4-b13a-4145-b3a3-1b4e7f1e8bcd",
   "metadata": {},
   "outputs": [],
   "source": [
    "length = lending_co_data_numeric_nan.shape[1]"
   ]
  },
  {
   "cell_type": "code",
   "execution_count": 20,
   "id": "bec5182a-21e5-4939-8858-950eceb6d01b",
   "metadata": {},
   "outputs": [],
   "source": [
    "for x in range(length):\n",
    "    lending_co_data_numeric_nan[:,x] = np.where(lending_co_data_numeric_nan[:,x] == temporary_fill,\n",
    "                                            temporary_mean[x],\n",
    "                                            lending_co_data_numeric_nan[:,x]\n",
    "                                           )"
   ]
  },
  {
   "cell_type": "code",
   "execution_count": 21,
   "id": "a1625a8d-3894-47b5-930d-b2bb99c2077f",
   "metadata": {},
   "outputs": [
    {
     "data": {
      "text/plain": [
       "array([[ 2000.  ,    40.  ,   365.  ,  3121.  ,  4241.  , 13621.  ],\n",
       "       [ 2000.  ,    40.  ,   365.  ,  3061.  ,  4171.  , 15041.  ],\n",
       "       [ 1000.  ,    40.  ,   365.  ,  2160.  ,  3280.  , 15340.  ],\n",
       "       ...,\n",
       "       [ 2250.25,    40.  ,   365.  ,  4201.  ,  5001.  , 16600.  ],\n",
       "       [ 1000.  ,    40.  ,   365.  ,  2080.  ,  3320.  , 15600.  ],\n",
       "       [ 2000.  ,    40.  ,   365.  ,  4601.  ,  4601.  , 16600.  ]])"
      ]
     },
     "execution_count": 21,
     "metadata": {},
     "output_type": "execute_result"
    }
   ],
   "source": [
    "lending_co_data_numeric_nan"
   ]
  },
  {
   "cell_type": "code",
   "execution_count": 22,
   "id": "39754576-bd71-4105-bf82-83e677013096",
   "metadata": {},
   "outputs": [
    {
     "data": {
      "text/plain": [
       "2250.25"
      ]
     },
     "execution_count": 22,
     "metadata": {},
     "output_type": "execute_result"
    }
   ],
   "source": [
    "np.mean(lending_co_data_numeric_nan[:,0]).round(2)\n"
   ]
  },
  {
   "cell_type": "code",
   "execution_count": 23,
   "id": "f9bb01bd-ba4c-4ac2-833d-a2a44dfa0341",
   "metadata": {},
   "outputs": [],
   "source": [
    "np.savetxt('data_numeric_nan.csv',lending_co_data_numeric_nan,\n",
    "          fmt='%d',\n",
    "          delimiter=',')"
   ]
  },
  {
   "cell_type": "code",
   "execution_count": 24,
   "id": "08c867ee-cca0-4400-92a8-38ec50e7c53d",
   "metadata": {},
   "outputs": [],
   "source": [
    "df =pd.read_csv('data_numeric_nan.csv')"
   ]
  },
  {
   "cell_type": "code",
   "execution_count": 37,
   "id": "88be5253-fd60-41c2-b7b7-49fb59039eb6",
   "metadata": {},
   "outputs": [
    {
     "data": {
      "text/html": [
       "<div>\n",
       "<style scoped>\n",
       "    .dataframe tbody tr th:only-of-type {\n",
       "        vertical-align: middle;\n",
       "    }\n",
       "\n",
       "    .dataframe tbody tr th {\n",
       "        vertical-align: top;\n",
       "    }\n",
       "\n",
       "    .dataframe thead th {\n",
       "        text-align: right;\n",
       "    }\n",
       "</style>\n",
       "<table border=\"1\" class=\"dataframe\">\n",
       "  <thead>\n",
       "    <tr style=\"text-align: right;\">\n",
       "      <th></th>\n",
       "      <th>2000</th>\n",
       "      <th>40</th>\n",
       "      <th>365</th>\n",
       "      <th>3121</th>\n",
       "      <th>4241</th>\n",
       "      <th>13621</th>\n",
       "    </tr>\n",
       "  </thead>\n",
       "  <tbody>\n",
       "    <tr>\n",
       "      <th>0</th>\n",
       "      <td>2000</td>\n",
       "      <td>40</td>\n",
       "      <td>365</td>\n",
       "      <td>3061</td>\n",
       "      <td>4171</td>\n",
       "      <td>15041</td>\n",
       "    </tr>\n",
       "  </tbody>\n",
       "</table>\n",
       "</div>"
      ],
      "text/plain": [
       "   2000  40  365  3121  4241  13621\n",
       "0  2000  40  365  3061  4171  15041"
      ]
     },
     "execution_count": 37,
     "metadata": {},
     "output_type": "execute_result"
    }
   ],
   "source": [
    "df.head(1)"
   ]
  },
  {
   "cell_type": "code",
   "execution_count": 28,
   "id": "a7700251-0257-4ccc-ae0a-270ac8e91f26",
   "metadata": {},
   "outputs": [
    {
     "data": {
      "text/plain": [
       "46.10652591170825"
      ]
     },
     "execution_count": 28,
     "metadata": {},
     "output_type": "execute_result"
    }
   ],
   "source": [
    "ddd = df['40'].mean()\n",
    "ddd"
   ]
  },
  {
   "cell_type": "code",
   "execution_count": null,
   "id": "5c2e498f-9c96-43c7-8a79-51e28e85eda7",
   "metadata": {},
   "outputs": [],
   "source": [
    "type(ddd)"
   ]
  },
  {
   "cell_type": "code",
   "execution_count": 29,
   "id": "98ee1473-c7fb-4618-b9b2-19ba44c31e03",
   "metadata": {},
   "outputs": [
    {
     "data": {
      "text/html": [
       "<div>\n",
       "<style scoped>\n",
       "    .dataframe tbody tr th:only-of-type {\n",
       "        vertical-align: middle;\n",
       "    }\n",
       "\n",
       "    .dataframe tbody tr th {\n",
       "        vertical-align: top;\n",
       "    }\n",
       "\n",
       "    .dataframe thead th {\n",
       "        text-align: right;\n",
       "    }\n",
       "</style>\n",
       "<table border=\"1\" class=\"dataframe\">\n",
       "  <thead>\n",
       "    <tr style=\"text-align: right;\">\n",
       "      <th></th>\n",
       "      <th>2000</th>\n",
       "      <th>40</th>\n",
       "      <th>365</th>\n",
       "      <th>3121</th>\n",
       "      <th>4241</th>\n",
       "      <th>13621</th>\n",
       "    </tr>\n",
       "  </thead>\n",
       "  <tbody>\n",
       "    <tr>\n",
       "      <th>count</th>\n",
       "      <td>1042.000000</td>\n",
       "      <td>1042.000000</td>\n",
       "      <td>1042.0</td>\n",
       "      <td>1042.000000</td>\n",
       "      <td>1042.000000</td>\n",
       "      <td>1042.000000</td>\n",
       "    </tr>\n",
       "    <tr>\n",
       "      <th>mean</th>\n",
       "      <td>2250.479846</td>\n",
       "      <td>46.106526</td>\n",
       "      <td>365.0</td>\n",
       "      <td>3896.677543</td>\n",
       "      <td>5161.606526</td>\n",
       "      <td>16574.257198</td>\n",
       "    </tr>\n",
       "    <tr>\n",
       "      <th>std</th>\n",
       "      <td>1330.027034</td>\n",
       "      <td>12.678966</td>\n",
       "      <td>0.0</td>\n",
       "      <td>2466.087289</td>\n",
       "      <td>2710.298776</td>\n",
       "      <td>5911.707292</td>\n",
       "    </tr>\n",
       "    <tr>\n",
       "      <th>min</th>\n",
       "      <td>1000.000000</td>\n",
       "      <td>35.000000</td>\n",
       "      <td>365.0</td>\n",
       "      <td>-2870.000000</td>\n",
       "      <td>-2870.000000</td>\n",
       "      <td>-350.000000</td>\n",
       "    </tr>\n",
       "    <tr>\n",
       "      <th>25%</th>\n",
       "      <td>2000.000000</td>\n",
       "      <td>40.000000</td>\n",
       "      <td>365.0</td>\n",
       "      <td>2905.000000</td>\n",
       "      <td>3851.000000</td>\n",
       "      <td>14628.250000</td>\n",
       "    </tr>\n",
       "    <tr>\n",
       "      <th>50%</th>\n",
       "      <td>2000.000000</td>\n",
       "      <td>40.000000</td>\n",
       "      <td>365.0</td>\n",
       "      <td>3441.000000</td>\n",
       "      <td>4601.000000</td>\n",
       "      <td>16571.000000</td>\n",
       "    </tr>\n",
       "    <tr>\n",
       "      <th>75%</th>\n",
       "      <td>2000.000000</td>\n",
       "      <td>50.000000</td>\n",
       "      <td>365.0</td>\n",
       "      <td>4875.000000</td>\n",
       "      <td>6242.750000</td>\n",
       "      <td>19225.000000</td>\n",
       "    </tr>\n",
       "    <tr>\n",
       "      <th>max</th>\n",
       "      <td>9000.000000</td>\n",
       "      <td>165.000000</td>\n",
       "      <td>365.0</td>\n",
       "      <td>17650.000000</td>\n",
       "      <td>20001.000000</td>\n",
       "      <td>64001.000000</td>\n",
       "    </tr>\n",
       "  </tbody>\n",
       "</table>\n",
       "</div>"
      ],
      "text/plain": [
       "              2000           40     365          3121          4241  \\\n",
       "count  1042.000000  1042.000000  1042.0   1042.000000   1042.000000   \n",
       "mean   2250.479846    46.106526   365.0   3896.677543   5161.606526   \n",
       "std    1330.027034    12.678966     0.0   2466.087289   2710.298776   \n",
       "min    1000.000000    35.000000   365.0  -2870.000000  -2870.000000   \n",
       "25%    2000.000000    40.000000   365.0   2905.000000   3851.000000   \n",
       "50%    2000.000000    40.000000   365.0   3441.000000   4601.000000   \n",
       "75%    2000.000000    50.000000   365.0   4875.000000   6242.750000   \n",
       "max    9000.000000   165.000000   365.0  17650.000000  20001.000000   \n",
       "\n",
       "              13621  \n",
       "count   1042.000000  \n",
       "mean   16574.257198  \n",
       "std     5911.707292  \n",
       "min     -350.000000  \n",
       "25%    14628.250000  \n",
       "50%    16571.000000  \n",
       "75%    19225.000000  \n",
       "max    64001.000000  "
      ]
     },
     "execution_count": 29,
     "metadata": {},
     "output_type": "execute_result"
    }
   ],
   "source": [
    "df.describe()"
   ]
  },
  {
   "cell_type": "code",
   "execution_count": 36,
   "id": "2514d8c7-72ad-49b8-998f-82f7e28a91ce",
   "metadata": {},
   "outputs": [],
   "source": [
    "np.savetxt('data_no.csv',lending_co_data_numeric_nan,\n",
    "          fmt='%d',\n",
    "          delimiter=',')"
   ]
  },
  {
   "cell_type": "markdown",
   "id": "7f1e5492-723c-4670-bd25-b93a2b7b5ba9",
   "metadata": {},
   "source": [
    "## Reshaping Array"
   ]
  },
  {
   "cell_type": "code",
   "execution_count": 41,
   "id": "6a6d7d04-1af4-4e29-b1a3-398d342848a6",
   "metadata": {},
   "outputs": [],
   "source": [
    "lending_co_data_numerica = np.loadtxt('Lending-company-Numeric.csv',delimiter=',')"
   ]
  },
  {
   "cell_type": "code",
   "execution_count": 42,
   "id": "6e554384-44a1-48b9-bb8a-69ad8585fef7",
   "metadata": {},
   "outputs": [
    {
     "data": {
      "text/plain": [
       "array([[ 2000.,    40.,   365.,  3121.,  4241., 13621.],\n",
       "       [ 2000.,    40.,   365.,  3061.,  4171., 15041.],\n",
       "       [ 1000.,    40.,   365.,  2160.,  3280., 15340.],\n",
       "       ...,\n",
       "       [ 2000.,    40.,   365.,  4201.,  5001., 16600.],\n",
       "       [ 1000.,    40.,   365.,  2080.,  3320., 15600.],\n",
       "       [ 2000.,    40.,   365.,  4601.,  4601., 16600.]])"
      ]
     },
     "execution_count": 42,
     "metadata": {},
     "output_type": "execute_result"
    }
   ],
   "source": [
    "lending_co_data_numerica"
   ]
  },
  {
   "cell_type": "code",
   "execution_count": 45,
   "id": "859df1ba-e7cd-497f-809f-23ee8e65341e",
   "metadata": {},
   "outputs": [
    {
     "data": {
      "text/plain": [
       "(1043, 6)"
      ]
     },
     "execution_count": 45,
     "metadata": {},
     "output_type": "execute_result"
    }
   ],
   "source": [
    "lending_co_data_numerica.shape"
   ]
  },
  {
   "cell_type": "code",
   "execution_count": 46,
   "id": "edee56c0-d41c-4156-995e-4a3822b6d3b9",
   "metadata": {},
   "outputs": [
    {
     "data": {
      "text/plain": [
       "array([[ 2000.,    40.,   365., ...,   365.,  1581.,  3041.],\n",
       "       [12277.,  2000.,    40., ...,    50.,   365.,  5350.],\n",
       "       [ 6850., 15150.,  1000., ...,  2000.,    40.,   365.],\n",
       "       [ 3101.,  4351., 16600., ..., 16600.,  2000.,    40.],\n",
       "       [  365.,  3441.,  4661., ...,  8450., 22250.,  2000.],\n",
       "       [   40.,   365.,  3701., ...,  4601.,  4601., 16600.]])"
      ]
     },
     "execution_count": 46,
     "metadata": {},
     "output_type": "execute_result"
    }
   ],
   "source": [
    "np.reshape(lending_co_data_numerica,(6,1043))"
   ]
  },
  {
   "cell_type": "code",
   "execution_count": 47,
   "id": "5634c944-8b1b-4068-b4c5-816e3a6e51d1",
   "metadata": {},
   "outputs": [
    {
     "data": {
      "text/plain": [
       "array([[ 2000.,  2000.,  1000., ...,  2000.,  1000.,  2000.],\n",
       "       [   40.,    40.,    40., ...,    40.,    40.,    40.],\n",
       "       [  365.,   365.,   365., ...,   365.,   365.,   365.],\n",
       "       [ 3121.,  3061.,  2160., ...,  4201.,  2080.,  4601.],\n",
       "       [ 4241.,  4171.,  3280., ...,  5001.,  3320.,  4601.],\n",
       "       [13621., 15041., 15340., ..., 16600., 15600., 16600.]])"
      ]
     },
     "execution_count": 47,
     "metadata": {},
     "output_type": "execute_result"
    }
   ],
   "source": [
    "## to get back to the current shape\n",
    "\n",
    "np.transpose(lending_co_data_numerica)"
   ]
  },
  {
   "cell_type": "code",
   "execution_count": 50,
   "id": "0e59fade-79fa-4345-9fe0-df146f56b28b",
   "metadata": {},
   "outputs": [
    {
     "data": {
      "text/plain": [
       "array([[ 2000.,    40.,   365., ...,   365.,  1581.,  3041.],\n",
       "       [12277.,  2000.,    40., ...,    50.,   365.,  5350.],\n",
       "       [ 6850., 15150.,  1000., ...,  2000.,    40.,   365.],\n",
       "       [ 3101.,  4351., 16600., ..., 16600.,  2000.,    40.],\n",
       "       [  365.,  3441.,  4661., ...,  8450., 22250.,  2000.],\n",
       "       [   40.,   365.,  3701., ...,  4601.,  4601., 16600.]])"
      ]
     },
     "execution_count": 50,
     "metadata": {},
     "output_type": "execute_result"
    }
   ],
   "source": [
    "## second way\n",
    "\n",
    "lending_co_data_numerica.reshape(6,1043)"
   ]
  },
  {
   "cell_type": "markdown",
   "id": "3a87458f-cf48-42c6-ac8d-832382db54ef",
   "metadata": {},
   "source": [
    "## Sorting Data"
   ]
  },
  {
   "cell_type": "code",
   "execution_count": 51,
   "id": "4d1773cf-06a2-4237-80f4-b819d773eb59",
   "metadata": {},
   "outputs": [
    {
     "data": {
      "text/plain": [
       "array([[   40.,   365.,  2000.,  3121.,  4241., 13621.],\n",
       "       [   40.,   365.,  2000.,  3061.,  4171., 15041.],\n",
       "       [   40.,   365.,  1000.,  2160.,  3280., 15340.],\n",
       "       ...,\n",
       "       [   40.,   365.,  2000.,  4201.,  5001., 16600.],\n",
       "       [   40.,   365.,  1000.,  2080.,  3320., 15600.],\n",
       "       [   40.,   365.,  2000.,  4601.,  4601., 16600.]])"
      ]
     },
     "execution_count": 51,
     "metadata": {},
     "output_type": "execute_result"
    }
   ],
   "source": [
    "np.sort(lending_co_data_numerica)"
   ]
  },
  {
   "cell_type": "markdown",
   "id": "1c57d760-b8e2-4b01-887d-f9d27a6695f4",
   "metadata": {},
   "source": [
    "### let's sort the array in descending order by adding minus (-)"
   ]
  },
  {
   "cell_type": "code",
   "execution_count": 52,
   "id": "8ed4c8ca-90c0-42c9-8312-d1d00887b1f0",
   "metadata": {},
   "outputs": [
    {
     "data": {
      "text/plain": [
       "array([[-13621.,  -4241.,  -3121.,  -2000.,   -365.,    -40.],\n",
       "       [-15041.,  -4171.,  -3061.,  -2000.,   -365.,    -40.],\n",
       "       [-15340.,  -3280.,  -2160.,  -1000.,   -365.,    -40.],\n",
       "       ...,\n",
       "       [-16600.,  -5001.,  -4201.,  -2000.,   -365.,    -40.],\n",
       "       [-15600.,  -3320.,  -2080.,  -1000.,   -365.,    -40.],\n",
       "       [-16600.,  -4601.,  -4601.,  -2000.,   -365.,    -40.]])"
      ]
     },
     "execution_count": 52,
     "metadata": {},
     "output_type": "execute_result"
    }
   ],
   "source": [
    "arr1 = np.sort(-lending_co_data_numerica)\n",
    "arr1"
   ]
  },
  {
   "cell_type": "code",
   "execution_count": 53,
   "id": "2ec005e4-86e9-4c69-8eaa-2985350e7231",
   "metadata": {},
   "outputs": [],
   "source": [
    "arr2 = -arr1"
   ]
  },
  {
   "cell_type": "code",
   "execution_count": 54,
   "id": "f2375048-2b95-466d-bc8e-e5c754bb6c87",
   "metadata": {},
   "outputs": [
    {
     "data": {
      "text/plain": [
       "array([[13621.,  4241.,  3121.,  2000.,   365.,    40.],\n",
       "       [15041.,  4171.,  3061.,  2000.,   365.,    40.],\n",
       "       [15340.,  3280.,  2160.,  1000.,   365.,    40.],\n",
       "       ...,\n",
       "       [16600.,  5001.,  4201.,  2000.,   365.,    40.],\n",
       "       [15600.,  3320.,  2080.,  1000.,   365.,    40.],\n",
       "       [16600.,  4601.,  4601.,  2000.,   365.,    40.]])"
      ]
     },
     "execution_count": 54,
     "metadata": {},
     "output_type": "execute_result"
    }
   ],
   "source": [
    "arr2"
   ]
  },
  {
   "cell_type": "code",
   "execution_count": 55,
   "id": "aeba082e-32d9-4c2d-85d7-187be26a7262",
   "metadata": {},
   "outputs": [
    {
     "data": {
      "text/plain": [
       "array([[13621., 15041., 15340., ..., 16600., 15600., 16600.],\n",
       "       [ 4241.,  4171.,  3280., ...,  5001.,  3320.,  4601.],\n",
       "       [ 3121.,  3061.,  2160., ...,  4201.,  2080.,  4601.],\n",
       "       [ 2000.,  2000.,  1000., ...,  2000.,  1000.,  2000.],\n",
       "       [  365.,   365.,   365., ...,   365.,   365.,   365.],\n",
       "       [   40.,    40.,    40., ...,    40.,    40.,    40.]])"
      ]
     },
     "execution_count": 55,
     "metadata": {},
     "output_type": "execute_result"
    }
   ],
   "source": [
    "np.transpose(arr2)"
   ]
  },
  {
   "cell_type": "markdown",
   "id": "9c2a27e0-dc1e-4479-9d08-b4cf1ad6208c",
   "metadata": {},
   "source": [
    "### How to sort a specific colum data ?"
   ]
  },
  {
   "cell_type": "code",
   "execution_count": 56,
   "id": "f325cbdc-1d01-4abc-8a68-d0d4d6833f5c",
   "metadata": {},
   "outputs": [
    {
     "data": {
      "text/plain": [
       "array([[ 2000.,    40.,   365.,  3121.,  4241., 13621.],\n",
       "       [ 2000.,    40.,   365.,  3061.,  4171., 15041.],\n",
       "       [ 1000.,    40.,   365.,  2160.,  3280., 15340.],\n",
       "       ...,\n",
       "       [ 2000.,    40.,   365.,  4201.,  5001., 16600.],\n",
       "       [ 1000.,    40.,   365.,  2080.,  3320., 15600.],\n",
       "       [ 2000.,    40.,   365.,  4601.,  4601., 16600.]])"
      ]
     },
     "execution_count": 56,
     "metadata": {},
     "output_type": "execute_result"
    }
   ],
   "source": [
    "lending_co_data_numerica"
   ]
  },
  {
   "cell_type": "code",
   "execution_count": 57,
   "id": "82e050ce-5b58-4d46-b643-1864c0d74ae7",
   "metadata": {},
   "outputs": [
    {
     "data": {
      "text/plain": [
       "array([-2870., -2550., -2450., ..., 16751., 17650., 19001.])"
      ]
     },
     "execution_count": 57,
     "metadata": {},
     "output_type": "execute_result"
    }
   ],
   "source": [
    "np.sort(lending_co_data_numerica[:,3])"
   ]
  },
  {
   "cell_type": "code",
   "execution_count": 58,
   "id": "5795b4e1-9b58-40c5-9af5-6c768f97f2d9",
   "metadata": {},
   "outputs": [],
   "source": [
    "lending_co_data_numerica[:,3].sort()"
   ]
  },
  {
   "cell_type": "code",
   "execution_count": 59,
   "id": "ffcb2215-e86e-49ff-a094-2b4181aafcb2",
   "metadata": {},
   "outputs": [
    {
     "data": {
      "text/plain": [
       "array([[ 2000.,    40.,   365., -2870.,  4241., 13621.],\n",
       "       [ 2000.,    40.,   365., -2550.,  4171., 15041.],\n",
       "       [ 1000.,    40.,   365., -2450.,  3280., 15340.],\n",
       "       ...,\n",
       "       [ 2000.,    40.,   365., 16751.,  5001., 16600.],\n",
       "       [ 1000.,    40.,   365., 17650.,  3320., 15600.],\n",
       "       [ 2000.,    40.,   365., 19001.,  4601., 16600.]])"
      ]
     },
     "execution_count": 59,
     "metadata": {},
     "output_type": "execute_result"
    }
   ],
   "source": [
    "lending_co_data_numerica"
   ]
  },
  {
   "cell_type": "markdown",
   "id": "3d6c9ea5-de70-4da7-b590-24dd4286e548",
   "metadata": {},
   "source": [
    "## sorting only the column 2"
   ]
  },
  {
   "cell_type": "code",
   "execution_count": 67,
   "id": "d26a81c6-2c97-47a4-bde7-557acd945011",
   "metadata": {},
   "outputs": [],
   "source": [
    "lending_co_data_numerica[:,1].sort()"
   ]
  },
  {
   "cell_type": "code",
   "execution_count": 68,
   "id": "539f58ea-182b-4c6b-9a6a-94a2ab5d0db7",
   "metadata": {},
   "outputs": [
    {
     "data": {
      "text/plain": [
       "array([[ 2000.,    35.,   365., -2870.,  4241., 13621.],\n",
       "       [ 2000.,    35.,   365., -2550.,  4171., 15041.],\n",
       "       [ 1000.,    35.,   365., -2450.,  3280., 15340.],\n",
       "       ...,\n",
       "       [ 2000.,   125.,   365., 16751.,  5001., 16600.],\n",
       "       [ 1000.,   165.,   365., 17650.,  3320., 15600.],\n",
       "       [ 2000.,   165.,   365., 19001.,  4601., 16600.]])"
      ]
     },
     "execution_count": 68,
     "metadata": {},
     "output_type": "execute_result"
    }
   ],
   "source": [
    "lending_co_data_numerica"
   ]
  },
  {
   "cell_type": "code",
   "execution_count": 69,
   "id": "e3568d02-fdae-4f32-9bb4-e97e90952336",
   "metadata": {},
   "outputs": [
    {
     "data": {
      "text/plain": [
       "35.0"
      ]
     },
     "execution_count": 69,
     "metadata": {},
     "output_type": "execute_result"
    }
   ],
   "source": [
    "## checking the minimum of the 2nd cloumn\n",
    "\n",
    "lending_co_data_numerica[:,1].min()"
   ]
  },
  {
   "cell_type": "code",
   "execution_count": 70,
   "id": "09f35e15-ea8d-491c-9eef-fb8e9c3024ec",
   "metadata": {},
   "outputs": [
    {
     "data": {
      "text/plain": [
       "35.0"
      ]
     },
     "execution_count": 70,
     "metadata": {},
     "output_type": "execute_result"
    }
   ],
   "source": [
    "np.min(lending_co_data_numerica[:,1])"
   ]
  },
  {
   "cell_type": "code",
   "execution_count": 73,
   "id": "fc1af724-d0ef-4186-aeab-0ec0ede42a5b",
   "metadata": {},
   "outputs": [],
   "source": [
    "## sorting only the first row\n",
    "\n",
    "lending_co_data_numerica[0:1,].sort()"
   ]
  },
  {
   "cell_type": "code",
   "execution_count": 74,
   "id": "c2bb6eee-b70c-4677-8ad7-0c0d6d356bed",
   "metadata": {},
   "outputs": [
    {
     "data": {
      "text/plain": [
       "array([[-2870.,    35.,   365.,  2000.,  4241., 13621.],\n",
       "       [-2550.,    35.,   365.,  2000.,  4171., 15041.],\n",
       "       [-2450.,    35.,   365.,  1000.,  3280., 15340.],\n",
       "       ...,\n",
       "       [  125.,   365.,  2000.,  5001., 16600., 16751.],\n",
       "       [  165.,   365.,  1000.,  3320., 15600., 17650.],\n",
       "       [  165.,   365.,  2000.,  4601., 16600., 19001.]])"
      ]
     },
     "execution_count": 74,
     "metadata": {},
     "output_type": "execute_result"
    }
   ],
   "source": [
    "lending_co_data_numerica"
   ]
  },
  {
   "cell_type": "code",
   "execution_count": 77,
   "id": "a87e8985-cb53-4614-a3a9-1106aeb690c3",
   "metadata": {},
   "outputs": [
    {
     "data": {
      "text/plain": [
       "array([[-2870.,    35.,   365.,  2000.,  4241., 13621.]])"
      ]
     },
     "execution_count": 77,
     "metadata": {},
     "output_type": "execute_result"
    }
   ],
   "source": [
    "lending_co_data_numerica[0:1,]\n",
    "\n",
    "## this will selected only the first row of the dataset"
   ]
  },
  {
   "cell_type": "code",
   "execution_count": 78,
   "id": "48326ae4-d907-4629-b644-f86e2012e374",
   "metadata": {},
   "outputs": [
    {
     "data": {
      "text/plain": [
       "array([[-2.8700e+03, -3.5000e+02,  4.0000e+01,  3.6500e+02,  1.0000e+03,\n",
       "         1.1600e+03],\n",
       "       [-2.8700e+03,  3.5000e+01,  1.0000e+02,  3.6500e+02,  1.0000e+03,\n",
       "         1.5000e+03],\n",
       "       [-2.5500e+03,  3.5000e+01,  1.5000e+02,  3.6500e+02,  1.0000e+03,\n",
       "         2.2000e+03],\n",
       "       ...,\n",
       "       [ 1.2500e+02,  3.6500e+02,  7.2510e+03,  9.2010e+03,  1.8751e+04,\n",
       "         5.4625e+04],\n",
       "       [ 1.6500e+02,  3.6500e+02,  9.0000e+03,  1.2126e+04,  2.0001e+04,\n",
       "         5.4625e+04],\n",
       "       [ 1.6500e+02,  3.6500e+02,  9.0000e+03,  1.3900e+04,  2.2001e+04,\n",
       "         6.4001e+04]])"
      ]
     },
     "execution_count": 78,
     "metadata": {},
     "output_type": "execute_result"
    }
   ],
   "source": [
    "### To sort the entire dataset and column wise set axis =0\n",
    "\n",
    "lending_co_data_numerica.sort(axis =0)\n",
    "lending_co_data_numerica\n"
   ]
  },
  {
   "cell_type": "markdown",
   "id": "c3b898f2-2093-4cbd-9dc0-e7654b42f723",
   "metadata": {},
   "source": [
    "## This help to change the exponential to fixe number"
   ]
  },
  {
   "cell_type": "code",
   "execution_count": 79,
   "id": "89792967-d1b1-4ddd-a600-89c1431a4af4",
   "metadata": {},
   "outputs": [],
   "source": [
    "np.set_printoptions(suppress= True)"
   ]
  },
  {
   "cell_type": "code",
   "execution_count": 80,
   "id": "a32ce237-5a66-4979-b884-5fd591d4c030",
   "metadata": {},
   "outputs": [
    {
     "data": {
      "text/plain": [
       "array([[-2870.,  -350.,    40.,   365.,  1000.,  1160.],\n",
       "       [-2870.,    35.,   100.,   365.,  1000.,  1500.],\n",
       "       [-2550.,    35.,   150.,   365.,  1000.,  2200.],\n",
       "       ...,\n",
       "       [  125.,   365.,  7251.,  9201., 18751., 54625.],\n",
       "       [  165.,   365.,  9000., 12126., 20001., 54625.],\n",
       "       [  165.,   365.,  9000., 13900., 22001., 64001.]])"
      ]
     },
     "execution_count": 80,
     "metadata": {},
     "output_type": "execute_result"
    }
   ],
   "source": [
    "lending_co_data_numerica"
   ]
  },
  {
   "cell_type": "markdown",
   "id": "62995f3d-fd68-4945-bf64-153ee1e0b96c",
   "metadata": {},
   "source": [
    "## Argument Functions"
   ]
  },
  {
   "cell_type": "code",
   "execution_count": 87,
   "id": "c8736f40-7bb2-4fda-91c0-bfb9480b6161",
   "metadata": {},
   "outputs": [
    {
     "data": {
      "text/plain": [
       "array([[ 2000.,    40.,   365.,  3121.,  4241., 13621.],\n",
       "       [ 2000.,    40.,   365.,  3061.,  4171., 15041.],\n",
       "       [ 1000.,    40.,   365.,  2160.,  3280., 15340.],\n",
       "       ...,\n",
       "       [ 2000.,    40.,   365.,  4201.,  5001., 16600.],\n",
       "       [ 1000.,    40.,   365.,  2080.,  3320., 15600.],\n",
       "       [ 2000.,    40.,   365.,  4601.,  4601., 16600.]])"
      ]
     },
     "execution_count": 87,
     "metadata": {},
     "output_type": "execute_result"
    }
   ],
   "source": [
    "lending_co_data_numericb = np.loadtxt('Lending-company-Numeric.csv',delimiter=',')\n",
    "lending_co_data_numericb"
   ]
  },
  {
   "cell_type": "markdown",
   "id": "7544bbba-ac80-4eb3-aa65-c1b6d7176704",
   "metadata": {},
   "source": [
    "### __np.argsort()__ method for sorting array"
   ]
  },
  {
   "cell_type": "code",
   "execution_count": 88,
   "id": "0a1fc9c7-1167-4405-bbd4-b5e0f60aa047",
   "metadata": {},
   "outputs": [
    {
     "data": {
      "text/plain": [
       "array([[1, 2, 0, 3, 4, 5],\n",
       "       [1, 2, 0, 3, 4, 5],\n",
       "       [1, 2, 0, 3, 4, 5],\n",
       "       ...,\n",
       "       [1, 2, 0, 3, 4, 5],\n",
       "       [1, 2, 0, 3, 4, 5],\n",
       "       [1, 2, 0, 3, 4, 5]])"
      ]
     },
     "execution_count": 88,
     "metadata": {},
     "output_type": "execute_result"
    }
   ],
   "source": [
    "## example\n",
    "np.argsort(lending_co_data_numericb)"
   ]
  },
  {
   "cell_type": "code",
   "execution_count": 89,
   "id": "f5c71d40-1cc9-4f1f-a6c5-284659ed1d32",
   "metadata": {},
   "outputs": [],
   "source": [
    "lending_co_data_numericb.sort()"
   ]
  },
  {
   "cell_type": "code",
   "execution_count": 90,
   "id": "3450debd-15e2-46f9-82ae-9643820b6596",
   "metadata": {},
   "outputs": [
    {
     "data": {
      "text/plain": [
       "array([[   40.,   365.,  2000.,  3121.,  4241., 13621.],\n",
       "       [   40.,   365.,  2000.,  3061.,  4171., 15041.],\n",
       "       [   40.,   365.,  1000.,  2160.,  3280., 15340.],\n",
       "       ...,\n",
       "       [   40.,   365.,  2000.,  4201.,  5001., 16600.],\n",
       "       [   40.,   365.,  1000.,  2080.,  3320., 15600.],\n",
       "       [   40.,   365.,  2000.,  4601.,  4601., 16600.]])"
      ]
     },
     "execution_count": 90,
     "metadata": {},
     "output_type": "execute_result"
    }
   ],
   "source": [
    "lending_co_data_numericb"
   ]
  },
  {
   "cell_type": "code",
   "execution_count": 91,
   "id": "79a0194a-a120-4c3c-9e7f-4f79c08d97a6",
   "metadata": {},
   "outputs": [
    {
     "data": {
      "text/plain": [
       "array([[  32,   32,  482,  482,  482,  493],\n",
       "       [ 166,  166,  218,  493,  493,  482],\n",
       "       [  85,   85,  227,  448,  635,  166],\n",
       "       ...,\n",
       "       [ 442,  367,  202,  568, 1019,  568],\n",
       "       [ 408,  354,  288,  718, 1033,  534],\n",
       "       [  27, 1042,  234,  912,  912,   27]])"
      ]
     },
     "execution_count": 91,
     "metadata": {},
     "output_type": "execute_result"
    }
   ],
   "source": [
    "np.argsort(lending_co_data_numericb,axis = 0)"
   ]
  },
  {
   "cell_type": "code",
   "execution_count": 94,
   "id": "85e0f292-3e21-4196-8c7c-f2d21e53841d",
   "metadata": {},
   "outputs": [
    {
     "data": {
      "text/plain": [
       "array([40., 40., 40., ..., 40., 40., 40.])"
      ]
     },
     "execution_count": 94,
     "metadata": {},
     "output_type": "execute_result"
    }
   ],
   "source": [
    "lending_co_data_numericb[:,0]"
   ]
  },
  {
   "cell_type": "markdown",
   "id": "a01fdbda-5001-496d-a8fe-b543c73107a3",
   "metadata": {},
   "source": [
    "### Let's sort the dataset base on the first column"
   ]
  },
  {
   "cell_type": "code",
   "execution_count": 95,
   "id": "1756efba-aec7-4a65-a0ae-24a2853710cc",
   "metadata": {},
   "outputs": [],
   "source": [
    "lending_co_data_numericb = lending_co_data_numericb[np.argsort(lending_co_data_numericb[:,0])]"
   ]
  },
  {
   "cell_type": "code",
   "execution_count": 96,
   "id": "c2c23b96-6c5b-4a9b-91c2-c7d168f15458",
   "metadata": {},
   "outputs": [
    {
     "data": {
      "text/plain": [
       "array([[-2870., -2870.,    50.,   365.,  1000.,  1160.],\n",
       "       [-2550., -2100.,    50.,   365.,  1000.,  1100.],\n",
       "       [-2450., -2000.,    50.,   365.,  1000.,  1500.],\n",
       "       ...,\n",
       "       [  125.,   365.,  9000., 12701., 16331., 52681.],\n",
       "       [  165.,   365.,  9000., 14460., 18050., 37903.],\n",
       "       [  165.,   365.,  9000., 14501., 16846., 64001.]])"
      ]
     },
     "execution_count": 96,
     "metadata": {},
     "output_type": "execute_result"
    }
   ],
   "source": [
    "lending_co_data_numericb"
   ]
  },
  {
   "cell_type": "markdown",
   "id": "25774b49-7d82-4fdd-a869-8464fcd75202",
   "metadata": {},
   "source": [
    "## __np.argwhere()__ , How it works? let's analyse it.\n",
    "\n",
    "#### It's helpful on finding the location of the specific item, when you set condition to False"
   ]
  },
  {
   "cell_type": "code",
   "execution_count": 97,
   "id": "b74e6d3d-240e-4ae1-92e4-13710aa2c8dc",
   "metadata": {},
   "outputs": [
    {
     "data": {
      "text/plain": [
       "array([[ 2000.,    40.,   365.,  3121.,  4241., 13621.],\n",
       "       [ 2000.,    40.,   365.,  3061.,  4171., 15041.],\n",
       "       [ 1000.,    40.,   365.,  2160.,  3280., 15340.],\n",
       "       ...,\n",
       "       [ 2000.,    40.,   365.,  4201.,  5001., 16600.],\n",
       "       [ 1000.,    40.,   365.,  2080.,  3320., 15600.],\n",
       "       [ 2000.,    40.,   365.,  4601.,  4601., 16600.]])"
      ]
     },
     "execution_count": 97,
     "metadata": {},
     "output_type": "execute_result"
    }
   ],
   "source": [
    "lending_co_data_numericd = np.loadtxt('Lending-company-Numeric.csv',delimiter=',')\n",
    "lending_co_data_numericd"
   ]
  },
  {
   "cell_type": "code",
   "execution_count": 98,
   "id": "03decacb-66e9-46c7-b898-1487e61dbf6e",
   "metadata": {},
   "outputs": [
    {
     "data": {
      "text/plain": [
       "array([[   0,    0],\n",
       "       [   0,    1],\n",
       "       [   0,    2],\n",
       "       ...,\n",
       "       [1042,    3],\n",
       "       [1042,    4],\n",
       "       [1042,    5]])"
      ]
     },
     "execution_count": 98,
     "metadata": {},
     "output_type": "execute_result"
    }
   ],
   "source": [
    "np.argwhere(lending_co_data_numericd)"
   ]
  },
  {
   "cell_type": "code",
   "execution_count": 99,
   "id": "33b6e769-2366-4204-ab61-ad9c44e1bd51",
   "metadata": {},
   "outputs": [],
   "source": [
    "# [row_index, column_index]"
   ]
  },
  {
   "cell_type": "code",
   "execution_count": null,
   "id": "935fb223-8b60-44ae-9be3-f6fc29b2257e",
   "metadata": {},
   "outputs": [],
   "source": [
    "### Let's set set condition to false and check where 0 value is located in the \n",
    "### dataset and the coordinates"
   ]
  },
  {
   "cell_type": "code",
   "execution_count": 100,
   "id": "b992854d-2951-41d8-a6ea-520d16b2c3cf",
   "metadata": {},
   "outputs": [
    {
     "data": {
      "text/plain": [
       "array([[116,   4],\n",
       "       [430,   3]])"
      ]
     },
     "execution_count": 100,
     "metadata": {},
     "output_type": "execute_result"
    }
   ],
   "source": [
    "np.argwhere(lending_co_data_numericd == False)"
   ]
  },
  {
   "cell_type": "markdown",
   "id": "8dc8e753-7c85-4ee9-9d55-6c8e5d8eba16",
   "metadata": {},
   "source": [
    "### [116, 4] , means at row 116 and column 4 there 0 and at [430, 3]\n",
    "### there only two zero in dataset."
   ]
  },
  {
   "cell_type": "code",
   "execution_count": 103,
   "id": "27d74cbc-6a0a-40ce-914e-b3468aaa5cdd",
   "metadata": {},
   "outputs": [
    {
     "data": {
      "text/plain": [
       "array([ 1000.,    50.,   365., -1450.,     0., 13850.])"
      ]
     },
     "execution_count": 103,
     "metadata": {},
     "output_type": "execute_result"
    }
   ],
   "source": [
    "lending_co_data_numericd[116]\n",
    "\n"
   ]
  },
  {
   "cell_type": "code",
   "execution_count": 104,
   "id": "203bad05-ebba-4e24-b11a-1152be4bf563",
   "metadata": {},
   "outputs": [
    {
     "data": {
      "text/plain": [
       "0.0"
      ]
     },
     "execution_count": 104,
     "metadata": {},
     "output_type": "execute_result"
    }
   ],
   "source": [
    "lending_co_data_numericd[116,4]\n"
   ]
  },
  {
   "cell_type": "code",
   "execution_count": 105,
   "id": "344eca95-7d39-4e99-b1ba-38900fd7ec85",
   "metadata": {},
   "outputs": [
    {
     "data": {
      "text/plain": [
       "0.0"
      ]
     },
     "execution_count": 105,
     "metadata": {},
     "output_type": "execute_result"
    }
   ],
   "source": [
    "lending_co_data_numericd[430,3]\n"
   ]
  },
  {
   "cell_type": "markdown",
   "id": "1b5de49c-dc62-48ec-9927-7c4b3f259132",
   "metadata": {},
   "source": [
    "### How to use __np.argwhere__ to fixe NAN values ?"
   ]
  },
  {
   "cell_type": "code",
   "execution_count": 109,
   "id": "e148776d-7291-4b8e-b8f9-ee27ec838521",
   "metadata": {},
   "outputs": [
    {
     "data": {
      "text/plain": [
       "array([[ 2000.,    40.,   365.,  3121.,  4241., 13621.],\n",
       "       [ 2000.,    40.,   365.,  3061.,  4171., 15041.],\n",
       "       [ 1000.,    40.,   365.,  2160.,  3280., 15340.],\n",
       "       ...,\n",
       "       [   nan,    40.,   365.,  4201.,  5001., 16600.],\n",
       "       [ 1000.,    40.,   365.,  2080.,  3320., 15600.],\n",
       "       [ 2000.,    40.,   365.,  4601.,  4601., 16600.]])"
      ]
     },
     "execution_count": 109,
     "metadata": {},
     "output_type": "execute_result"
    }
   ],
   "source": [
    "lending_co_data_numeric_NAN = np.genfromtxt('Lending-Company-Numeric-Data-NAN.csv',delimiter=';')\n",
    "lending_co_data_numeric_NAN"
   ]
  },
  {
   "cell_type": "code",
   "execution_count": 110,
   "id": "354f897f-62cf-4d43-8fc7-0eeb3c2ad17f",
   "metadata": {},
   "outputs": [
    {
     "data": {
      "text/plain": [
       "260"
      ]
     },
     "execution_count": 110,
     "metadata": {},
     "output_type": "execute_result"
    }
   ],
   "source": [
    "np.isnan(lending_co_data_numeric_NAN).sum()\n",
    "\n",
    "## some of missing values"
   ]
  },
  {
   "cell_type": "markdown",
   "id": "1ba312ea-2b0e-4595-a52d-e832954af935",
   "metadata": {},
   "source": [
    "# This gives the coordinates for all missing values of the array"
   ]
  },
  {
   "cell_type": "code",
   "execution_count": 113,
   "id": "e7613975-fe4c-4be5-99e1-5c163e6886f7",
   "metadata": {},
   "outputs": [
    {
     "data": {
      "text/plain": [
       "array([[  11,    3],\n",
       "       [  15,    3],\n",
       "       [  27,    3],\n",
       "       [  58,    3],\n",
       "       [  60,    4],\n",
       "       [  85,    4],\n",
       "       [ 117,    5],\n",
       "       [ 152,    1],\n",
       "       [ 152,    2],\n",
       "       [ 152,    4],\n",
       "       [ 172,    1],\n",
       "       [ 175,    1],\n",
       "       [ 175,    2],\n",
       "       [ 176,    3],\n",
       "       [ 177,    4],\n",
       "       [ 178,    5],\n",
       "       [ 211,    3],\n",
       "       [ 229,    0],\n",
       "       [ 230,    1],\n",
       "       [ 237,    1],\n",
       "       [ 247,    3],\n",
       "       [ 251,    5],\n",
       "       [ 252,    4],\n",
       "       [ 258,    1],\n",
       "       [ 260,    3],\n",
       "       [ 262,    4],\n",
       "       [ 271,    5],\n",
       "       [ 272,    4],\n",
       "       [ 284,    2],\n",
       "       [ 284,    3],\n",
       "       [ 297,    1],\n",
       "       [ 297,    2],\n",
       "       [ 300,    3],\n",
       "       [ 315,    3],\n",
       "       [ 315,    5],\n",
       "       [ 327,    4],\n",
       "       [ 336,    4],\n",
       "       [ 343,    0],\n",
       "       [ 344,    2],\n",
       "       [ 346,    2],\n",
       "       [ 363,    3],\n",
       "       [ 375,    3],\n",
       "       [ 377,    2],\n",
       "       [ 398,    5],\n",
       "       [ 416,    4],\n",
       "       [ 428,    0],\n",
       "       [ 432,    1],\n",
       "       [ 433,    3],\n",
       "       [ 434,    2],\n",
       "       [ 440,    3],\n",
       "       [ 441,    1],\n",
       "       [ 446,    2],\n",
       "       [ 455,    1],\n",
       "       [ 456,    2],\n",
       "       [ 458,    2],\n",
       "       [ 461,    3],\n",
       "       [ 467,    4],\n",
       "       [ 468,    0],\n",
       "       [ 469,    3],\n",
       "       [ 470,    0],\n",
       "       [ 481,    1],\n",
       "       [ 482,    3],\n",
       "       [ 484,    4],\n",
       "       [ 489,    0],\n",
       "       [ 493,    5],\n",
       "       [ 499,    0],\n",
       "       [ 504,    3],\n",
       "       [ 506,    1],\n",
       "       [ 517,    4],\n",
       "       [ 518,    0],\n",
       "       [ 521,    2],\n",
       "       [ 530,    5],\n",
       "       [ 532,    3],\n",
       "       [ 534,    5],\n",
       "       [ 547,    3],\n",
       "       [ 549,    5],\n",
       "       [ 553,    5],\n",
       "       [ 554,    5],\n",
       "       [ 559,    3],\n",
       "       [ 566,    0],\n",
       "       [ 566,    1],\n",
       "       [ 566,    2],\n",
       "       [ 567,    0],\n",
       "       [ 567,    1],\n",
       "       [ 567,    2],\n",
       "       [ 581,    1],\n",
       "       [ 581,    2],\n",
       "       [ 582,    1],\n",
       "       [ 582,    2],\n",
       "       [ 583,    1],\n",
       "       [ 583,    2],\n",
       "       [ 593,    3],\n",
       "       [ 594,    3],\n",
       "       [ 595,    3],\n",
       "       [ 596,    3],\n",
       "       [ 609,    4],\n",
       "       [ 609,    5],\n",
       "       [ 610,    4],\n",
       "       [ 610,    5],\n",
       "       [ 611,    4],\n",
       "       [ 611,    5],\n",
       "       [ 612,    4],\n",
       "       [ 612,    5],\n",
       "       [ 623,    2],\n",
       "       [ 623,    3],\n",
       "       [ 624,    2],\n",
       "       [ 624,    3],\n",
       "       [ 625,    2],\n",
       "       [ 625,    3],\n",
       "       [ 626,    2],\n",
       "       [ 626,    3],\n",
       "       [ 627,    2],\n",
       "       [ 627,    3],\n",
       "       [ 636,    0],\n",
       "       [ 637,    0],\n",
       "       [ 637,    4],\n",
       "       [ 637,    5],\n",
       "       [ 638,    0],\n",
       "       [ 638,    4],\n",
       "       [ 638,    5],\n",
       "       [ 639,    4],\n",
       "       [ 639,    5],\n",
       "       [ 640,    4],\n",
       "       [ 640,    5],\n",
       "       [ 641,    4],\n",
       "       [ 641,    5],\n",
       "       [ 653,    1],\n",
       "       [ 653,    2],\n",
       "       [ 653,    3],\n",
       "       [ 653,    4],\n",
       "       [ 654,    1],\n",
       "       [ 654,    2],\n",
       "       [ 654,    3],\n",
       "       [ 654,    4],\n",
       "       [ 655,    1],\n",
       "       [ 655,    2],\n",
       "       [ 655,    3],\n",
       "       [ 655,    4],\n",
       "       [ 685,    2],\n",
       "       [ 686,    0],\n",
       "       [ 701,    4],\n",
       "       [ 704,    2],\n",
       "       [ 724,    1],\n",
       "       [ 724,    2],\n",
       "       [ 730,    1],\n",
       "       [ 730,    2],\n",
       "       [ 730,    3],\n",
       "       [ 731,    1],\n",
       "       [ 731,    2],\n",
       "       [ 731,    3],\n",
       "       [ 732,    1],\n",
       "       [ 732,    2],\n",
       "       [ 732,    3],\n",
       "       [ 733,    1],\n",
       "       [ 733,    2],\n",
       "       [ 733,    3],\n",
       "       [ 742,    4],\n",
       "       [ 747,    3],\n",
       "       [ 755,    1],\n",
       "       [ 758,    1],\n",
       "       [ 760,    1],\n",
       "       [ 764,    0],\n",
       "       [ 764,    1],\n",
       "       [ 764,    2],\n",
       "       [ 764,    3],\n",
       "       [ 764,    4],\n",
       "       [ 764,    5],\n",
       "       [ 765,    3],\n",
       "       [ 775,    1],\n",
       "       [ 775,    2],\n",
       "       [ 775,    3],\n",
       "       [ 776,    1],\n",
       "       [ 776,    2],\n",
       "       [ 776,    3],\n",
       "       [ 777,    1],\n",
       "       [ 777,    2],\n",
       "       [ 777,    3],\n",
       "       [ 778,    1],\n",
       "       [ 778,    2],\n",
       "       [ 778,    3],\n",
       "       [ 787,    4],\n",
       "       [ 788,    1],\n",
       "       [ 790,    2],\n",
       "       [ 794,    3],\n",
       "       [ 795,    5],\n",
       "       [ 796,    1],\n",
       "       [ 796,    4],\n",
       "       [ 800,    0],\n",
       "       [ 801,    1],\n",
       "       [ 802,    1],\n",
       "       [ 803,    2],\n",
       "       [ 805,    0],\n",
       "       [ 809,    0],\n",
       "       [ 810,    0],\n",
       "       [ 811,    0],\n",
       "       [ 812,    1],\n",
       "       [ 820,    0],\n",
       "       [ 820,    3],\n",
       "       [ 820,    4],\n",
       "       [ 822,    2],\n",
       "       [ 823,    2],\n",
       "       [ 825,    0],\n",
       "       [ 830,    1],\n",
       "       [ 830,    2],\n",
       "       [ 836,    3],\n",
       "       [ 837,    3],\n",
       "       [ 838,    3],\n",
       "       [ 839,    4],\n",
       "       [ 843,    2],\n",
       "       [ 856,    0],\n",
       "       [ 856,    1],\n",
       "       [ 856,    3],\n",
       "       [ 856,    4],\n",
       "       [ 856,    5],\n",
       "       [ 857,    0],\n",
       "       [ 858,    1],\n",
       "       [ 870,    0],\n",
       "       [ 870,    2],\n",
       "       [ 870,    3],\n",
       "       [ 872,    0],\n",
       "       [ 873,    0],\n",
       "       [ 874,    1],\n",
       "       [ 890,    1],\n",
       "       [ 890,    2],\n",
       "       [ 890,    3],\n",
       "       [ 909,    1],\n",
       "       [ 910,    0],\n",
       "       [ 912,    0],\n",
       "       [ 912,    2],\n",
       "       [ 912,    3],\n",
       "       [ 912,    4],\n",
       "       [ 928,    1],\n",
       "       [ 928,    2],\n",
       "       [ 928,    3],\n",
       "       [ 929,    1],\n",
       "       [ 929,    2],\n",
       "       [ 929,    3],\n",
       "       [ 930,    3],\n",
       "       [ 958,    2],\n",
       "       [ 959,    3],\n",
       "       [ 960,    3],\n",
       "       [1024,    0],\n",
       "       [1024,    2],\n",
       "       [1026,    2],\n",
       "       [1026,    4],\n",
       "       [1028,    0],\n",
       "       [1028,    3],\n",
       "       [1028,    4],\n",
       "       [1029,    0],\n",
       "       [1030,    1],\n",
       "       [1030,    5],\n",
       "       [1032,    0],\n",
       "       [1032,    5],\n",
       "       [1034,    3],\n",
       "       [1035,    4],\n",
       "       [1036,    2],\n",
       "       [1037,    1],\n",
       "       [1038,    4],\n",
       "       [1039,    3],\n",
       "       [1040,    0]])"
      ]
     },
     "execution_count": 113,
     "metadata": {},
     "output_type": "execute_result"
    }
   ],
   "source": [
    "np.argwhere(np.isnan(lending_co_data_numeric_NAN))\n",
    "\n",
    "## This gives the coordinates for all missing values of the array"
   ]
  },
  {
   "cell_type": "code",
   "execution_count": 117,
   "id": "ce3c135a-fc98-43be-b3b9-eff6f0ceaec7",
   "metadata": {},
   "outputs": [
    {
     "data": {
      "text/plain": [
       "40.0"
      ]
     },
     "execution_count": 117,
     "metadata": {},
     "output_type": "execute_result"
    }
   ],
   "source": [
    "lending_co_data_numeric_NAN[1040,0]"
   ]
  },
  {
   "cell_type": "code",
   "execution_count": 118,
   "id": "b8f140dc-0c68-40fa-bf7f-4063fa84fccd",
   "metadata": {},
   "outputs": [
    {
     "data": {
      "text/plain": [
       "array([   nan,    40.,   365.,  4201.,  5001., 16600.])"
      ]
     },
     "execution_count": 118,
     "metadata": {},
     "output_type": "execute_result"
    }
   ],
   "source": [
    "lending_co_data_numeric_NAN[1040]"
   ]
  },
  {
   "cell_type": "code",
   "execution_count": null,
   "id": "4b7c4334-61ea-4d53-a459-2a775aa783b1",
   "metadata": {},
   "outputs": [],
   "source": []
  },
  {
   "cell_type": "raw",
   "id": "da78f2fc-6d9a-4764-b54a-284d4fc023f9",
   "metadata": {},
   "source": [
    "With a single iteraation we can fill all these values out."
   ]
  },
  {
   "cell_type": "markdown",
   "id": "78f58275-01f8-47ab-925c-f1e6d2862e1a",
   "metadata": {},
   "source": [
    "### We will use the structure of a very simple __for loop__"
   ]
  },
  {
   "cell_type": "code",
   "execution_count": 120,
   "id": "02c91b57-c905-4822-b378-c0da9b0de853",
   "metadata": {},
   "outputs": [],
   "source": [
    "for array_index in np.argwhere(np.isnan(lending_co_data_numeric_NAN)):\n",
    "    #print(lending_co_data_numeric_NAN[array_index[0],array_index[1]])\n",
    "    lending_co_data_numeric_NAN[array_index[0],array_index[1]] = 0"
   ]
  },
  {
   "cell_type": "code",
   "execution_count": 121,
   "id": "94e3bf50-704f-4d6b-a7d8-eeeeb3e0ba89",
   "metadata": {},
   "outputs": [
    {
     "data": {
      "text/plain": [
       "0"
      ]
     },
     "execution_count": 121,
     "metadata": {},
     "output_type": "execute_result"
    }
   ],
   "source": [
    "## let's check again the dataset after filled out the NAN values with 0\n",
    "\n",
    "np.isnan(lending_co_data_numeric_NAN).sum()\n"
   ]
  },
  {
   "cell_type": "markdown",
   "id": "b992e753-54dc-47ff-871c-8931fd586992",
   "metadata": {},
   "source": [
    "### __np.savetxt__"
   ]
  },
  {
   "cell_type": "code",
   "execution_count": 127,
   "id": "51bbfd46-2146-4965-a0fb-8cd6591d208e",
   "metadata": {},
   "outputs": [],
   "source": [
    "## let's save the clean data using np.savetxt\n",
    "\n",
    "np.savetxt('lending_co_data_numeric_NAN_fill_By_Zero1.csv',lending_co_data_numeric_NAN,\n",
    "          fmt='%s',\n",
    "          delimiter=',')\n"
   ]
  },
  {
   "cell_type": "code",
   "execution_count": 122,
   "id": "f25f5b30-d317-4862-8c63-cbd98eb11db6",
   "metadata": {},
   "outputs": [
    {
     "data": {
      "text/plain": [
       "array([[ 2000.,    40.,   365.,  3121.,  4241., 13621.],\n",
       "       [ 2000.,    40.,   365.,  3061.,  4171., 15041.],\n",
       "       [ 1000.,    40.,   365.,  2160.,  3280., 15340.],\n",
       "       ...,\n",
       "       [    0.,    40.,   365.,  4201.,  5001., 16600.],\n",
       "       [ 1000.,    40.,   365.,  2080.,  3320., 15600.],\n",
       "       [ 2000.,    40.,   365.,  4601.,  4601., 16600.]])"
      ]
     },
     "execution_count": 122,
     "metadata": {},
     "output_type": "execute_result"
    }
   ],
   "source": [
    "lending_co_data_numeric_NAN"
   ]
  },
  {
   "cell_type": "code",
   "execution_count": null,
   "id": "17e132ab-e9a3-46ed-aec6-c4edc775a618",
   "metadata": {},
   "outputs": [],
   "source": []
  },
  {
   "cell_type": "code",
   "execution_count": 128,
   "id": "8645c9db-1e45-4749-b2ce-24f210938d43",
   "metadata": {},
   "outputs": [
    {
     "data": {
      "text/html": [
       "<div>\n",
       "<style scoped>\n",
       "    .dataframe tbody tr th:only-of-type {\n",
       "        vertical-align: middle;\n",
       "    }\n",
       "\n",
       "    .dataframe tbody tr th {\n",
       "        vertical-align: top;\n",
       "    }\n",
       "\n",
       "    .dataframe thead th {\n",
       "        text-align: right;\n",
       "    }\n",
       "</style>\n",
       "<table border=\"1\" class=\"dataframe\">\n",
       "  <thead>\n",
       "    <tr style=\"text-align: right;\">\n",
       "      <th></th>\n",
       "      <th>2000.0</th>\n",
       "      <th>40.0</th>\n",
       "      <th>365.0</th>\n",
       "      <th>3121.0</th>\n",
       "      <th>4241.0</th>\n",
       "      <th>13621.0</th>\n",
       "    </tr>\n",
       "  </thead>\n",
       "  <tbody>\n",
       "    <tr>\n",
       "      <th>0</th>\n",
       "      <td>2000.0</td>\n",
       "      <td>40.0</td>\n",
       "      <td>365.0</td>\n",
       "      <td>3061.0</td>\n",
       "      <td>4171.0</td>\n",
       "      <td>15041.0</td>\n",
       "    </tr>\n",
       "    <tr>\n",
       "      <th>1</th>\n",
       "      <td>1000.0</td>\n",
       "      <td>40.0</td>\n",
       "      <td>365.0</td>\n",
       "      <td>2160.0</td>\n",
       "      <td>3280.0</td>\n",
       "      <td>15340.0</td>\n",
       "    </tr>\n",
       "    <tr>\n",
       "      <th>2</th>\n",
       "      <td>2000.0</td>\n",
       "      <td>40.0</td>\n",
       "      <td>365.0</td>\n",
       "      <td>3041.0</td>\n",
       "      <td>4241.0</td>\n",
       "      <td>15321.0</td>\n",
       "    </tr>\n",
       "  </tbody>\n",
       "</table>\n",
       "</div>"
      ],
      "text/plain": [
       "   2000.0  40.0  365.0  3121.0  4241.0  13621.0\n",
       "0  2000.0  40.0  365.0  3061.0  4171.0  15041.0\n",
       "1  1000.0  40.0  365.0  2160.0  3280.0  15340.0\n",
       "2  2000.0  40.0  365.0  3041.0  4241.0  15321.0"
      ]
     },
     "execution_count": 128,
     "metadata": {},
     "output_type": "execute_result"
    }
   ],
   "source": [
    "fill_by_zero = pd.read_csv('lending_co_data_numeric_NAN_fill_By_Zero1.csv')\n",
    "fill_by_zero.head(3)"
   ]
  },
  {
   "cell_type": "code",
   "execution_count": null,
   "id": "657ad136-2f76-4a3c-86f5-4e8da91460bc",
   "metadata": {},
   "outputs": [],
   "source": []
  }
 ],
 "metadata": {
  "kernelspec": {
   "display_name": "Python 3",
   "language": "python",
   "name": "python3"
  },
  "language_info": {
   "codemirror_mode": {
    "name": "ipython",
    "version": 3
   },
   "file_extension": ".py",
   "mimetype": "text/x-python",
   "name": "python",
   "nbconvert_exporter": "python",
   "pygments_lexer": "ipython3",
   "version": "3.8.8"
  }
 },
 "nbformat": 4,
 "nbformat_minor": 5
}
