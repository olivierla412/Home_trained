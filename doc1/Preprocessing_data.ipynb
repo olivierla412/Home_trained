{
 "cells": [
  {
   "cell_type": "markdown",
   "id": "21dbc48b-9afc-4f40-b0cc-be3862906a43",
   "metadata": {},
   "source": [
    "## Preprocessing data with Numpy"
   ]
  },
  {
   "cell_type": "code",
   "execution_count": 1,
   "id": "d5a8b243-f780-4d1f-b2d2-f3cceba71a6a",
   "metadata": {},
   "outputs": [],
   "source": [
    "import numpy as np\n",
    "import pandas as pd "
   ]
  },
  {
   "cell_type": "code",
   "execution_count": 2,
   "id": "e2a501f8-c42c-4a3d-8898-8874fa7f5665",
   "metadata": {},
   "outputs": [],
   "source": [
    "lending_co_data_numeric = np.loadtxt('Lending-Company-Numeric-Data.csv',delimiter=',')\n",
    "\n",
    "## we don't got any error message , that mean there no missing value(NAN)"
   ]
  },
  {
   "cell_type": "code",
   "execution_count": 3,
   "id": "43632367-4551-49f4-9d95-a2ee945a1493",
   "metadata": {},
   "outputs": [],
   "source": [
    "data = pd.read_csv('Lending-Company-Numeric-Data.csv')"
   ]
  },
  {
   "cell_type": "code",
   "execution_count": 4,
   "id": "6d0498a1-f72b-49dd-9779-dd29383e3f75",
   "metadata": {},
   "outputs": [
    {
     "data": {
      "text/html": [
       "<div>\n",
       "<style scoped>\n",
       "    .dataframe tbody tr th:only-of-type {\n",
       "        vertical-align: middle;\n",
       "    }\n",
       "\n",
       "    .dataframe tbody tr th {\n",
       "        vertical-align: top;\n",
       "    }\n",
       "\n",
       "    .dataframe thead th {\n",
       "        text-align: right;\n",
       "    }\n",
       "</style>\n",
       "<table border=\"1\" class=\"dataframe\">\n",
       "  <thead>\n",
       "    <tr style=\"text-align: right;\">\n",
       "      <th></th>\n",
       "      <th>2000</th>\n",
       "      <th>40</th>\n",
       "      <th>365</th>\n",
       "      <th>3121</th>\n",
       "      <th>4241</th>\n",
       "      <th>13621</th>\n",
       "    </tr>\n",
       "  </thead>\n",
       "  <tbody>\n",
       "    <tr>\n",
       "      <th>0</th>\n",
       "      <td>2000</td>\n",
       "      <td>40</td>\n",
       "      <td>365</td>\n",
       "      <td>3061</td>\n",
       "      <td>4171</td>\n",
       "      <td>15041</td>\n",
       "    </tr>\n",
       "    <tr>\n",
       "      <th>1</th>\n",
       "      <td>1000</td>\n",
       "      <td>40</td>\n",
       "      <td>365</td>\n",
       "      <td>2160</td>\n",
       "      <td>3280</td>\n",
       "      <td>15340</td>\n",
       "    </tr>\n",
       "  </tbody>\n",
       "</table>\n",
       "</div>"
      ],
      "text/plain": [
       "   2000  40  365  3121  4241  13621\n",
       "0  2000  40  365  3061  4171  15041\n",
       "1  1000  40  365  2160  3280  15340"
      ]
     },
     "execution_count": 4,
     "metadata": {},
     "output_type": "execute_result"
    }
   ],
   "source": [
    "data.head(2)"
   ]
  },
  {
   "cell_type": "code",
   "execution_count": 5,
   "id": "5ca40bda-e9c6-457e-84ae-beebe9c06c7c",
   "metadata": {},
   "outputs": [
    {
     "data": {
      "text/plain": [
       "array([[False, False, False, False, False, False],\n",
       "       [False, False, False, False, False, False],\n",
       "       [False, False, False, False, False, False],\n",
       "       ...,\n",
       "       [False, False, False, False, False, False],\n",
       "       [False, False, False, False, False, False],\n",
       "       [False, False, False, False, False, False]])"
      ]
     },
     "execution_count": 5,
     "metadata": {},
     "output_type": "execute_result"
    }
   ],
   "source": [
    "np.isnan(lending_co_data_numeric)"
   ]
  },
  {
   "cell_type": "code",
   "execution_count": 6,
   "id": "9633cac2-2226-4144-a88e-9061d0d5adc9",
   "metadata": {},
   "outputs": [
    {
     "data": {
      "text/plain": [
       "0"
      ]
     },
     "execution_count": 6,
     "metadata": {},
     "output_type": "execute_result"
    }
   ],
   "source": [
    "np.isnan(lending_co_data_numeric).sum()"
   ]
  },
  {
   "cell_type": "raw",
   "id": "3731cb7f-a6ee-48d9-844e-45912df599ca",
   "metadata": {},
   "source": [
    "lending_co_data_numeric_nan = np.loadtxt('Lending-Company-Numeric-Data-NAN.csv',delimiter=';')\n",
    "\n",
    "## we got error message , that mean there is missing value(NAN)\n",
    "\n",
    "# let's genfromtxt() method"
   ]
  },
  {
   "cell_type": "code",
   "execution_count": 7,
   "id": "8778842a-815b-4a3f-8588-4a231abd566d",
   "metadata": {},
   "outputs": [
    {
     "data": {
      "text/plain": [
       "array([[ 2000.,    40.,   365.,  3121.,  4241., 13621.],\n",
       "       [ 2000.,    40.,   365.,  3061.,  4171., 15041.],\n",
       "       [ 1000.,    40.,   365.,  2160.,  3280., 15340.],\n",
       "       ...,\n",
       "       [   nan,    40.,   365.,  4201.,  5001., 16600.],\n",
       "       [ 1000.,    40.,   365.,  2080.,  3320., 15600.],\n",
       "       [ 2000.,    40.,   365.,  4601.,  4601., 16600.]])"
      ]
     },
     "execution_count": 7,
     "metadata": {},
     "output_type": "execute_result"
    }
   ],
   "source": [
    "lending_co_data_numeric_nan = np.genfromtxt('Lending-Company-Numeric-Data-NAN.csv',delimiter=';')\n",
    "\n",
    "lending_co_data_numeric_nan\n"
   ]
  },
  {
   "cell_type": "code",
   "execution_count": 8,
   "id": "16391d99-18cb-47c9-a6a2-5f8cd2294b1f",
   "metadata": {},
   "outputs": [
    {
     "data": {
      "text/plain": [
       "260"
      ]
     },
     "execution_count": 8,
     "metadata": {},
     "output_type": "execute_result"
    }
   ],
   "source": [
    "np.isnan(lending_co_data_numeric_nan).sum()\n",
    "\n",
    "#this the total missing values"
   ]
  },
  {
   "cell_type": "markdown",
   "id": "bfaf710d-6ad0-4216-aef0-0beef85f7289",
   "metadata": {},
   "source": [
    "## How fill the missing values"
   ]
  },
  {
   "cell_type": "code",
   "execution_count": null,
   "id": "5bb6bf29-b7ba-42cb-96d5-557751e2651e",
   "metadata": {},
   "outputs": [],
   "source": [
    "\n",
    "\n"
   ]
  },
  {
   "cell_type": "code",
   "execution_count": 9,
   "id": "6d45b4f7-ea2f-412c-b430-47bd6a69a822",
   "metadata": {},
   "outputs": [
    {
     "data": {
      "text/plain": [
       "array([ 2250.25,    46.11,   365.  ,  3895.99,  5160.75, 16571.44])"
      ]
     },
     "execution_count": 9,
     "metadata": {},
     "output_type": "execute_result"
    }
   ],
   "source": [
    "## this help to check the mean of each column of tha dataset\n",
    "\n",
    "temporary_mean = np.nanmean(lending_co_data_numeric_nan,axis=0).round(2)\n",
    "temporary_mean"
   ]
  },
  {
   "cell_type": "code",
   "execution_count": 10,
   "id": "6b59bc2c-45a2-4d87-b23c-f35204e1bc51",
   "metadata": {},
   "outputs": [
    {
     "data": {
      "text/plain": [
       "2250.25"
      ]
     },
     "execution_count": 10,
     "metadata": {},
     "output_type": "execute_result"
    }
   ],
   "source": [
    "temporary_mean[0]"
   ]
  },
  {
   "cell_type": "code",
   "execution_count": 11,
   "id": "b59ab218-ff07-4257-b660-f1c4bce69c55",
   "metadata": {},
   "outputs": [],
   "source": [
    "## thsi help to choose the filler value grater than the maximum of the set\n",
    "\n",
    "temporary_fill = np.nanmax(lending_co_data_numeric_nan).round(2) + 1\n",
    "\n",
    "lending_co_data_numeric_nan = np.genfromtxt('Lending-Company-Numeric-Data-NAN.csv',\n",
    "                                            delimiter=';',\n",
    "                                           filling_values=temporary_fill)"
   ]
  },
  {
   "cell_type": "code",
   "execution_count": 12,
   "id": "7406da2c-a91a-450c-9583-275424d14a5c",
   "metadata": {},
   "outputs": [
    {
     "data": {
      "text/plain": [
       "64002.0"
      ]
     },
     "execution_count": 12,
     "metadata": {},
     "output_type": "execute_result"
    }
   ],
   "source": [
    "temporary_fill"
   ]
  },
  {
   "cell_type": "code",
   "execution_count": 13,
   "id": "f4584f0c-79fa-4c2c-bc3e-0b02ec485bd6",
   "metadata": {},
   "outputs": [
    {
     "data": {
      "text/plain": [
       "2250.25"
      ]
     },
     "execution_count": 13,
     "metadata": {},
     "output_type": "execute_result"
    }
   ],
   "source": [
    "temporary_mean[0]\n",
    "\n",
    "## For this coulumn the filler temporary_fill = 64002.0 will outlier\n",
    "\n",
    "## It will be fine the column temporary_mean[0]\n"
   ]
  },
  {
   "cell_type": "code",
   "execution_count": 14,
   "id": "4c41934c-83a7-4da7-a002-c52a8abd63ae",
   "metadata": {},
   "outputs": [
    {
     "data": {
      "text/plain": [
       "4263.25"
      ]
     },
     "execution_count": 14,
     "metadata": {},
     "output_type": "execute_result"
    }
   ],
   "source": [
    "## let's check the dataset without missing value\n",
    "\n",
    "np.mean(lending_co_data_numeric_nan[:,0]).round(2)\n",
    "\n",
    "## [0:0,0:0] = [lower_row : uper_row,lower_col:uper_col]"
   ]
  },
  {
   "cell_type": "raw",
   "id": "87997a8c-7558-4196-b930-7a19e736aa79",
   "metadata": {},
   "source": [
    "revision of slincing an ndarray\n",
    "\n",
    "matrix_A = np.array([[1,0,0,3,1],[3,6,6,2,9],[4,5,3,8,0]])\n",
    "print(matrix_A)\n"
   ]
  },
  {
   "cell_type": "raw",
   "id": "5f29cc0a-42ff-48b5-ac39-09f96a7d400c",
   "metadata": {},
   "source": [
    "matrix_A[2:,4:5]"
   ]
  },
  {
   "cell_type": "code",
   "execution_count": 15,
   "id": "e5e9b15d-44e7-4fd4-be4a-c5871edabe2e",
   "metadata": {},
   "outputs": [
    {
     "data": {
      "text/plain": [
       "4263.25"
      ]
     },
     "execution_count": 15,
     "metadata": {},
     "output_type": "execute_result"
    }
   ],
   "source": [
    "np.mean(lending_co_data_numeric_nan[:,0]).round(2)\n"
   ]
  },
  {
   "cell_type": "code",
   "execution_count": 16,
   "id": "b09fcab5-6d8e-4437-ba8a-ac0c7059a10a",
   "metadata": {},
   "outputs": [
    {
     "data": {
      "text/plain": [
       "2250.25"
      ]
     },
     "execution_count": 16,
     "metadata": {},
     "output_type": "execute_result"
    }
   ],
   "source": [
    "temporary_mean[0]\n"
   ]
  },
  {
   "cell_type": "code",
   "execution_count": 17,
   "id": "37c958ce-964a-4b9e-838f-f9206c3d87c4",
   "metadata": {},
   "outputs": [],
   "source": [
    "lending_co_data_numeric_nan[:,0] = np.where(lending_co_data_numeric_nan[:,0] == temporary_fill,\n",
    "                                            temporary_mean[0],\n",
    "                                            lending_co_data_numeric_nan[:,0]\n",
    "                                           )"
   ]
  },
  {
   "cell_type": "code",
   "execution_count": 18,
   "id": "a79f7c9f-2cc9-40a2-a5a2-a63d5b9169bf",
   "metadata": {},
   "outputs": [
    {
     "data": {
      "text/plain": [
       "2250.25"
      ]
     },
     "execution_count": 18,
     "metadata": {},
     "output_type": "execute_result"
    }
   ],
   "source": [
    "np.mean(lending_co_data_numeric_nan[:,0]).round(2)\n",
    "\n",
    "# new mean"
   ]
  },
  {
   "cell_type": "code",
   "execution_count": 293,
   "id": "1808cbf4-b13a-4145-b3a3-1b4e7f1e8bcd",
   "metadata": {},
   "outputs": [],
   "source": [
    "length = lending_co_data_numeric_nan.shape[1]"
   ]
  },
  {
   "cell_type": "code",
   "execution_count": 20,
   "id": "bec5182a-21e5-4939-8858-950eceb6d01b",
   "metadata": {},
   "outputs": [],
   "source": [
    "for x in range(length):\n",
    "    lending_co_data_numeric_nan[:,x] = np.where(lending_co_data_numeric_nan[:,x] == temporary_fill,\n",
    "                                            temporary_mean[x],\n",
    "                                            lending_co_data_numeric_nan[:,x]\n",
    "                                           )"
   ]
  },
  {
   "cell_type": "code",
   "execution_count": 21,
   "id": "a1625a8d-3894-47b5-930d-b2bb99c2077f",
   "metadata": {},
   "outputs": [
    {
     "data": {
      "text/plain": [
       "array([[ 2000.  ,    40.  ,   365.  ,  3121.  ,  4241.  , 13621.  ],\n",
       "       [ 2000.  ,    40.  ,   365.  ,  3061.  ,  4171.  , 15041.  ],\n",
       "       [ 1000.  ,    40.  ,   365.  ,  2160.  ,  3280.  , 15340.  ],\n",
       "       ...,\n",
       "       [ 2250.25,    40.  ,   365.  ,  4201.  ,  5001.  , 16600.  ],\n",
       "       [ 1000.  ,    40.  ,   365.  ,  2080.  ,  3320.  , 15600.  ],\n",
       "       [ 2000.  ,    40.  ,   365.  ,  4601.  ,  4601.  , 16600.  ]])"
      ]
     },
     "execution_count": 21,
     "metadata": {},
     "output_type": "execute_result"
    }
   ],
   "source": [
    "lending_co_data_numeric_nan"
   ]
  },
  {
   "cell_type": "code",
   "execution_count": 22,
   "id": "39754576-bd71-4105-bf82-83e677013096",
   "metadata": {},
   "outputs": [
    {
     "data": {
      "text/plain": [
       "2250.25"
      ]
     },
     "execution_count": 22,
     "metadata": {},
     "output_type": "execute_result"
    }
   ],
   "source": [
    "np.mean(lending_co_data_numeric_nan[:,0]).round(2)\n"
   ]
  },
  {
   "cell_type": "code",
   "execution_count": 23,
   "id": "f9bb01bd-ba4c-4ac2-833d-a2a44dfa0341",
   "metadata": {},
   "outputs": [],
   "source": [
    "np.savetxt('data_numeric_nan.csv',lending_co_data_numeric_nan,\n",
    "          fmt='%d',\n",
    "          delimiter=',')"
   ]
  },
  {
   "cell_type": "code",
   "execution_count": 24,
   "id": "08c867ee-cca0-4400-92a8-38ec50e7c53d",
   "metadata": {},
   "outputs": [],
   "source": [
    "df =pd.read_csv('data_numeric_nan.csv')"
   ]
  },
  {
   "cell_type": "code",
   "execution_count": 37,
   "id": "88be5253-fd60-41c2-b7b7-49fb59039eb6",
   "metadata": {},
   "outputs": [
    {
     "data": {
      "text/html": [
       "<div>\n",
       "<style scoped>\n",
       "    .dataframe tbody tr th:only-of-type {\n",
       "        vertical-align: middle;\n",
       "    }\n",
       "\n",
       "    .dataframe tbody tr th {\n",
       "        vertical-align: top;\n",
       "    }\n",
       "\n",
       "    .dataframe thead th {\n",
       "        text-align: right;\n",
       "    }\n",
       "</style>\n",
       "<table border=\"1\" class=\"dataframe\">\n",
       "  <thead>\n",
       "    <tr style=\"text-align: right;\">\n",
       "      <th></th>\n",
       "      <th>2000</th>\n",
       "      <th>40</th>\n",
       "      <th>365</th>\n",
       "      <th>3121</th>\n",
       "      <th>4241</th>\n",
       "      <th>13621</th>\n",
       "    </tr>\n",
       "  </thead>\n",
       "  <tbody>\n",
       "    <tr>\n",
       "      <th>0</th>\n",
       "      <td>2000</td>\n",
       "      <td>40</td>\n",
       "      <td>365</td>\n",
       "      <td>3061</td>\n",
       "      <td>4171</td>\n",
       "      <td>15041</td>\n",
       "    </tr>\n",
       "  </tbody>\n",
       "</table>\n",
       "</div>"
      ],
      "text/plain": [
       "   2000  40  365  3121  4241  13621\n",
       "0  2000  40  365  3061  4171  15041"
      ]
     },
     "execution_count": 37,
     "metadata": {},
     "output_type": "execute_result"
    }
   ],
   "source": [
    "df.head(1)"
   ]
  },
  {
   "cell_type": "code",
   "execution_count": 28,
   "id": "a7700251-0257-4ccc-ae0a-270ac8e91f26",
   "metadata": {},
   "outputs": [
    {
     "data": {
      "text/plain": [
       "46.10652591170825"
      ]
     },
     "execution_count": 28,
     "metadata": {},
     "output_type": "execute_result"
    }
   ],
   "source": [
    "ddd = df['40'].mean()\n",
    "ddd"
   ]
  },
  {
   "cell_type": "code",
   "execution_count": null,
   "id": "5c2e498f-9c96-43c7-8a79-51e28e85eda7",
   "metadata": {},
   "outputs": [],
   "source": [
    "type(ddd)"
   ]
  },
  {
   "cell_type": "code",
   "execution_count": 29,
   "id": "98ee1473-c7fb-4618-b9b2-19ba44c31e03",
   "metadata": {},
   "outputs": [
    {
     "data": {
      "text/html": [
       "<div>\n",
       "<style scoped>\n",
       "    .dataframe tbody tr th:only-of-type {\n",
       "        vertical-align: middle;\n",
       "    }\n",
       "\n",
       "    .dataframe tbody tr th {\n",
       "        vertical-align: top;\n",
       "    }\n",
       "\n",
       "    .dataframe thead th {\n",
       "        text-align: right;\n",
       "    }\n",
       "</style>\n",
       "<table border=\"1\" class=\"dataframe\">\n",
       "  <thead>\n",
       "    <tr style=\"text-align: right;\">\n",
       "      <th></th>\n",
       "      <th>2000</th>\n",
       "      <th>40</th>\n",
       "      <th>365</th>\n",
       "      <th>3121</th>\n",
       "      <th>4241</th>\n",
       "      <th>13621</th>\n",
       "    </tr>\n",
       "  </thead>\n",
       "  <tbody>\n",
       "    <tr>\n",
       "      <th>count</th>\n",
       "      <td>1042.000000</td>\n",
       "      <td>1042.000000</td>\n",
       "      <td>1042.0</td>\n",
       "      <td>1042.000000</td>\n",
       "      <td>1042.000000</td>\n",
       "      <td>1042.000000</td>\n",
       "    </tr>\n",
       "    <tr>\n",
       "      <th>mean</th>\n",
       "      <td>2250.479846</td>\n",
       "      <td>46.106526</td>\n",
       "      <td>365.0</td>\n",
       "      <td>3896.677543</td>\n",
       "      <td>5161.606526</td>\n",
       "      <td>16574.257198</td>\n",
       "    </tr>\n",
       "    <tr>\n",
       "      <th>std</th>\n",
       "      <td>1330.027034</td>\n",
       "      <td>12.678966</td>\n",
       "      <td>0.0</td>\n",
       "      <td>2466.087289</td>\n",
       "      <td>2710.298776</td>\n",
       "      <td>5911.707292</td>\n",
       "    </tr>\n",
       "    <tr>\n",
       "      <th>min</th>\n",
       "      <td>1000.000000</td>\n",
       "      <td>35.000000</td>\n",
       "      <td>365.0</td>\n",
       "      <td>-2870.000000</td>\n",
       "      <td>-2870.000000</td>\n",
       "      <td>-350.000000</td>\n",
       "    </tr>\n",
       "    <tr>\n",
       "      <th>25%</th>\n",
       "      <td>2000.000000</td>\n",
       "      <td>40.000000</td>\n",
       "      <td>365.0</td>\n",
       "      <td>2905.000000</td>\n",
       "      <td>3851.000000</td>\n",
       "      <td>14628.250000</td>\n",
       "    </tr>\n",
       "    <tr>\n",
       "      <th>50%</th>\n",
       "      <td>2000.000000</td>\n",
       "      <td>40.000000</td>\n",
       "      <td>365.0</td>\n",
       "      <td>3441.000000</td>\n",
       "      <td>4601.000000</td>\n",
       "      <td>16571.000000</td>\n",
       "    </tr>\n",
       "    <tr>\n",
       "      <th>75%</th>\n",
       "      <td>2000.000000</td>\n",
       "      <td>50.000000</td>\n",
       "      <td>365.0</td>\n",
       "      <td>4875.000000</td>\n",
       "      <td>6242.750000</td>\n",
       "      <td>19225.000000</td>\n",
       "    </tr>\n",
       "    <tr>\n",
       "      <th>max</th>\n",
       "      <td>9000.000000</td>\n",
       "      <td>165.000000</td>\n",
       "      <td>365.0</td>\n",
       "      <td>17650.000000</td>\n",
       "      <td>20001.000000</td>\n",
       "      <td>64001.000000</td>\n",
       "    </tr>\n",
       "  </tbody>\n",
       "</table>\n",
       "</div>"
      ],
      "text/plain": [
       "              2000           40     365          3121          4241  \\\n",
       "count  1042.000000  1042.000000  1042.0   1042.000000   1042.000000   \n",
       "mean   2250.479846    46.106526   365.0   3896.677543   5161.606526   \n",
       "std    1330.027034    12.678966     0.0   2466.087289   2710.298776   \n",
       "min    1000.000000    35.000000   365.0  -2870.000000  -2870.000000   \n",
       "25%    2000.000000    40.000000   365.0   2905.000000   3851.000000   \n",
       "50%    2000.000000    40.000000   365.0   3441.000000   4601.000000   \n",
       "75%    2000.000000    50.000000   365.0   4875.000000   6242.750000   \n",
       "max    9000.000000   165.000000   365.0  17650.000000  20001.000000   \n",
       "\n",
       "              13621  \n",
       "count   1042.000000  \n",
       "mean   16574.257198  \n",
       "std     5911.707292  \n",
       "min     -350.000000  \n",
       "25%    14628.250000  \n",
       "50%    16571.000000  \n",
       "75%    19225.000000  \n",
       "max    64001.000000  "
      ]
     },
     "execution_count": 29,
     "metadata": {},
     "output_type": "execute_result"
    }
   ],
   "source": [
    "df.describe()"
   ]
  },
  {
   "cell_type": "code",
   "execution_count": 36,
   "id": "2514d8c7-72ad-49b8-998f-82f7e28a91ce",
   "metadata": {},
   "outputs": [],
   "source": [
    "np.savetxt('data_no.csv',lending_co_data_numeric_nan,\n",
    "          fmt='%d',\n",
    "          delimiter=',')"
   ]
  },
  {
   "cell_type": "markdown",
   "id": "7f1e5492-723c-4670-bd25-b93a2b7b5ba9",
   "metadata": {},
   "source": [
    "## Reshaping Array"
   ]
  },
  {
   "cell_type": "code",
   "execution_count": 41,
   "id": "6a6d7d04-1af4-4e29-b1a3-398d342848a6",
   "metadata": {},
   "outputs": [],
   "source": [
    "lending_co_data_numerica = np.loadtxt('Lending-company-Numeric.csv',delimiter=',')"
   ]
  },
  {
   "cell_type": "code",
   "execution_count": 42,
   "id": "6e554384-44a1-48b9-bb8a-69ad8585fef7",
   "metadata": {},
   "outputs": [
    {
     "data": {
      "text/plain": [
       "array([[ 2000.,    40.,   365.,  3121.,  4241., 13621.],\n",
       "       [ 2000.,    40.,   365.,  3061.,  4171., 15041.],\n",
       "       [ 1000.,    40.,   365.,  2160.,  3280., 15340.],\n",
       "       ...,\n",
       "       [ 2000.,    40.,   365.,  4201.,  5001., 16600.],\n",
       "       [ 1000.,    40.,   365.,  2080.,  3320., 15600.],\n",
       "       [ 2000.,    40.,   365.,  4601.,  4601., 16600.]])"
      ]
     },
     "execution_count": 42,
     "metadata": {},
     "output_type": "execute_result"
    }
   ],
   "source": [
    "lending_co_data_numerica"
   ]
  },
  {
   "cell_type": "code",
   "execution_count": 45,
   "id": "859df1ba-e7cd-497f-809f-23ee8e65341e",
   "metadata": {},
   "outputs": [
    {
     "data": {
      "text/plain": [
       "(1043, 6)"
      ]
     },
     "execution_count": 45,
     "metadata": {},
     "output_type": "execute_result"
    }
   ],
   "source": [
    "lending_co_data_numerica.shape"
   ]
  },
  {
   "cell_type": "code",
   "execution_count": 46,
   "id": "edee56c0-d41c-4156-995e-4a3822b6d3b9",
   "metadata": {},
   "outputs": [
    {
     "data": {
      "text/plain": [
       "array([[ 2000.,    40.,   365., ...,   365.,  1581.,  3041.],\n",
       "       [12277.,  2000.,    40., ...,    50.,   365.,  5350.],\n",
       "       [ 6850., 15150.,  1000., ...,  2000.,    40.,   365.],\n",
       "       [ 3101.,  4351., 16600., ..., 16600.,  2000.,    40.],\n",
       "       [  365.,  3441.,  4661., ...,  8450., 22250.,  2000.],\n",
       "       [   40.,   365.,  3701., ...,  4601.,  4601., 16600.]])"
      ]
     },
     "execution_count": 46,
     "metadata": {},
     "output_type": "execute_result"
    }
   ],
   "source": [
    "np.reshape(lending_co_data_numerica,(6,1043))"
   ]
  },
  {
   "cell_type": "code",
   "execution_count": 47,
   "id": "5634c944-8b1b-4068-b4c5-816e3a6e51d1",
   "metadata": {},
   "outputs": [
    {
     "data": {
      "text/plain": [
       "array([[ 2000.,  2000.,  1000., ...,  2000.,  1000.,  2000.],\n",
       "       [   40.,    40.,    40., ...,    40.,    40.,    40.],\n",
       "       [  365.,   365.,   365., ...,   365.,   365.,   365.],\n",
       "       [ 3121.,  3061.,  2160., ...,  4201.,  2080.,  4601.],\n",
       "       [ 4241.,  4171.,  3280., ...,  5001.,  3320.,  4601.],\n",
       "       [13621., 15041., 15340., ..., 16600., 15600., 16600.]])"
      ]
     },
     "execution_count": 47,
     "metadata": {},
     "output_type": "execute_result"
    }
   ],
   "source": [
    "## to get back to the current shape\n",
    "\n",
    "np.transpose(lending_co_data_numerica)"
   ]
  },
  {
   "cell_type": "code",
   "execution_count": 50,
   "id": "0e59fade-79fa-4345-9fe0-df146f56b28b",
   "metadata": {},
   "outputs": [
    {
     "data": {
      "text/plain": [
       "array([[ 2000.,    40.,   365., ...,   365.,  1581.,  3041.],\n",
       "       [12277.,  2000.,    40., ...,    50.,   365.,  5350.],\n",
       "       [ 6850., 15150.,  1000., ...,  2000.,    40.,   365.],\n",
       "       [ 3101.,  4351., 16600., ..., 16600.,  2000.,    40.],\n",
       "       [  365.,  3441.,  4661., ...,  8450., 22250.,  2000.],\n",
       "       [   40.,   365.,  3701., ...,  4601.,  4601., 16600.]])"
      ]
     },
     "execution_count": 50,
     "metadata": {},
     "output_type": "execute_result"
    }
   ],
   "source": [
    "## second way\n",
    "\n",
    "lending_co_data_numerica.reshape(6,1043)"
   ]
  },
  {
   "cell_type": "markdown",
   "id": "3a87458f-cf48-42c6-ac8d-832382db54ef",
   "metadata": {},
   "source": [
    "## Sorting Data"
   ]
  },
  {
   "cell_type": "code",
   "execution_count": 51,
   "id": "4d1773cf-06a2-4237-80f4-b819d773eb59",
   "metadata": {},
   "outputs": [
    {
     "data": {
      "text/plain": [
       "array([[   40.,   365.,  2000.,  3121.,  4241., 13621.],\n",
       "       [   40.,   365.,  2000.,  3061.,  4171., 15041.],\n",
       "       [   40.,   365.,  1000.,  2160.,  3280., 15340.],\n",
       "       ...,\n",
       "       [   40.,   365.,  2000.,  4201.,  5001., 16600.],\n",
       "       [   40.,   365.,  1000.,  2080.,  3320., 15600.],\n",
       "       [   40.,   365.,  2000.,  4601.,  4601., 16600.]])"
      ]
     },
     "execution_count": 51,
     "metadata": {},
     "output_type": "execute_result"
    }
   ],
   "source": [
    "np.sort(lending_co_data_numerica)"
   ]
  },
  {
   "cell_type": "markdown",
   "id": "1c57d760-b8e2-4b01-887d-f9d27a6695f4",
   "metadata": {},
   "source": [
    "### let's sort the array in descending order by adding minus (-)"
   ]
  },
  {
   "cell_type": "code",
   "execution_count": 52,
   "id": "8ed4c8ca-90c0-42c9-8312-d1d00887b1f0",
   "metadata": {},
   "outputs": [
    {
     "data": {
      "text/plain": [
       "array([[-13621.,  -4241.,  -3121.,  -2000.,   -365.,    -40.],\n",
       "       [-15041.,  -4171.,  -3061.,  -2000.,   -365.,    -40.],\n",
       "       [-15340.,  -3280.,  -2160.,  -1000.,   -365.,    -40.],\n",
       "       ...,\n",
       "       [-16600.,  -5001.,  -4201.,  -2000.,   -365.,    -40.],\n",
       "       [-15600.,  -3320.,  -2080.,  -1000.,   -365.,    -40.],\n",
       "       [-16600.,  -4601.,  -4601.,  -2000.,   -365.,    -40.]])"
      ]
     },
     "execution_count": 52,
     "metadata": {},
     "output_type": "execute_result"
    }
   ],
   "source": [
    "arr1 = np.sort(-lending_co_data_numerica)\n",
    "arr1"
   ]
  },
  {
   "cell_type": "code",
   "execution_count": 53,
   "id": "2ec005e4-86e9-4c69-8eaa-2985350e7231",
   "metadata": {},
   "outputs": [],
   "source": [
    "arr2 = -arr1"
   ]
  },
  {
   "cell_type": "code",
   "execution_count": 54,
   "id": "f2375048-2b95-466d-bc8e-e5c754bb6c87",
   "metadata": {},
   "outputs": [
    {
     "data": {
      "text/plain": [
       "array([[13621.,  4241.,  3121.,  2000.,   365.,    40.],\n",
       "       [15041.,  4171.,  3061.,  2000.,   365.,    40.],\n",
       "       [15340.,  3280.,  2160.,  1000.,   365.,    40.],\n",
       "       ...,\n",
       "       [16600.,  5001.,  4201.,  2000.,   365.,    40.],\n",
       "       [15600.,  3320.,  2080.,  1000.,   365.,    40.],\n",
       "       [16600.,  4601.,  4601.,  2000.,   365.,    40.]])"
      ]
     },
     "execution_count": 54,
     "metadata": {},
     "output_type": "execute_result"
    }
   ],
   "source": [
    "arr2"
   ]
  },
  {
   "cell_type": "code",
   "execution_count": 55,
   "id": "aeba082e-32d9-4c2d-85d7-187be26a7262",
   "metadata": {},
   "outputs": [
    {
     "data": {
      "text/plain": [
       "array([[13621., 15041., 15340., ..., 16600., 15600., 16600.],\n",
       "       [ 4241.,  4171.,  3280., ...,  5001.,  3320.,  4601.],\n",
       "       [ 3121.,  3061.,  2160., ...,  4201.,  2080.,  4601.],\n",
       "       [ 2000.,  2000.,  1000., ...,  2000.,  1000.,  2000.],\n",
       "       [  365.,   365.,   365., ...,   365.,   365.,   365.],\n",
       "       [   40.,    40.,    40., ...,    40.,    40.,    40.]])"
      ]
     },
     "execution_count": 55,
     "metadata": {},
     "output_type": "execute_result"
    }
   ],
   "source": [
    "np.transpose(arr2)"
   ]
  },
  {
   "cell_type": "markdown",
   "id": "9c2a27e0-dc1e-4479-9d08-b4cf1ad6208c",
   "metadata": {},
   "source": [
    "### How to sort a specific colum data ?"
   ]
  },
  {
   "cell_type": "code",
   "execution_count": 56,
   "id": "f325cbdc-1d01-4abc-8a68-d0d4d6833f5c",
   "metadata": {},
   "outputs": [
    {
     "data": {
      "text/plain": [
       "array([[ 2000.,    40.,   365.,  3121.,  4241., 13621.],\n",
       "       [ 2000.,    40.,   365.,  3061.,  4171., 15041.],\n",
       "       [ 1000.,    40.,   365.,  2160.,  3280., 15340.],\n",
       "       ...,\n",
       "       [ 2000.,    40.,   365.,  4201.,  5001., 16600.],\n",
       "       [ 1000.,    40.,   365.,  2080.,  3320., 15600.],\n",
       "       [ 2000.,    40.,   365.,  4601.,  4601., 16600.]])"
      ]
     },
     "execution_count": 56,
     "metadata": {},
     "output_type": "execute_result"
    }
   ],
   "source": [
    "lending_co_data_numerica"
   ]
  },
  {
   "cell_type": "code",
   "execution_count": 57,
   "id": "82e050ce-5b58-4d46-b643-1864c0d74ae7",
   "metadata": {},
   "outputs": [
    {
     "data": {
      "text/plain": [
       "array([-2870., -2550., -2450., ..., 16751., 17650., 19001.])"
      ]
     },
     "execution_count": 57,
     "metadata": {},
     "output_type": "execute_result"
    }
   ],
   "source": [
    "np.sort(lending_co_data_numerica[:,3])"
   ]
  },
  {
   "cell_type": "code",
   "execution_count": 58,
   "id": "5795b4e1-9b58-40c5-9af5-6c768f97f2d9",
   "metadata": {},
   "outputs": [],
   "source": [
    "lending_co_data_numerica[:,3].sort()"
   ]
  },
  {
   "cell_type": "code",
   "execution_count": 59,
   "id": "ffcb2215-e86e-49ff-a094-2b4181aafcb2",
   "metadata": {},
   "outputs": [
    {
     "data": {
      "text/plain": [
       "array([[ 2000.,    40.,   365., -2870.,  4241., 13621.],\n",
       "       [ 2000.,    40.,   365., -2550.,  4171., 15041.],\n",
       "       [ 1000.,    40.,   365., -2450.,  3280., 15340.],\n",
       "       ...,\n",
       "       [ 2000.,    40.,   365., 16751.,  5001., 16600.],\n",
       "       [ 1000.,    40.,   365., 17650.,  3320., 15600.],\n",
       "       [ 2000.,    40.,   365., 19001.,  4601., 16600.]])"
      ]
     },
     "execution_count": 59,
     "metadata": {},
     "output_type": "execute_result"
    }
   ],
   "source": [
    "lending_co_data_numerica"
   ]
  },
  {
   "cell_type": "markdown",
   "id": "3d6c9ea5-de70-4da7-b590-24dd4286e548",
   "metadata": {},
   "source": [
    "## sorting only the column 2"
   ]
  },
  {
   "cell_type": "code",
   "execution_count": 67,
   "id": "d26a81c6-2c97-47a4-bde7-557acd945011",
   "metadata": {},
   "outputs": [],
   "source": [
    "lending_co_data_numerica[:,1].sort()"
   ]
  },
  {
   "cell_type": "code",
   "execution_count": 68,
   "id": "539f58ea-182b-4c6b-9a6a-94a2ab5d0db7",
   "metadata": {},
   "outputs": [
    {
     "data": {
      "text/plain": [
       "array([[ 2000.,    35.,   365., -2870.,  4241., 13621.],\n",
       "       [ 2000.,    35.,   365., -2550.,  4171., 15041.],\n",
       "       [ 1000.,    35.,   365., -2450.,  3280., 15340.],\n",
       "       ...,\n",
       "       [ 2000.,   125.,   365., 16751.,  5001., 16600.],\n",
       "       [ 1000.,   165.,   365., 17650.,  3320., 15600.],\n",
       "       [ 2000.,   165.,   365., 19001.,  4601., 16600.]])"
      ]
     },
     "execution_count": 68,
     "metadata": {},
     "output_type": "execute_result"
    }
   ],
   "source": [
    "lending_co_data_numerica"
   ]
  },
  {
   "cell_type": "code",
   "execution_count": 69,
   "id": "e3568d02-fdae-4f32-9bb4-e97e90952336",
   "metadata": {},
   "outputs": [
    {
     "data": {
      "text/plain": [
       "35.0"
      ]
     },
     "execution_count": 69,
     "metadata": {},
     "output_type": "execute_result"
    }
   ],
   "source": [
    "## checking the minimum of the 2nd cloumn\n",
    "\n",
    "lending_co_data_numerica[:,1].min()"
   ]
  },
  {
   "cell_type": "code",
   "execution_count": 70,
   "id": "09f35e15-ea8d-491c-9eef-fb8e9c3024ec",
   "metadata": {},
   "outputs": [
    {
     "data": {
      "text/plain": [
       "35.0"
      ]
     },
     "execution_count": 70,
     "metadata": {},
     "output_type": "execute_result"
    }
   ],
   "source": [
    "np.min(lending_co_data_numerica[:,1])"
   ]
  },
  {
   "cell_type": "code",
   "execution_count": 73,
   "id": "fc1af724-d0ef-4186-aeab-0ec0ede42a5b",
   "metadata": {},
   "outputs": [],
   "source": [
    "## sorting only the first row\n",
    "\n",
    "lending_co_data_numerica[0:1,].sort()"
   ]
  },
  {
   "cell_type": "code",
   "execution_count": 74,
   "id": "c2bb6eee-b70c-4677-8ad7-0c0d6d356bed",
   "metadata": {},
   "outputs": [
    {
     "data": {
      "text/plain": [
       "array([[-2870.,    35.,   365.,  2000.,  4241., 13621.],\n",
       "       [-2550.,    35.,   365.,  2000.,  4171., 15041.],\n",
       "       [-2450.,    35.,   365.,  1000.,  3280., 15340.],\n",
       "       ...,\n",
       "       [  125.,   365.,  2000.,  5001., 16600., 16751.],\n",
       "       [  165.,   365.,  1000.,  3320., 15600., 17650.],\n",
       "       [  165.,   365.,  2000.,  4601., 16600., 19001.]])"
      ]
     },
     "execution_count": 74,
     "metadata": {},
     "output_type": "execute_result"
    }
   ],
   "source": [
    "lending_co_data_numerica"
   ]
  },
  {
   "cell_type": "code",
   "execution_count": 77,
   "id": "a87e8985-cb53-4614-a3a9-1106aeb690c3",
   "metadata": {},
   "outputs": [
    {
     "data": {
      "text/plain": [
       "array([[-2870.,    35.,   365.,  2000.,  4241., 13621.]])"
      ]
     },
     "execution_count": 77,
     "metadata": {},
     "output_type": "execute_result"
    }
   ],
   "source": [
    "lending_co_data_numerica[0:1,]\n",
    "\n",
    "## this will selected only the first row of the dataset"
   ]
  },
  {
   "cell_type": "code",
   "execution_count": 78,
   "id": "48326ae4-d907-4629-b644-f86e2012e374",
   "metadata": {},
   "outputs": [
    {
     "data": {
      "text/plain": [
       "array([[-2.8700e+03, -3.5000e+02,  4.0000e+01,  3.6500e+02,  1.0000e+03,\n",
       "         1.1600e+03],\n",
       "       [-2.8700e+03,  3.5000e+01,  1.0000e+02,  3.6500e+02,  1.0000e+03,\n",
       "         1.5000e+03],\n",
       "       [-2.5500e+03,  3.5000e+01,  1.5000e+02,  3.6500e+02,  1.0000e+03,\n",
       "         2.2000e+03],\n",
       "       ...,\n",
       "       [ 1.2500e+02,  3.6500e+02,  7.2510e+03,  9.2010e+03,  1.8751e+04,\n",
       "         5.4625e+04],\n",
       "       [ 1.6500e+02,  3.6500e+02,  9.0000e+03,  1.2126e+04,  2.0001e+04,\n",
       "         5.4625e+04],\n",
       "       [ 1.6500e+02,  3.6500e+02,  9.0000e+03,  1.3900e+04,  2.2001e+04,\n",
       "         6.4001e+04]])"
      ]
     },
     "execution_count": 78,
     "metadata": {},
     "output_type": "execute_result"
    }
   ],
   "source": [
    "### To sort the entire dataset and column wise set axis =0\n",
    "\n",
    "lending_co_data_numerica.sort(axis =0)\n",
    "lending_co_data_numerica\n"
   ]
  },
  {
   "cell_type": "markdown",
   "id": "c3b898f2-2093-4cbd-9dc0-e7654b42f723",
   "metadata": {},
   "source": [
    "## This help to change the exponential to fixe number"
   ]
  },
  {
   "cell_type": "code",
   "execution_count": 79,
   "id": "89792967-d1b1-4ddd-a600-89c1431a4af4",
   "metadata": {},
   "outputs": [],
   "source": [
    "np.set_printoptions(suppress= True)"
   ]
  },
  {
   "cell_type": "code",
   "execution_count": 80,
   "id": "a32ce237-5a66-4979-b884-5fd591d4c030",
   "metadata": {},
   "outputs": [
    {
     "data": {
      "text/plain": [
       "array([[-2870.,  -350.,    40.,   365.,  1000.,  1160.],\n",
       "       [-2870.,    35.,   100.,   365.,  1000.,  1500.],\n",
       "       [-2550.,    35.,   150.,   365.,  1000.,  2200.],\n",
       "       ...,\n",
       "       [  125.,   365.,  7251.,  9201., 18751., 54625.],\n",
       "       [  165.,   365.,  9000., 12126., 20001., 54625.],\n",
       "       [  165.,   365.,  9000., 13900., 22001., 64001.]])"
      ]
     },
     "execution_count": 80,
     "metadata": {},
     "output_type": "execute_result"
    }
   ],
   "source": [
    "lending_co_data_numerica"
   ]
  },
  {
   "cell_type": "markdown",
   "id": "62995f3d-fd68-4945-bf64-153ee1e0b96c",
   "metadata": {},
   "source": [
    "## Argument Functions"
   ]
  },
  {
   "cell_type": "code",
   "execution_count": 87,
   "id": "c8736f40-7bb2-4fda-91c0-bfb9480b6161",
   "metadata": {},
   "outputs": [
    {
     "data": {
      "text/plain": [
       "array([[ 2000.,    40.,   365.,  3121.,  4241., 13621.],\n",
       "       [ 2000.,    40.,   365.,  3061.,  4171., 15041.],\n",
       "       [ 1000.,    40.,   365.,  2160.,  3280., 15340.],\n",
       "       ...,\n",
       "       [ 2000.,    40.,   365.,  4201.,  5001., 16600.],\n",
       "       [ 1000.,    40.,   365.,  2080.,  3320., 15600.],\n",
       "       [ 2000.,    40.,   365.,  4601.,  4601., 16600.]])"
      ]
     },
     "execution_count": 87,
     "metadata": {},
     "output_type": "execute_result"
    }
   ],
   "source": [
    "lending_co_data_numericb = np.loadtxt('Lending-company-Numeric.csv',delimiter=',')\n",
    "lending_co_data_numericb"
   ]
  },
  {
   "cell_type": "markdown",
   "id": "7544bbba-ac80-4eb3-aa65-c1b6d7176704",
   "metadata": {},
   "source": [
    "### __np.argsort()__ method for sorting array"
   ]
  },
  {
   "cell_type": "code",
   "execution_count": 88,
   "id": "0a1fc9c7-1167-4405-bbd4-b5e0f60aa047",
   "metadata": {},
   "outputs": [
    {
     "data": {
      "text/plain": [
       "array([[1, 2, 0, 3, 4, 5],\n",
       "       [1, 2, 0, 3, 4, 5],\n",
       "       [1, 2, 0, 3, 4, 5],\n",
       "       ...,\n",
       "       [1, 2, 0, 3, 4, 5],\n",
       "       [1, 2, 0, 3, 4, 5],\n",
       "       [1, 2, 0, 3, 4, 5]])"
      ]
     },
     "execution_count": 88,
     "metadata": {},
     "output_type": "execute_result"
    }
   ],
   "source": [
    "## example\n",
    "np.argsort(lending_co_data_numericb)"
   ]
  },
  {
   "cell_type": "code",
   "execution_count": 89,
   "id": "f5c71d40-1cc9-4f1f-a6c5-284659ed1d32",
   "metadata": {},
   "outputs": [],
   "source": [
    "lending_co_data_numericb.sort()"
   ]
  },
  {
   "cell_type": "code",
   "execution_count": 90,
   "id": "3450debd-15e2-46f9-82ae-9643820b6596",
   "metadata": {},
   "outputs": [
    {
     "data": {
      "text/plain": [
       "array([[   40.,   365.,  2000.,  3121.,  4241., 13621.],\n",
       "       [   40.,   365.,  2000.,  3061.,  4171., 15041.],\n",
       "       [   40.,   365.,  1000.,  2160.,  3280., 15340.],\n",
       "       ...,\n",
       "       [   40.,   365.,  2000.,  4201.,  5001., 16600.],\n",
       "       [   40.,   365.,  1000.,  2080.,  3320., 15600.],\n",
       "       [   40.,   365.,  2000.,  4601.,  4601., 16600.]])"
      ]
     },
     "execution_count": 90,
     "metadata": {},
     "output_type": "execute_result"
    }
   ],
   "source": [
    "lending_co_data_numericb"
   ]
  },
  {
   "cell_type": "code",
   "execution_count": 91,
   "id": "79a0194a-a120-4c3c-9e7f-4f79c08d97a6",
   "metadata": {},
   "outputs": [
    {
     "data": {
      "text/plain": [
       "array([[  32,   32,  482,  482,  482,  493],\n",
       "       [ 166,  166,  218,  493,  493,  482],\n",
       "       [  85,   85,  227,  448,  635,  166],\n",
       "       ...,\n",
       "       [ 442,  367,  202,  568, 1019,  568],\n",
       "       [ 408,  354,  288,  718, 1033,  534],\n",
       "       [  27, 1042,  234,  912,  912,   27]])"
      ]
     },
     "execution_count": 91,
     "metadata": {},
     "output_type": "execute_result"
    }
   ],
   "source": [
    "np.argsort(lending_co_data_numericb,axis = 0)"
   ]
  },
  {
   "cell_type": "code",
   "execution_count": 94,
   "id": "85e0f292-3e21-4196-8c7c-f2d21e53841d",
   "metadata": {},
   "outputs": [
    {
     "data": {
      "text/plain": [
       "array([40., 40., 40., ..., 40., 40., 40.])"
      ]
     },
     "execution_count": 94,
     "metadata": {},
     "output_type": "execute_result"
    }
   ],
   "source": [
    "lending_co_data_numericb[:,0]"
   ]
  },
  {
   "cell_type": "markdown",
   "id": "a01fdbda-5001-496d-a8fe-b543c73107a3",
   "metadata": {},
   "source": [
    "### Let's sort the dataset base on the first column"
   ]
  },
  {
   "cell_type": "code",
   "execution_count": 95,
   "id": "1756efba-aec7-4a65-a0ae-24a2853710cc",
   "metadata": {},
   "outputs": [],
   "source": [
    "lending_co_data_numericb = lending_co_data_numericb[np.argsort(lending_co_data_numericb[:,0])]"
   ]
  },
  {
   "cell_type": "code",
   "execution_count": 96,
   "id": "c2c23b96-6c5b-4a9b-91c2-c7d168f15458",
   "metadata": {},
   "outputs": [
    {
     "data": {
      "text/plain": [
       "array([[-2870., -2870.,    50.,   365.,  1000.,  1160.],\n",
       "       [-2550., -2100.,    50.,   365.,  1000.,  1100.],\n",
       "       [-2450., -2000.,    50.,   365.,  1000.,  1500.],\n",
       "       ...,\n",
       "       [  125.,   365.,  9000., 12701., 16331., 52681.],\n",
       "       [  165.,   365.,  9000., 14460., 18050., 37903.],\n",
       "       [  165.,   365.,  9000., 14501., 16846., 64001.]])"
      ]
     },
     "execution_count": 96,
     "metadata": {},
     "output_type": "execute_result"
    }
   ],
   "source": [
    "lending_co_data_numericb"
   ]
  },
  {
   "cell_type": "markdown",
   "id": "25774b49-7d82-4fdd-a869-8464fcd75202",
   "metadata": {},
   "source": [
    "## __np.argwhere()__ , How it works? let's analyse it.\n",
    "\n",
    "#### It's helpful on finding the location of the specific item, when you set condition to False"
   ]
  },
  {
   "cell_type": "code",
   "execution_count": 97,
   "id": "b74e6d3d-240e-4ae1-92e4-13710aa2c8dc",
   "metadata": {},
   "outputs": [
    {
     "data": {
      "text/plain": [
       "array([[ 2000.,    40.,   365.,  3121.,  4241., 13621.],\n",
       "       [ 2000.,    40.,   365.,  3061.,  4171., 15041.],\n",
       "       [ 1000.,    40.,   365.,  2160.,  3280., 15340.],\n",
       "       ...,\n",
       "       [ 2000.,    40.,   365.,  4201.,  5001., 16600.],\n",
       "       [ 1000.,    40.,   365.,  2080.,  3320., 15600.],\n",
       "       [ 2000.,    40.,   365.,  4601.,  4601., 16600.]])"
      ]
     },
     "execution_count": 97,
     "metadata": {},
     "output_type": "execute_result"
    }
   ],
   "source": [
    "lending_co_data_numericd = np.loadtxt('Lending-company-Numeric.csv',delimiter=',')\n",
    "lending_co_data_numericd"
   ]
  },
  {
   "cell_type": "code",
   "execution_count": 98,
   "id": "03decacb-66e9-46c7-b898-1487e61dbf6e",
   "metadata": {},
   "outputs": [
    {
     "data": {
      "text/plain": [
       "array([[   0,    0],\n",
       "       [   0,    1],\n",
       "       [   0,    2],\n",
       "       ...,\n",
       "       [1042,    3],\n",
       "       [1042,    4],\n",
       "       [1042,    5]])"
      ]
     },
     "execution_count": 98,
     "metadata": {},
     "output_type": "execute_result"
    }
   ],
   "source": [
    "np.argwhere(lending_co_data_numericd)"
   ]
  },
  {
   "cell_type": "code",
   "execution_count": 99,
   "id": "33b6e769-2366-4204-ab61-ad9c44e1bd51",
   "metadata": {},
   "outputs": [],
   "source": [
    "# [row_index, column_index]"
   ]
  },
  {
   "cell_type": "code",
   "execution_count": null,
   "id": "935fb223-8b60-44ae-9be3-f6fc29b2257e",
   "metadata": {},
   "outputs": [],
   "source": [
    "### Let's set set condition to false and check where 0 value is located in the \n",
    "### dataset and the coordinates"
   ]
  },
  {
   "cell_type": "code",
   "execution_count": 100,
   "id": "b992854d-2951-41d8-a6ea-520d16b2c3cf",
   "metadata": {},
   "outputs": [
    {
     "data": {
      "text/plain": [
       "array([[116,   4],\n",
       "       [430,   3]])"
      ]
     },
     "execution_count": 100,
     "metadata": {},
     "output_type": "execute_result"
    }
   ],
   "source": [
    "np.argwhere(lending_co_data_numericd == False)"
   ]
  },
  {
   "cell_type": "markdown",
   "id": "8dc8e753-7c85-4ee9-9d55-6c8e5d8eba16",
   "metadata": {},
   "source": [
    "### [116, 4] , means at row 116 and column 4 there 0 and at [430, 3]\n",
    "### there only two zero in dataset."
   ]
  },
  {
   "cell_type": "code",
   "execution_count": 103,
   "id": "27d74cbc-6a0a-40ce-914e-b3468aaa5cdd",
   "metadata": {},
   "outputs": [
    {
     "data": {
      "text/plain": [
       "array([ 1000.,    50.,   365., -1450.,     0., 13850.])"
      ]
     },
     "execution_count": 103,
     "metadata": {},
     "output_type": "execute_result"
    }
   ],
   "source": [
    "lending_co_data_numericd[116]\n",
    "\n"
   ]
  },
  {
   "cell_type": "code",
   "execution_count": 104,
   "id": "203bad05-ebba-4e24-b11a-1152be4bf563",
   "metadata": {},
   "outputs": [
    {
     "data": {
      "text/plain": [
       "0.0"
      ]
     },
     "execution_count": 104,
     "metadata": {},
     "output_type": "execute_result"
    }
   ],
   "source": [
    "lending_co_data_numericd[116,4]\n"
   ]
  },
  {
   "cell_type": "code",
   "execution_count": 105,
   "id": "344eca95-7d39-4e99-b1ba-38900fd7ec85",
   "metadata": {},
   "outputs": [
    {
     "data": {
      "text/plain": [
       "0.0"
      ]
     },
     "execution_count": 105,
     "metadata": {},
     "output_type": "execute_result"
    }
   ],
   "source": [
    "lending_co_data_numericd[430,3]\n"
   ]
  },
  {
   "cell_type": "markdown",
   "id": "1b5de49c-dc62-48ec-9927-7c4b3f259132",
   "metadata": {},
   "source": [
    "### How to use __np.argwhere__ to fixe NAN values ?"
   ]
  },
  {
   "cell_type": "code",
   "execution_count": 109,
   "id": "e148776d-7291-4b8e-b8f9-ee27ec838521",
   "metadata": {},
   "outputs": [
    {
     "data": {
      "text/plain": [
       "array([[ 2000.,    40.,   365.,  3121.,  4241., 13621.],\n",
       "       [ 2000.,    40.,   365.,  3061.,  4171., 15041.],\n",
       "       [ 1000.,    40.,   365.,  2160.,  3280., 15340.],\n",
       "       ...,\n",
       "       [   nan,    40.,   365.,  4201.,  5001., 16600.],\n",
       "       [ 1000.,    40.,   365.,  2080.,  3320., 15600.],\n",
       "       [ 2000.,    40.,   365.,  4601.,  4601., 16600.]])"
      ]
     },
     "execution_count": 109,
     "metadata": {},
     "output_type": "execute_result"
    }
   ],
   "source": [
    "lending_co_data_numeric_NAN = np.genfromtxt('Lending-Company-Numeric-Data-NAN.csv',delimiter=';')\n",
    "lending_co_data_numeric_NAN"
   ]
  },
  {
   "cell_type": "code",
   "execution_count": 110,
   "id": "354f897f-62cf-4d43-8fc7-0eeb3c2ad17f",
   "metadata": {},
   "outputs": [
    {
     "data": {
      "text/plain": [
       "260"
      ]
     },
     "execution_count": 110,
     "metadata": {},
     "output_type": "execute_result"
    }
   ],
   "source": [
    "np.isnan(lending_co_data_numeric_NAN).sum()\n",
    "\n",
    "## some of missing values"
   ]
  },
  {
   "cell_type": "markdown",
   "id": "1ba312ea-2b0e-4595-a52d-e832954af935",
   "metadata": {},
   "source": [
    "# This gives the coordinates for all missing values of the array"
   ]
  },
  {
   "cell_type": "code",
   "execution_count": 113,
   "id": "e7613975-fe4c-4be5-99e1-5c163e6886f7",
   "metadata": {},
   "outputs": [
    {
     "data": {
      "text/plain": [
       "array([[  11,    3],\n",
       "       [  15,    3],\n",
       "       [  27,    3],\n",
       "       [  58,    3],\n",
       "       [  60,    4],\n",
       "       [  85,    4],\n",
       "       [ 117,    5],\n",
       "       [ 152,    1],\n",
       "       [ 152,    2],\n",
       "       [ 152,    4],\n",
       "       [ 172,    1],\n",
       "       [ 175,    1],\n",
       "       [ 175,    2],\n",
       "       [ 176,    3],\n",
       "       [ 177,    4],\n",
       "       [ 178,    5],\n",
       "       [ 211,    3],\n",
       "       [ 229,    0],\n",
       "       [ 230,    1],\n",
       "       [ 237,    1],\n",
       "       [ 247,    3],\n",
       "       [ 251,    5],\n",
       "       [ 252,    4],\n",
       "       [ 258,    1],\n",
       "       [ 260,    3],\n",
       "       [ 262,    4],\n",
       "       [ 271,    5],\n",
       "       [ 272,    4],\n",
       "       [ 284,    2],\n",
       "       [ 284,    3],\n",
       "       [ 297,    1],\n",
       "       [ 297,    2],\n",
       "       [ 300,    3],\n",
       "       [ 315,    3],\n",
       "       [ 315,    5],\n",
       "       [ 327,    4],\n",
       "       [ 336,    4],\n",
       "       [ 343,    0],\n",
       "       [ 344,    2],\n",
       "       [ 346,    2],\n",
       "       [ 363,    3],\n",
       "       [ 375,    3],\n",
       "       [ 377,    2],\n",
       "       [ 398,    5],\n",
       "       [ 416,    4],\n",
       "       [ 428,    0],\n",
       "       [ 432,    1],\n",
       "       [ 433,    3],\n",
       "       [ 434,    2],\n",
       "       [ 440,    3],\n",
       "       [ 441,    1],\n",
       "       [ 446,    2],\n",
       "       [ 455,    1],\n",
       "       [ 456,    2],\n",
       "       [ 458,    2],\n",
       "       [ 461,    3],\n",
       "       [ 467,    4],\n",
       "       [ 468,    0],\n",
       "       [ 469,    3],\n",
       "       [ 470,    0],\n",
       "       [ 481,    1],\n",
       "       [ 482,    3],\n",
       "       [ 484,    4],\n",
       "       [ 489,    0],\n",
       "       [ 493,    5],\n",
       "       [ 499,    0],\n",
       "       [ 504,    3],\n",
       "       [ 506,    1],\n",
       "       [ 517,    4],\n",
       "       [ 518,    0],\n",
       "       [ 521,    2],\n",
       "       [ 530,    5],\n",
       "       [ 532,    3],\n",
       "       [ 534,    5],\n",
       "       [ 547,    3],\n",
       "       [ 549,    5],\n",
       "       [ 553,    5],\n",
       "       [ 554,    5],\n",
       "       [ 559,    3],\n",
       "       [ 566,    0],\n",
       "       [ 566,    1],\n",
       "       [ 566,    2],\n",
       "       [ 567,    0],\n",
       "       [ 567,    1],\n",
       "       [ 567,    2],\n",
       "       [ 581,    1],\n",
       "       [ 581,    2],\n",
       "       [ 582,    1],\n",
       "       [ 582,    2],\n",
       "       [ 583,    1],\n",
       "       [ 583,    2],\n",
       "       [ 593,    3],\n",
       "       [ 594,    3],\n",
       "       [ 595,    3],\n",
       "       [ 596,    3],\n",
       "       [ 609,    4],\n",
       "       [ 609,    5],\n",
       "       [ 610,    4],\n",
       "       [ 610,    5],\n",
       "       [ 611,    4],\n",
       "       [ 611,    5],\n",
       "       [ 612,    4],\n",
       "       [ 612,    5],\n",
       "       [ 623,    2],\n",
       "       [ 623,    3],\n",
       "       [ 624,    2],\n",
       "       [ 624,    3],\n",
       "       [ 625,    2],\n",
       "       [ 625,    3],\n",
       "       [ 626,    2],\n",
       "       [ 626,    3],\n",
       "       [ 627,    2],\n",
       "       [ 627,    3],\n",
       "       [ 636,    0],\n",
       "       [ 637,    0],\n",
       "       [ 637,    4],\n",
       "       [ 637,    5],\n",
       "       [ 638,    0],\n",
       "       [ 638,    4],\n",
       "       [ 638,    5],\n",
       "       [ 639,    4],\n",
       "       [ 639,    5],\n",
       "       [ 640,    4],\n",
       "       [ 640,    5],\n",
       "       [ 641,    4],\n",
       "       [ 641,    5],\n",
       "       [ 653,    1],\n",
       "       [ 653,    2],\n",
       "       [ 653,    3],\n",
       "       [ 653,    4],\n",
       "       [ 654,    1],\n",
       "       [ 654,    2],\n",
       "       [ 654,    3],\n",
       "       [ 654,    4],\n",
       "       [ 655,    1],\n",
       "       [ 655,    2],\n",
       "       [ 655,    3],\n",
       "       [ 655,    4],\n",
       "       [ 685,    2],\n",
       "       [ 686,    0],\n",
       "       [ 701,    4],\n",
       "       [ 704,    2],\n",
       "       [ 724,    1],\n",
       "       [ 724,    2],\n",
       "       [ 730,    1],\n",
       "       [ 730,    2],\n",
       "       [ 730,    3],\n",
       "       [ 731,    1],\n",
       "       [ 731,    2],\n",
       "       [ 731,    3],\n",
       "       [ 732,    1],\n",
       "       [ 732,    2],\n",
       "       [ 732,    3],\n",
       "       [ 733,    1],\n",
       "       [ 733,    2],\n",
       "       [ 733,    3],\n",
       "       [ 742,    4],\n",
       "       [ 747,    3],\n",
       "       [ 755,    1],\n",
       "       [ 758,    1],\n",
       "       [ 760,    1],\n",
       "       [ 764,    0],\n",
       "       [ 764,    1],\n",
       "       [ 764,    2],\n",
       "       [ 764,    3],\n",
       "       [ 764,    4],\n",
       "       [ 764,    5],\n",
       "       [ 765,    3],\n",
       "       [ 775,    1],\n",
       "       [ 775,    2],\n",
       "       [ 775,    3],\n",
       "       [ 776,    1],\n",
       "       [ 776,    2],\n",
       "       [ 776,    3],\n",
       "       [ 777,    1],\n",
       "       [ 777,    2],\n",
       "       [ 777,    3],\n",
       "       [ 778,    1],\n",
       "       [ 778,    2],\n",
       "       [ 778,    3],\n",
       "       [ 787,    4],\n",
       "       [ 788,    1],\n",
       "       [ 790,    2],\n",
       "       [ 794,    3],\n",
       "       [ 795,    5],\n",
       "       [ 796,    1],\n",
       "       [ 796,    4],\n",
       "       [ 800,    0],\n",
       "       [ 801,    1],\n",
       "       [ 802,    1],\n",
       "       [ 803,    2],\n",
       "       [ 805,    0],\n",
       "       [ 809,    0],\n",
       "       [ 810,    0],\n",
       "       [ 811,    0],\n",
       "       [ 812,    1],\n",
       "       [ 820,    0],\n",
       "       [ 820,    3],\n",
       "       [ 820,    4],\n",
       "       [ 822,    2],\n",
       "       [ 823,    2],\n",
       "       [ 825,    0],\n",
       "       [ 830,    1],\n",
       "       [ 830,    2],\n",
       "       [ 836,    3],\n",
       "       [ 837,    3],\n",
       "       [ 838,    3],\n",
       "       [ 839,    4],\n",
       "       [ 843,    2],\n",
       "       [ 856,    0],\n",
       "       [ 856,    1],\n",
       "       [ 856,    3],\n",
       "       [ 856,    4],\n",
       "       [ 856,    5],\n",
       "       [ 857,    0],\n",
       "       [ 858,    1],\n",
       "       [ 870,    0],\n",
       "       [ 870,    2],\n",
       "       [ 870,    3],\n",
       "       [ 872,    0],\n",
       "       [ 873,    0],\n",
       "       [ 874,    1],\n",
       "       [ 890,    1],\n",
       "       [ 890,    2],\n",
       "       [ 890,    3],\n",
       "       [ 909,    1],\n",
       "       [ 910,    0],\n",
       "       [ 912,    0],\n",
       "       [ 912,    2],\n",
       "       [ 912,    3],\n",
       "       [ 912,    4],\n",
       "       [ 928,    1],\n",
       "       [ 928,    2],\n",
       "       [ 928,    3],\n",
       "       [ 929,    1],\n",
       "       [ 929,    2],\n",
       "       [ 929,    3],\n",
       "       [ 930,    3],\n",
       "       [ 958,    2],\n",
       "       [ 959,    3],\n",
       "       [ 960,    3],\n",
       "       [1024,    0],\n",
       "       [1024,    2],\n",
       "       [1026,    2],\n",
       "       [1026,    4],\n",
       "       [1028,    0],\n",
       "       [1028,    3],\n",
       "       [1028,    4],\n",
       "       [1029,    0],\n",
       "       [1030,    1],\n",
       "       [1030,    5],\n",
       "       [1032,    0],\n",
       "       [1032,    5],\n",
       "       [1034,    3],\n",
       "       [1035,    4],\n",
       "       [1036,    2],\n",
       "       [1037,    1],\n",
       "       [1038,    4],\n",
       "       [1039,    3],\n",
       "       [1040,    0]])"
      ]
     },
     "execution_count": 113,
     "metadata": {},
     "output_type": "execute_result"
    }
   ],
   "source": [
    "np.argwhere(np.isnan(lending_co_data_numeric_NAN))\n",
    "\n",
    "## This gives the coordinates for all missing values of the array"
   ]
  },
  {
   "cell_type": "code",
   "execution_count": 129,
   "id": "ce3c135a-fc98-43be-b3b9-eff6f0ceaec7",
   "metadata": {},
   "outputs": [
    {
     "data": {
      "text/plain": [
       "0.0"
      ]
     },
     "execution_count": 129,
     "metadata": {},
     "output_type": "execute_result"
    }
   ],
   "source": [
    "lending_co_data_numeric_NAN[1040,0]"
   ]
  },
  {
   "cell_type": "code",
   "execution_count": 118,
   "id": "b8f140dc-0c68-40fa-bf7f-4063fa84fccd",
   "metadata": {},
   "outputs": [
    {
     "data": {
      "text/plain": [
       "array([   nan,    40.,   365.,  4201.,  5001., 16600.])"
      ]
     },
     "execution_count": 118,
     "metadata": {},
     "output_type": "execute_result"
    }
   ],
   "source": [
    "lending_co_data_numeric_NAN[1040]"
   ]
  },
  {
   "cell_type": "code",
   "execution_count": null,
   "id": "4b7c4334-61ea-4d53-a459-2a775aa783b1",
   "metadata": {},
   "outputs": [],
   "source": []
  },
  {
   "cell_type": "raw",
   "id": "da78f2fc-6d9a-4764-b54a-284d4fc023f9",
   "metadata": {},
   "source": [
    "With a single iteraation we can fill all these values out."
   ]
  },
  {
   "cell_type": "markdown",
   "id": "78f58275-01f8-47ab-925c-f1e6d2862e1a",
   "metadata": {},
   "source": [
    "### We will use the structure of a very simple __for loop__"
   ]
  },
  {
   "cell_type": "code",
   "execution_count": 120,
   "id": "02c91b57-c905-4822-b378-c0da9b0de853",
   "metadata": {},
   "outputs": [],
   "source": [
    "for array_index in np.argwhere(np.isnan(lending_co_data_numeric_NAN)):\n",
    "    #print(lending_co_data_numeric_NAN[array_index[0],array_index[1]])\n",
    "    lending_co_data_numeric_NAN[array_index[0],array_index[1]] = 0"
   ]
  },
  {
   "cell_type": "code",
   "execution_count": 121,
   "id": "94e3bf50-704f-4d6b-a7d8-eeeeb3e0ba89",
   "metadata": {},
   "outputs": [
    {
     "data": {
      "text/plain": [
       "0"
      ]
     },
     "execution_count": 121,
     "metadata": {},
     "output_type": "execute_result"
    }
   ],
   "source": [
    "## let's check again the dataset after filled out the NAN values with 0\n",
    "\n",
    "np.isnan(lending_co_data_numeric_NAN).sum()\n"
   ]
  },
  {
   "cell_type": "markdown",
   "id": "b992e753-54dc-47ff-871c-8931fd586992",
   "metadata": {},
   "source": [
    "### __np.savetxt__"
   ]
  },
  {
   "cell_type": "code",
   "execution_count": 127,
   "id": "51bbfd46-2146-4965-a0fb-8cd6591d208e",
   "metadata": {},
   "outputs": [],
   "source": [
    "## let's save the clean data using np.savetxt\n",
    "\n",
    "np.savetxt('lending_co_data_numeric_NAN_fill_By_Zero1.csv',lending_co_data_numeric_NAN,\n",
    "          fmt='%s',\n",
    "          delimiter=',')\n"
   ]
  },
  {
   "cell_type": "code",
   "execution_count": 122,
   "id": "f25f5b30-d317-4862-8c63-cbd98eb11db6",
   "metadata": {},
   "outputs": [
    {
     "data": {
      "text/plain": [
       "array([[ 2000.,    40.,   365.,  3121.,  4241., 13621.],\n",
       "       [ 2000.,    40.,   365.,  3061.,  4171., 15041.],\n",
       "       [ 1000.,    40.,   365.,  2160.,  3280., 15340.],\n",
       "       ...,\n",
       "       [    0.,    40.,   365.,  4201.,  5001., 16600.],\n",
       "       [ 1000.,    40.,   365.,  2080.,  3320., 15600.],\n",
       "       [ 2000.,    40.,   365.,  4601.,  4601., 16600.]])"
      ]
     },
     "execution_count": 122,
     "metadata": {},
     "output_type": "execute_result"
    }
   ],
   "source": [
    "lending_co_data_numeric_NAN"
   ]
  },
  {
   "cell_type": "code",
   "execution_count": null,
   "id": "17e132ab-e9a3-46ed-aec6-c4edc775a618",
   "metadata": {},
   "outputs": [],
   "source": []
  },
  {
   "cell_type": "code",
   "execution_count": 128,
   "id": "8645c9db-1e45-4749-b2ce-24f210938d43",
   "metadata": {},
   "outputs": [
    {
     "data": {
      "text/html": [
       "<div>\n",
       "<style scoped>\n",
       "    .dataframe tbody tr th:only-of-type {\n",
       "        vertical-align: middle;\n",
       "    }\n",
       "\n",
       "    .dataframe tbody tr th {\n",
       "        vertical-align: top;\n",
       "    }\n",
       "\n",
       "    .dataframe thead th {\n",
       "        text-align: right;\n",
       "    }\n",
       "</style>\n",
       "<table border=\"1\" class=\"dataframe\">\n",
       "  <thead>\n",
       "    <tr style=\"text-align: right;\">\n",
       "      <th></th>\n",
       "      <th>2000.0</th>\n",
       "      <th>40.0</th>\n",
       "      <th>365.0</th>\n",
       "      <th>3121.0</th>\n",
       "      <th>4241.0</th>\n",
       "      <th>13621.0</th>\n",
       "    </tr>\n",
       "  </thead>\n",
       "  <tbody>\n",
       "    <tr>\n",
       "      <th>0</th>\n",
       "      <td>2000.0</td>\n",
       "      <td>40.0</td>\n",
       "      <td>365.0</td>\n",
       "      <td>3061.0</td>\n",
       "      <td>4171.0</td>\n",
       "      <td>15041.0</td>\n",
       "    </tr>\n",
       "    <tr>\n",
       "      <th>1</th>\n",
       "      <td>1000.0</td>\n",
       "      <td>40.0</td>\n",
       "      <td>365.0</td>\n",
       "      <td>2160.0</td>\n",
       "      <td>3280.0</td>\n",
       "      <td>15340.0</td>\n",
       "    </tr>\n",
       "    <tr>\n",
       "      <th>2</th>\n",
       "      <td>2000.0</td>\n",
       "      <td>40.0</td>\n",
       "      <td>365.0</td>\n",
       "      <td>3041.0</td>\n",
       "      <td>4241.0</td>\n",
       "      <td>15321.0</td>\n",
       "    </tr>\n",
       "  </tbody>\n",
       "</table>\n",
       "</div>"
      ],
      "text/plain": [
       "   2000.0  40.0  365.0  3121.0  4241.0  13621.0\n",
       "0  2000.0  40.0  365.0  3061.0  4171.0  15041.0\n",
       "1  1000.0  40.0  365.0  2160.0  3280.0  15340.0\n",
       "2  2000.0  40.0  365.0  3041.0  4241.0  15321.0"
      ]
     },
     "execution_count": 128,
     "metadata": {},
     "output_type": "execute_result"
    }
   ],
   "source": [
    "fill_by_zero = pd.read_csv('lending_co_data_numeric_NAN_fill_By_Zero1.csv')\n",
    "fill_by_zero.head(3)"
   ]
  },
  {
   "cell_type": "markdown",
   "id": "32d7b996-ec8c-455c-adf5-0d2f028cf5c2",
   "metadata": {},
   "source": [
    "## Shuffling Data"
   ]
  },
  {
   "cell_type": "raw",
   "id": "58d29fa8-ae8e-4cc9-af43-5ed4d0b98057",
   "metadata": {},
   "source": [
    "# Rearranging the parts of dataset\n",
    "\n",
    "# We do so without a fixed pattern\n",
    "\n",
    "# The endgoal is that a random sample would be representative of the \n",
    " entire dataset.\n"
   ]
  },
  {
   "cell_type": "code",
   "execution_count": 130,
   "id": "a21c103e-62c0-46a3-9866-7e118e4342e4",
   "metadata": {},
   "outputs": [
    {
     "data": {
      "text/plain": [
       "array([[ 2000.,    40.,   365.,  3121.,  4241., 13621.],\n",
       "       [ 2000.,    40.,   365.,  3061.,  4171., 15041.],\n",
       "       [ 1000.,    40.,   365.,  2160.,  3280., 15340.],\n",
       "       [ 2000.,    40.,   365.,  3041.,  4241., 15321.],\n",
       "       [ 2000.,    50.,   365.,  3470.,  4820., 13720.],\n",
       "       [ 2000.,    40.,   365.,  3201.,  4141., 14141.],\n",
       "       [ 2000.,    50.,   365.,  1851.,  3251., 17701.],\n",
       "       [ 2000.,    40.,   365.,  3971.,  4131., 15351.]])"
      ]
     },
     "execution_count": 130,
     "metadata": {},
     "output_type": "execute_result"
    }
   ],
   "source": [
    "## import the dataset and take only the first 8 rows\n",
    "\n",
    "lending_co_data_numericf = np.loadtxt('Lending-company-Numeric.csv',delimiter=',')[:8]\n",
    "lending_co_data_numericf"
   ]
  },
  {
   "cell_type": "markdown",
   "id": "cf82501c-eb9b-4470-b689-94b7e6b90d28",
   "metadata": {},
   "source": [
    "## Let's apply shuffling"
   ]
  },
  {
   "cell_type": "code",
   "execution_count": 135,
   "id": "f12b1a1b-9450-4252-9edf-b70d3dda0872",
   "metadata": {},
   "outputs": [
    {
     "data": {
      "text/plain": [
       "array([[ 2000.,    50.,   365.,  1851.,  3251., 17701.],\n",
       "       [ 2000.,    50.,   365.,  3470.,  4820., 13720.],\n",
       "       [ 2000.,    40.,   365.,  3121.,  4241., 13621.],\n",
       "       [ 1000.,    40.,   365.,  2160.,  3280., 15340.],\n",
       "       [ 2000.,    40.,   365.,  3971.,  4131., 15351.],\n",
       "       [ 2000.,    40.,   365.,  3061.,  4171., 15041.],\n",
       "       [ 2000.,    40.,   365.,  3041.,  4241., 15321.],\n",
       "       [ 2000.,    40.,   365.,  3201.,  4141., 14141.]])"
      ]
     },
     "execution_count": 135,
     "metadata": {},
     "output_type": "execute_result"
    }
   ],
   "source": [
    "## this will modify the dataset lending_co_data_numericf\n",
    "\n",
    "np.random.shuffle(lending_co_data_numericf)\n",
    "lending_co_data_numericf"
   ]
  },
  {
   "cell_type": "code",
   "execution_count": 136,
   "id": "4c84040e-cc3a-4351-9502-333d09d99618",
   "metadata": {},
   "outputs": [],
   "source": [
    "from numpy.random import shuffle"
   ]
  },
  {
   "cell_type": "code",
   "execution_count": 137,
   "id": "5e60da41-1b55-40f5-a7d2-394602d8a0ab",
   "metadata": {},
   "outputs": [
    {
     "data": {
      "text/plain": [
       "array([[ 2000.,    40.,   365.,  3121.,  4241., 13621.],\n",
       "       [ 2000.,    40.,   365.,  3061.,  4171., 15041.],\n",
       "       [ 1000.,    40.,   365.,  2160.,  3280., 15340.],\n",
       "       ...,\n",
       "       [ 2000.,    40.,   365.,  4201.,  5001., 16600.],\n",
       "       [ 1000.,    40.,   365.,  2080.,  3320., 15600.],\n",
       "       [ 2000.,    40.,   365.,  4601.,  4601., 16600.]])"
      ]
     },
     "execution_count": 137,
     "metadata": {},
     "output_type": "execute_result"
    }
   ],
   "source": [
    "## Let's import again the intire dataset\n",
    "\n",
    "lending_co_data_numericg = np.loadtxt('Lending-company-Numeric.csv',delimiter=',')\n",
    "lending_co_data_numericg"
   ]
  },
  {
   "cell_type": "markdown",
   "id": "9a038e52-1031-45af-bb59-b124b5fe512f",
   "metadata": {},
   "source": [
    "## to shuffle the data = pour mélanger les données."
   ]
  },
  {
   "cell_type": "code",
   "execution_count": 140,
   "id": "71e078fd-d621-43a4-a517-fa41ef5a7d48",
   "metadata": {},
   "outputs": [
    {
     "data": {
      "text/plain": [
       "array([[ 2000.,    50.,   365., 12001., 12001., 20250.],\n",
       "       [ 2000.,    50.,   365.,  7251.,  7251., 20250.],\n",
       "       [ 1000.,    50.,   365.,   200.,   700., 19250.],\n",
       "       ...,\n",
       "       [ 2000.,    50.,   365.,  4000.,  6000., 14590.],\n",
       "       [ 4000.,    50.,   365.,  5450.,  7250., 22250.],\n",
       "       [ 2000.,    40.,   365.,  2761.,  3961., 12431.]])"
      ]
     },
     "execution_count": 140,
     "metadata": {},
     "output_type": "execute_result"
    }
   ],
   "source": [
    "shuffle(lending_co_data_numericg)\n",
    "lending_co_data_numericg"
   ]
  },
  {
   "cell_type": "markdown",
   "id": "0834f192-e3b1-4eb4-89ca-bcaf0a5ed3c8",
   "metadata": {},
   "source": [
    "## Shuffle Generator"
   ]
  },
  {
   "cell_type": "code",
   "execution_count": 143,
   "id": "744700c8-a7a0-44c0-8063-799d2800aebe",
   "metadata": {},
   "outputs": [],
   "source": [
    "from numpy.random import Generator as gen\n",
    "from numpy.random import PCG64 as pcg\n",
    "from numpy.random import shuffle"
   ]
  },
  {
   "cell_type": "code",
   "execution_count": 142,
   "id": "eae9380b-6668-40a4-81c8-9a6354ec6dc6",
   "metadata": {},
   "outputs": [],
   "source": [
    "array_RG = gen(pcg())"
   ]
  },
  {
   "cell_type": "code",
   "execution_count": 149,
   "id": "2cfab03a-6780-4c33-9f09-87f5a94ee7c8",
   "metadata": {},
   "outputs": [
    {
     "data": {
      "text/plain": [
       "array([[ 2000.,    40.,   365.,  3290.,  4330., 14524.],\n",
       "       [ 2000.,    40.,   365.,  3401.,  7401., 16600.],\n",
       "       [ 4000.,    50.,   365.,  6300.,  8000., 22250.],\n",
       "       ...,\n",
       "       [ 9000.,   125.,   365., 12251., 14251., 25626.],\n",
       "       [ 2000.,    40.,   365.,  7951.,  7951., 16600.],\n",
       "       [ 2000.,    50.,   365.,  4250.,  7250., 20250.]])"
      ]
     },
     "execution_count": 149,
     "metadata": {},
     "output_type": "execute_result"
    }
   ],
   "source": [
    "array_RG.shuffle(lending_co_data_numericg)\n",
    "lending_co_data_numericg"
   ]
  },
  {
   "cell_type": "markdown",
   "id": "bb77bac4-e2bb-41e2-9890-41de2813550f",
   "metadata": {},
   "source": [
    "## __Array Casting__ / __Type Casting__"
   ]
  },
  {
   "cell_type": "code",
   "execution_count": 150,
   "id": "abe09840-8674-4273-a406-da50d639a44f",
   "metadata": {},
   "outputs": [
    {
     "data": {
      "text/plain": [
       "array([[ 2000.,    40.,   365.,  3121.,  4241., 13621.],\n",
       "       [ 2000.,    40.,   365.,  3061.,  4171., 15041.],\n",
       "       [ 1000.,    40.,   365.,  2160.,  3280., 15340.],\n",
       "       ...,\n",
       "       [ 2000.,    40.,   365.,  4201.,  5001., 16600.],\n",
       "       [ 1000.,    40.,   365.,  2080.,  3320., 15600.],\n",
       "       [ 2000.,    40.,   365.,  4601.,  4601., 16600.]])"
      ]
     },
     "execution_count": 150,
     "metadata": {},
     "output_type": "execute_result"
    }
   ],
   "source": [
    "## Let's import again the intire dataset.\n",
    "lending_co_data_numerich = np.loadtxt('Lending-company-Numeric.csv',delimiter=',')\n",
    "lending_co_data_numerich"
   ]
  },
  {
   "cell_type": "markdown",
   "id": "8568d1c6-6474-4ce2-b012-d6a145d331e1",
   "metadata": {},
   "source": [
    "#### Let's change the type of the loaded dataset = lending_co_data_numerich\n"
   ]
  },
  {
   "cell_type": "code",
   "execution_count": 164,
   "id": "6c58d1bd-46cd-42a7-ad58-c004d0dc48f5",
   "metadata": {},
   "outputs": [
    {
     "data": {
      "text/plain": [
       "array([[ 2000,    40,   365,  3121,  4241, 13621],\n",
       "       [ 2000,    40,   365,  3061,  4171, 15041],\n",
       "       [ 1000,    40,   365,  2160,  3280, 15340],\n",
       "       ...,\n",
       "       [ 2000,    40,   365,  4201,  5001, 16600],\n",
       "       [ 1000,    40,   365,  2080,  3320, 15600],\n",
       "       [ 2000,    40,   365,  4601,  4601, 16600]], dtype=int32)"
      ]
     },
     "execution_count": 164,
     "metadata": {},
     "output_type": "execute_result"
    }
   ],
   "source": [
    "lending_co_data_numerich_intger=lending_co_data_numerich.astype(dtype = np.int32)\n",
    "lending_co_data_numerich_intger\n",
    "## this output data have dtype as intger32"
   ]
  },
  {
   "cell_type": "code",
   "execution_count": null,
   "id": "8fc64dc6-a601-4422-ba28-354cd1c33f6d",
   "metadata": {},
   "outputs": [],
   "source": []
  },
  {
   "cell_type": "code",
   "execution_count": 163,
   "id": "3f18e378-dfaa-475a-a8ad-5ff43bade90d",
   "metadata": {},
   "outputs": [
    {
     "data": {
      "text/plain": [
       "array([['2000.0', '40.0', '365.0', '3121.0', '4241.0', '13621.0'],\n",
       "       ['2000.0', '40.0', '365.0', '3061.0', '4171.0', '15041.0'],\n",
       "       ['1000.0', '40.0', '365.0', '2160.0', '3280.0', '15340.0'],\n",
       "       ...,\n",
       "       ['2000.0', '40.0', '365.0', '4201.0', '5001.0', '16600.0'],\n",
       "       ['1000.0', '40.0', '365.0', '2080.0', '3320.0', '15600.0'],\n",
       "       ['2000.0', '40.0', '365.0', '4601.0', '4601.0', '16600.0']],\n",
       "      dtype='<U32')"
      ]
     },
     "execution_count": 163,
     "metadata": {},
     "output_type": "execute_result"
    }
   ],
   "source": [
    "lending_co_data_numerich_string = lending_co_data_numerich.astype(dtype = np.str_)\n",
    "lending_co_data_numerich_string\n",
    "## this output data have dtype as string (str)"
   ]
  },
  {
   "cell_type": "code",
   "execution_count": 167,
   "id": "14cbe216-af35-4bed-9f25-9ee13e8d68cb",
   "metadata": {},
   "outputs": [
    {
     "data": {
      "text/plain": [
       "numpy.ndarray"
      ]
     },
     "execution_count": 167,
     "metadata": {},
     "output_type": "execute_result"
    }
   ],
   "source": [
    "type(lending_co_data_numerich)"
   ]
  },
  {
   "cell_type": "markdown",
   "id": "1c18bf40-f0db-450e-9cf2-a3a7a730b354",
   "metadata": {},
   "source": [
    "#### casting doesnot affected directly the current dataset , so store it\n"
   ]
  },
  {
   "cell_type": "code",
   "execution_count": 168,
   "id": "ba1cffc4-a306-4e23-99fa-5f4ecaeea64f",
   "metadata": {},
   "outputs": [
    {
     "data": {
      "text/plain": [
       "array([[ 2000.,    40.,   365.,  3121.,  4241., 13621.],\n",
       "       [ 2000.,    40.,   365.,  3061.,  4171., 15041.],\n",
       "       [ 1000.,    40.,   365.,  2160.,  3280., 15340.],\n",
       "       ...,\n",
       "       [ 2000.,    40.,   365.,  4201.,  5001., 16600.],\n",
       "       [ 1000.,    40.,   365.,  2080.,  3320., 15600.],\n",
       "       [ 2000.,    40.,   365.,  4601.,  4601., 16600.]])"
      ]
     },
     "execution_count": 168,
     "metadata": {},
     "output_type": "execute_result"
    }
   ],
   "source": [
    "## casting doesnot affected directly the current dataset , so store it\n",
    "lending_co_data_numerich"
   ]
  },
  {
   "cell_type": "markdown",
   "id": "3f099dd5-d81c-41f8-a89c-a784426ddb81",
   "metadata": {},
   "source": [
    "## __NB:__ You cannot convert directly __String__ dataset to __Integer__\n",
    "#### So do casting from __String__ to __Float__ and from __Float__ to __Intiger__"
   ]
  },
  {
   "cell_type": "code",
   "execution_count": 169,
   "id": "9595d8b5-39fe-4189-8e29-50504c0c2c6f",
   "metadata": {},
   "outputs": [
    {
     "data": {
      "text/plain": [
       "array([[ 2000.,    40.,   365.,  3121.,  4241., 13621.],\n",
       "       [ 2000.,    40.,   365.,  3061.,  4171., 15041.],\n",
       "       [ 1000.,    40.,   365.,  2160.,  3280., 15340.],\n",
       "       ...,\n",
       "       [ 2000.,    40.,   365.,  4201.,  5001., 16600.],\n",
       "       [ 1000.,    40.,   365.,  2080.,  3320., 15600.],\n",
       "       [ 2000.,    40.,   365.,  4601.,  4601., 16600.]], dtype=float32)"
      ]
     },
     "execution_count": 169,
     "metadata": {},
     "output_type": "execute_result"
    }
   ],
   "source": [
    "lending_co_data_numerich_float = lending_co_data_numerich_string.astype(dtype = np.float32)\n",
    "lending_co_data_numerich_float"
   ]
  },
  {
   "cell_type": "code",
   "execution_count": 170,
   "id": "b624e239-ad1a-4217-a11a-17158e36dff3",
   "metadata": {},
   "outputs": [
    {
     "data": {
      "text/plain": [
       "array([[ 2000,    40,   365,  3121,  4241, 13621],\n",
       "       [ 2000,    40,   365,  3061,  4171, 15041],\n",
       "       [ 1000,    40,   365,  2160,  3280, 15340],\n",
       "       ...,\n",
       "       [ 2000,    40,   365,  4201,  5001, 16600],\n",
       "       [ 1000,    40,   365,  2080,  3320, 15600],\n",
       "       [ 2000,    40,   365,  4601,  4601, 16600]], dtype=int32)"
      ]
     },
     "execution_count": 170,
     "metadata": {},
     "output_type": "execute_result"
    }
   ],
   "source": [
    "lending_co_data_numerich_int = lending_co_data_numerich_float.astype(dtype =np.int32)\n",
    "lending_co_data_numerich_int"
   ]
  },
  {
   "cell_type": "markdown",
   "id": "b8b9c766-5179-42a1-a910-8fdeba3ecc08",
   "metadata": {},
   "source": [
    "## Another way to solve same problem of __Casting__"
   ]
  },
  {
   "cell_type": "code",
   "execution_count": 172,
   "id": "1089f391-57ee-4ead-957c-9c206fe5d893",
   "metadata": {},
   "outputs": [
    {
     "data": {
      "text/plain": [
       "array([['2000.0', '40.0', '365.0', '3121.0', '4241.0', '13621.0'],\n",
       "       ['2000.0', '40.0', '365.0', '3061.0', '4171.0', '15041.0'],\n",
       "       ['1000.0', '40.0', '365.0', '2160.0', '3280.0', '15340.0'],\n",
       "       ...,\n",
       "       ['2000.0', '40.0', '365.0', '4201.0', '5001.0', '16600.0'],\n",
       "       ['1000.0', '40.0', '365.0', '2080.0', '3320.0', '15600.0'],\n",
       "       ['2000.0', '40.0', '365.0', '4601.0', '4601.0', '16600.0']],\n",
       "      dtype='<U32')"
      ]
     },
     "execution_count": 172,
     "metadata": {},
     "output_type": "execute_result"
    }
   ],
   "source": [
    "## Let's import again the intire dataset.\n",
    "lending_co_data_numericl = np.loadtxt('Lending-company-Numeric.csv',delimiter=',')\n",
    "lending_co_data_numericl_str = lending_co_data_numericl.astype(dtype =np.str_)\n",
    "lending_co_data_numericl_str"
   ]
  },
  {
   "cell_type": "code",
   "execution_count": 173,
   "id": "6e8c99c3-e535-4d8e-8e10-8a92eab46f93",
   "metadata": {},
   "outputs": [
    {
     "data": {
      "text/plain": [
       "array([[ 2000,    40,   365,  3121,  4241, 13621],\n",
       "       [ 2000,    40,   365,  3061,  4171, 15041],\n",
       "       [ 1000,    40,   365,  2160,  3280, 15340],\n",
       "       ...,\n",
       "       [ 2000,    40,   365,  4201,  5001, 16600],\n",
       "       [ 1000,    40,   365,  2080,  3320, 15600],\n",
       "       [ 2000,    40,   365,  4601,  4601, 16600]], dtype=int32)"
      ]
     },
     "execution_count": 173,
     "metadata": {},
     "output_type": "execute_result"
    }
   ],
   "source": [
    "lending_co_d_integer = lending_co_data_numericl_str.astype(dtype=np.float32).astype(dtype=np.int32)\n",
    "lending_co_d_integer\n",
    "\n",
    "## By repeating the same process"
   ]
  },
  {
   "cell_type": "code",
   "execution_count": null,
   "id": "33b6b8e0-34bf-48ae-96c4-81b6a224017c",
   "metadata": {},
   "outputs": [],
   "source": []
  },
  {
   "cell_type": "markdown",
   "id": "ec667fc6-9b09-413d-bfd1-a1aedc5e42e5",
   "metadata": {},
   "source": [
    "## Stripping Values"
   ]
  },
  {
   "cell_type": "markdown",
   "id": "c8b414de-0dd6-4776-a2c5-0a8ecfb8723d",
   "metadata": {},
   "source": [
    "### Importing and specifying the number of column is needed for the model buliding."
   ]
  },
  {
   "cell_type": "code",
   "execution_count": 208,
   "id": "f5f97968-7b12-47dd-914e-61854f445811",
   "metadata": {},
   "outputs": [
    {
     "data": {
      "text/plain": [
       "array([['id_1', 'Product B', 'Location 2'],\n",
       "       ['id_2', 'Product B', 'Location 3'],\n",
       "       ['id_3', 'Product C', 'Location 5'],\n",
       "       ...,\n",
       "       ['id_413', 'Product B', 'Location 135'],\n",
       "       ['id_414', 'Product C', 'Location 200'],\n",
       "       ['id_415', 'Product A', 'Location 8']], dtype='<U12')"
      ]
     },
     "execution_count": 208,
     "metadata": {},
     "output_type": "execute_result"
    }
   ],
   "source": [
    "## importing the data\n",
    "# We only want the coluns which contain non-numeric data\n",
    "\n",
    "lending_co_total_price = np.genfromtxt('Lending-Company-Total-Price.csv',\n",
    "                                   delimiter=',', skip_header=1,\n",
    "                                   dtype = np.str_,\n",
    "                                   usecols=[1,2,4])\n",
    "lending_co_total_price"
   ]
  },
  {
   "cell_type": "markdown",
   "id": "252ad2e5-38c0-4239-9672-51a9f103a740",
   "metadata": {},
   "source": [
    "#### __Stripping__\n",
    "#### means Removing a specific parts of the string\n",
    "\n",
    "#### Not straight up deleting the values store in specific positions...\n",
    "#### But rather taking away small parts"
   ]
  },
  {
   "cell_type": "markdown",
   "id": "fb2af02c-424b-443d-9cf5-2d1122fdb0d8",
   "metadata": {},
   "source": [
    "##### Using method __chararray.strip()__"
   ]
  },
  {
   "cell_type": "code",
   "execution_count": 211,
   "id": "e2705e6f-a396-49a6-9bca-da918fe6ba85",
   "metadata": {},
   "outputs": [],
   "source": [
    "## Let's delete 'id_' from the first column of the dataset\n",
    "\n",
    "lending_co_total_price1=  np.chararray.strip(lending_co_total_price[:,0],\"id_\")\n",
    "\n",
    "## we stored the result in lending_co_total_price1 bcz stripping doesnot \n",
    "## modify the array"
   ]
  },
  {
   "cell_type": "code",
   "execution_count": 225,
   "id": "a58fc67e-0d2d-4ed8-b865-6097a6098f1d",
   "metadata": {},
   "outputs": [
    {
     "data": {
      "text/plain": [
       "chararray(['1', '2', '3', '4', '5', '6', '7', '8', '9', '10', '11', '12',\n",
       "           '13', '14', '15', '16', '17', '18', '19', '20', '21', '22',\n",
       "           '23', '24', '25', '26', '27', '28', '29', '30', '31', '32',\n",
       "           '33', '34', '35', '36', '37', '38', '39', '40', '41', '42',\n",
       "           '43', '44', '45', '46', '47', '48', '49', '50', '51', '52',\n",
       "           '53', '54', '55', '56', '57', '58', '59', '60', '61', '62',\n",
       "           '63', '64', '65', '66', '67', '68', '69', '70', '71', '72',\n",
       "           '73', '74', '75', '76', '77', '78', '79', '80', '81', '82',\n",
       "           '83', '84', '85', '86', '87', '88', '89', '90', '91', '92',\n",
       "           '93', '94', '95', '96', '97', '98', '99', '100', '101', '102',\n",
       "           '103', '104', '105', '106', '107', '108', '109', '110', '111',\n",
       "           '112', '113', '114', '115', '116', '117', '118', '119', '120',\n",
       "           '121', '122', '123', '124', '125', '126', '127', '128', '129',\n",
       "           '130', '131', '132', '133', '134', '135', '136', '137', '138',\n",
       "           '139', '140', '141', '142', '143', '144', '145', '146', '147',\n",
       "           '148', '149', '150', '151', '152', '153', '154', '155', '156',\n",
       "           '157', '158', '159', '160', '161', '162', '163', '164', '165',\n",
       "           '166', '167', '168', '169', '170', '171', '172', '173', '174',\n",
       "           '175', '176', '177', '178', '179', '180', '181', '182', '183',\n",
       "           '184', '185', '186', '187', '188', '189', '190', '191', '192',\n",
       "           '193', '194', '195', '196', '197', '198', '199', '200', '201',\n",
       "           '202', '203', '204', '205', '206', '207', '208', '209', '210',\n",
       "           '211', '212', '213', '214', '215', '216', '217', '218', '219',\n",
       "           '220', '221', '222', '223', '224', '225', '226', '227', '228',\n",
       "           '229', '230', '231', '232', '233', '234', '235', '236', '237',\n",
       "           '238', '239', '240', '241', '242', '243', '244', '245', '246',\n",
       "           '247', '248', '249', '250', '251', '252', '253', '254', '255',\n",
       "           '256', '257', '258', '259', '260', '261', '262', '263', '264',\n",
       "           '265', '266', '267', '268', '269', '270', '271', '272', '273',\n",
       "           '274', '275', '276', '277', '278', '279', '280', '281', '282',\n",
       "           '283', '284', '285', '286', '287', '288', '289', '290', '291',\n",
       "           '292', '293', '294', '295', '296', '297', '298', '299', '300',\n",
       "           '301', '302', '303', '304', '305', '306', '307', '308', '309',\n",
       "           '310', '311', '312', '313', '314', '315', '316', '317', '318',\n",
       "           '319', '320', '321', '322', '323', '324', '325', '326', '327',\n",
       "           '328', '329', '330', '331', '332', '333', '334', '335', '336',\n",
       "           '337', '338', '339', '340', '341', '342', '343', '344', '345',\n",
       "           '346', '347', '348', '349', '350', '351', '352', '353', '354',\n",
       "           '355', '356', '357', '358', '359', '360', '361', '362', '363',\n",
       "           '364', '365', '366', '367', '368', '369', '370', '371', '372',\n",
       "           '373', '374', '375', '376', '377', '378', '379', '380', '381',\n",
       "           '382', '383', '384', '385', '386', '387', '388', '389', '390',\n",
       "           '391', '392', '393', '394', '395', '396', '397', '398', '399',\n",
       "           '400', '401', '402', '403', '404', '405', '406', '407', '408',\n",
       "           '409', '410', '411', '412', '413', '414', '415'], dtype='<U12')"
      ]
     },
     "execution_count": 225,
     "metadata": {},
     "output_type": "execute_result"
    }
   ],
   "source": [
    "lending_co_total_price1"
   ]
  },
  {
   "cell_type": "code",
   "execution_count": 232,
   "id": "8c9016f4-10e3-4de1-bf78-474b5a07b3e9",
   "metadata": {},
   "outputs": [
    {
     "data": {
      "text/plain": [
       "chararray(['B', 'B', 'C', 'B', 'D', 'B', 'A', 'B', 'A', 'A', 'B', 'D',\n",
       "           'B', 'A', 'A', 'B', 'A', 'B', 'B', 'E', 'B', 'A', 'A', 'C',\n",
       "           'D', 'A', 'A', 'F', 'D', 'B', 'B', 'B', 'A', 'B', 'A', 'B',\n",
       "           'B', 'B', 'C', 'B', 'B', 'B', 'A', 'C', 'A', 'B', 'B', 'B',\n",
       "           'D', 'A', 'B', 'A', 'D', 'B', 'B', 'B', 'B', 'B', 'B', 'B',\n",
       "           'A', 'C', 'C', 'D', 'B', 'A', 'A', 'D', 'A', 'B', 'C', 'B',\n",
       "           'B', 'A', 'A', 'A', 'A', 'D', 'D', 'D', 'A', 'B', 'A', 'D',\n",
       "           'B', 'A', 'A', 'B', 'A', 'B', 'A', 'D', 'B', 'B', 'A', 'B',\n",
       "           'B', 'A', 'A', 'B', 'B', 'A', 'B', 'A', 'A', 'B', 'B', 'A',\n",
       "           'B', 'A', 'B', 'C', 'B', 'D', 'B', 'A', 'A', 'A', 'C', 'A',\n",
       "           'A', 'B', 'D', 'B', 'B', 'A', 'A', 'B', 'B', 'B', 'C', 'B',\n",
       "           'C', 'A', 'D', 'B', 'D', 'A', 'C', 'B', 'B', 'B', 'C', 'B',\n",
       "           'C', 'A', 'A', 'A', 'A', 'A', 'B', 'A', 'E', 'E', 'B', 'A',\n",
       "           'A', 'A', 'A', 'C', 'A', 'B', 'A', 'D', 'A', 'B', 'A', 'A',\n",
       "           'B', 'D', 'B', 'B', 'D', 'A', 'B', 'A', 'A', 'B', 'A', 'D',\n",
       "           'A', 'B', 'A', 'D', 'B', 'A', 'A', 'B', 'B', 'A', 'A', 'A',\n",
       "           'B', 'E', 'B', 'A', 'B', 'D', 'A', 'C', 'D', 'B', 'E', 'B',\n",
       "           'B', 'A', 'A', 'A', 'A', 'A', 'C', 'A', 'C', 'B', 'A', 'A',\n",
       "           'B', 'A', 'A', 'B', 'B', 'B', 'A', 'A', 'B', 'B', 'A', 'A',\n",
       "           'B', 'D', 'A', 'C', 'B', 'B', 'E', 'A', 'A', 'B', 'A', 'A',\n",
       "           'A', 'A', 'A', 'B', 'B', 'A', 'B', 'B', 'B', 'B', 'C', 'A',\n",
       "           'D', 'A', 'A', 'A', 'A', 'A', 'B', 'D', 'B', 'B', 'B', 'A',\n",
       "           'B', 'B', 'C', 'B', 'A', 'A', 'A', 'A', 'C', 'C', 'B', 'A',\n",
       "           'B', 'E', 'B', 'B', 'B', 'A', 'A', 'A', 'B', 'A', 'A', 'C',\n",
       "           'E', 'B', 'B', 'C', 'D', 'A', 'A', 'C', 'C', 'A', 'B', 'D',\n",
       "           'A', 'B', 'B', 'B', 'A', 'B', 'A', 'A', 'B', 'A', 'A', 'B',\n",
       "           'C', 'B', 'B', 'C', 'B', 'D', 'A', 'D', 'B', 'A', 'B', 'A',\n",
       "           'A', 'A', 'E', 'C', 'B', 'B', 'A', 'A', 'B', 'A', 'A', 'A',\n",
       "           'A', 'A', 'B', 'C', 'A', 'A', 'A', 'B', 'A', 'D', 'B', 'A',\n",
       "           'A', 'B', 'B', 'C', 'A', 'B', 'A', 'B', 'A', 'B', 'C', 'A',\n",
       "           'A', 'D', 'B', 'A', 'B', 'B', 'B', 'D', 'B', 'B', 'B', 'A',\n",
       "           'D', 'B', 'B', 'A', 'A', 'A', 'B', 'A', 'A', 'A', 'A', 'B',\n",
       "           'B', 'B', 'B', 'A', 'B', 'A', 'C', 'B', 'B', 'C', 'B', 'C',\n",
       "           'A', 'A', 'B', 'B', 'B', 'B', 'C', 'B', 'A', 'B', 'D', 'A',\n",
       "           'F', 'C', 'B', 'B', 'B', 'C', 'A'], dtype='<U12')"
      ]
     },
     "execution_count": 232,
     "metadata": {},
     "output_type": "execute_result"
    }
   ],
   "source": [
    "lending_co_total_price2 =  np.chararray.strip(lending_co_total_price[:,1],\"Product \")\n",
    "lending_co_total_price2\n",
    "## remove alsoe the empty space"
   ]
  },
  {
   "cell_type": "code",
   "execution_count": 255,
   "id": "62d02e9f-db0b-4656-b371-f97f0fef1a2b",
   "metadata": {},
   "outputs": [],
   "source": [
    "#Array =[]\n",
    "#for x in lending_co_total_price2:\n",
    "   # if x == 'A':\n",
    "        #Array.append(x)"
   ]
  },
  {
   "cell_type": "code",
   "execution_count": 257,
   "id": "5edef851-a06c-4b18-85b2-b93f691bf885",
   "metadata": {},
   "outputs": [
    {
     "data": {
      "text/plain": [
       "163"
      ]
     },
     "execution_count": 257,
     "metadata": {},
     "output_type": "execute_result"
    }
   ],
   "source": [
    "len(Array)"
   ]
  },
  {
   "cell_type": "code",
   "execution_count": 258,
   "id": "d777a199-ad6d-4947-92c3-3e54a08cb3ae",
   "metadata": {},
   "outputs": [
    {
     "data": {
      "text/plain": [
       "166"
      ]
     },
     "execution_count": 258,
     "metadata": {},
     "output_type": "execute_result"
    }
   ],
   "source": [
    "#Array2 =[]\n",
    "#for x in lending_co_total_price2:\n",
    "    #if x == 'B':\n",
    "       # Array2.append(x)\n",
    "#len(Array2)        "
   ]
  },
  {
   "cell_type": "code",
   "execution_count": 259,
   "id": "a779621f-8f43-45df-b42c-bc35078804c9",
   "metadata": {},
   "outputs": [
    {
     "data": {
      "text/plain": [
       "39"
      ]
     },
     "execution_count": 259,
     "metadata": {},
     "output_type": "execute_result"
    }
   ],
   "source": [
    "#Array3 =[]\n",
    "#for x in lending_co_total_price2:\n",
    "   # if x == 'C':\n",
    "       # Array3.append(x)\n",
    "#len(Array3)  "
   ]
  },
  {
   "cell_type": "code",
   "execution_count": 262,
   "id": "df73b0f3-dbb5-4196-b4f4-73f32560857c",
   "metadata": {},
   "outputs": [],
   "source": [
    "lending_co_total_price3 =  np.chararray.strip(lending_co_total_price[:,2],\"Location \")\n",
    "#lending_co_total_price3\n",
    "## remove alsoe the empty space"
   ]
  },
  {
   "cell_type": "markdown",
   "id": "142cdf57-b0b7-413e-b7ea-61b0038e3499",
   "metadata": {},
   "source": [
    "## stripping of the 3 columns"
   ]
  },
  {
   "cell_type": "code",
   "execution_count": 267,
   "id": "1a2b371e-c88e-4502-8639-793ecd5eeb09",
   "metadata": {},
   "outputs": [
    {
     "data": {
      "text/plain": [
       "array([['1', 'B', '2'],\n",
       "       ['2', 'B', '3'],\n",
       "       ['3', 'C', '5'],\n",
       "       ...,\n",
       "       ['413', 'B', '135'],\n",
       "       ['414', 'C', '200'],\n",
       "       ['415', 'A', '8']], dtype='<U12')"
      ]
     },
     "execution_count": 267,
     "metadata": {},
     "output_type": "execute_result"
    }
   ],
   "source": [
    "lending_co_total_price[:,0]=  np.chararray.strip(lending_co_total_price[:,0],\"id_\")\n",
    "lending_co_total_price[:,1] =  np.chararray.strip(lending_co_total_price[:,1],\"Product \")\n",
    "lending_co_total_price[:,2] =  np.chararray.strip(lending_co_total_price[:,2],\"Location \")\n",
    "lending_co_total_price\n",
    "\n",
    "## stripping done"
   ]
  },
  {
   "cell_type": "markdown",
   "id": "9f8ec74c-a05d-4b10-aec9-8ccd15055cd5",
   "metadata": {},
   "source": [
    "### Let's transform the  dataset into numeric now \n",
    "\n",
    "## using __np.where()__ method\n",
    "\n",
    "### NB: only the 2nd column is not numeric, let's transform it."
   ]
  },
  {
   "cell_type": "code",
   "execution_count": 268,
   "id": "218d0be7-15a4-4f53-9e3e-8a5353f4f5c7",
   "metadata": {},
   "outputs": [],
   "source": [
    "lending_co_total_price[:,1] = np.where(lending_co_total_price[:,1]== 'A',1,lending_co_total_price[:,1])\n",
    "lending_co_total_price[:,1] = np.where(lending_co_total_price[:,1]== 'B',2,lending_co_total_price[:,1])\n",
    "lending_co_total_price[:,1] = np.where(lending_co_total_price[:,1]== 'C',3,lending_co_total_price[:,1])\n",
    "lending_co_total_price[:,1] = np.where(lending_co_total_price[:,1]== 'D',4,lending_co_total_price[:,1])\n",
    "lending_co_total_price[:,1] = np.where(lending_co_total_price[:,1]== 'E',5,lending_co_total_price[:,1])\n",
    "lending_co_total_price[:,1] = np.where(lending_co_total_price[:,1]== 'F',6,lending_co_total_price[:,1])"
   ]
  },
  {
   "cell_type": "code",
   "execution_count": 269,
   "id": "525b1e88-6ed7-41f0-bdfc-bbc2a3dbcce9",
   "metadata": {},
   "outputs": [
    {
     "data": {
      "text/plain": [
       "array([['1', '2', '2'],\n",
       "       ['2', '2', '3'],\n",
       "       ['3', '3', '5'],\n",
       "       ...,\n",
       "       ['413', '2', '135'],\n",
       "       ['414', '3', '200'],\n",
       "       ['415', '1', '8']], dtype='<U12')"
      ]
     },
     "execution_count": 269,
     "metadata": {},
     "output_type": "execute_result"
    }
   ],
   "source": [
    "lending_co_total_price"
   ]
  },
  {
   "cell_type": "markdown",
   "id": "bc629511-dd71-405f-bd1a-284361147ac9",
   "metadata": {},
   "source": [
    "## Let's Remove the quotetion around each number is the array ('')"
   ]
  },
  {
   "cell_type": "code",
   "execution_count": 270,
   "id": "1f7af80c-7aef-46eb-a9ef-53724b903473",
   "metadata": {},
   "outputs": [
    {
     "data": {
      "text/plain": [
       "array([[  1,   2,   2],\n",
       "       [  2,   2,   3],\n",
       "       [  3,   3,   5],\n",
       "       ...,\n",
       "       [413,   2, 135],\n",
       "       [414,   3, 200],\n",
       "       [415,   1,   8]], dtype=int32)"
      ]
     },
     "execution_count": 270,
     "metadata": {},
     "output_type": "execute_result"
    }
   ],
   "source": [
    "lending_co_total_price = lending_co_total_price.astype(dtype = np.int32)\n",
    "lending_co_total_price"
   ]
  },
  {
   "cell_type": "markdown",
   "id": "a38531d0-6ab3-45b6-bd12-680153ee50ac",
   "metadata": {},
   "source": [
    "## Explore __Stacking__"
   ]
  },
  {
   "cell_type": "markdown",
   "id": "c8b52b60-7f98-4c94-930c-bfb359fe5bf3",
   "metadata": {},
   "source": [
    "#### __np.stack__ , __np.vstack__ , __np.hstack__ , __np.dstack__"
   ]
  },
  {
   "cell_type": "code",
   "execution_count": null,
   "id": "e6ebacb8-a62c-4fd1-ac1f-fbbe3eaa0999",
   "metadata": {},
   "outputs": [],
   "source": [
    "#ls"
   ]
  },
  {
   "cell_type": "code",
   "execution_count": 273,
   "id": "da34bae9-74bd-4b7f-8e75-00ecaac78c08",
   "metadata": {},
   "outputs": [],
   "source": [
    "lending_co_data_numeric = np.loadtxt('Lending-company-Numeric.csv',delimiter=',')\n",
    "#lending_co_data_numeric"
   ]
  },
  {
   "cell_type": "code",
   "execution_count": 294,
   "id": "0be11f5f-f053-417f-8c1e-df805756a87a",
   "metadata": {},
   "outputs": [],
   "source": [
    "lending_co_data_numeric_NAN = np.genfromtxt('Lending-Company-Numeric-Data-NAN.csv',delimiter=';')\n",
    "\n",
    "temporary_fill = np.nanmax(lending_co_data_numeric_NAN).round(2) + 1\n",
    "\n",
    "\n"
   ]
  },
  {
   "cell_type": "code",
   "execution_count": 295,
   "id": "94506981-fdf2-4148-a3a4-e92115aadf37",
   "metadata": {},
   "outputs": [],
   "source": [
    "tempory_mean = np.nanmean(lending_co_data_numeric_NAN, axis=0).round(2)"
   ]
  },
  {
   "cell_type": "code",
   "execution_count": 296,
   "id": "c8d20053-a9eb-45da-9a88-8f495df99c32",
   "metadata": {},
   "outputs": [],
   "source": [
    "lending_co_data_numeric_NAN = np.genfromtxt('Lending-Company-Numeric-Data-NAN.csv',\n",
    "                                            delimiter=';',\n",
    "                                            filling_values = temporary_fill)\n",
    "\n"
   ]
  },
  {
   "cell_type": "code",
   "execution_count": 297,
   "id": "b0f2c997-1f95-47ce-b364-5496a69b6114",
   "metadata": {},
   "outputs": [
    {
     "data": {
      "text/plain": [
       "(1043, 6)"
      ]
     },
     "execution_count": 297,
     "metadata": {},
     "output_type": "execute_result"
    }
   ],
   "source": [
    "length = lending_co_data_numeric_NAN.shape[1]\n",
    "\n"
   ]
  },
  {
   "cell_type": "code",
   "execution_count": 299,
   "id": "35f13687-f71f-4fb6-85c8-807099c5d91c",
   "metadata": {},
   "outputs": [
    {
     "data": {
      "text/plain": [
       "array([[ 2000.  ,    40.  ,   365.  ,  3121.  ,  4241.  , 13621.  ],\n",
       "       [ 2000.  ,    40.  ,   365.  ,  3061.  ,  4171.  , 15041.  ],\n",
       "       [ 1000.  ,    40.  ,   365.  ,  2160.  ,  3280.  , 15340.  ],\n",
       "       ...,\n",
       "       [ 2250.25,    40.  ,   365.  ,  4201.  ,  5001.  , 16600.  ],\n",
       "       [ 1000.  ,    40.  ,   365.  ,  2080.  ,  3320.  , 15600.  ],\n",
       "       [ 2000.  ,    40.  ,   365.  ,  4601.  ,  4601.  , 16600.  ]])"
      ]
     },
     "execution_count": 299,
     "metadata": {},
     "output_type": "execute_result"
    }
   ],
   "source": [
    "for x in range(lending_co_data_numeric_NAN.shape[1]):\n",
    "    lending_co_data_numeric_NAN [:,x] = np.where(lending_co_data_numeric_NAN[:,x] == temporary_fill,\n",
    "                                                temporary_mean[x],\n",
    "                                                lending_co_data_numeric_NAN[:,x])\n",
    "lending_co_data_numeric_NAN "
   ]
  },
  {
   "cell_type": "markdown",
   "id": "47c95006-9e11-46b0-8842-cb4924283f8c",
   "metadata": {},
   "source": [
    "### __Stacking:__\n",
    "\n",
    "### It's placing multiple objects on top of one another to create a bigger(larger) Object\n",
    "\n",
    "#### We can just __arrays__ of matching shapes to create a larger array = a \"Stack\""
   ]
  },
  {
   "cell_type": "code",
   "execution_count": 307,
   "id": "d22f66d4-3e81-41f6-9779-8bc685f85cc5",
   "metadata": {},
   "outputs": [
    {
     "data": {
      "text/plain": [
       "array([[2000., 2000., 1000., ..., 2000., 1000., 2000.],\n",
       "       [  40.,   40.,   40., ...,   40.,   40.,   40.]])"
      ]
     },
     "execution_count": 307,
     "metadata": {},
     "output_type": "execute_result"
    }
   ],
   "source": [
    "## example with first dataset lending_co_data_numeric\n",
    "\n",
    "np.stack((lending_co_data_numeric[:,0],lending_co_data_numeric[:,1]))"
   ]
  },
  {
   "cell_type": "code",
   "execution_count": 308,
   "id": "700736b8-76d5-42df-9d5b-fc9e50e6d7b5",
   "metadata": {},
   "outputs": [
    {
     "data": {
      "text/plain": [
       "array([[  40.,   40.,   40., ...,   40.,   40.,   40.],\n",
       "       [2000., 2000., 1000., ..., 2000., 1000., 2000.]])"
      ]
     },
     "execution_count": 308,
     "metadata": {},
     "output_type": "execute_result"
    }
   ],
   "source": [
    "## changing of row\n",
    "\n",
    "np.stack((lending_co_data_numeric[:,1],lending_co_data_numeric[:,0]))"
   ]
  },
  {
   "cell_type": "code",
   "execution_count": 309,
   "id": "4ea46c89-9660-4adc-b4f7-e18894d2961c",
   "metadata": {},
   "outputs": [],
   "source": [
    "array1 = np.stack((lending_co_data_numeric[:,1],lending_co_data_numeric[:,0]))"
   ]
  },
  {
   "cell_type": "code",
   "execution_count": 310,
   "id": "b5fa7336-f8c7-4381-bee0-1d01b2ebc57f",
   "metadata": {},
   "outputs": [
    {
     "data": {
      "text/plain": [
       "array([[  40., 2000.],\n",
       "       [  40., 2000.],\n",
       "       [  40., 1000.],\n",
       "       ...,\n",
       "       [  40., 2000.],\n",
       "       [  40., 1000.],\n",
       "       [  40., 2000.]])"
      ]
     },
     "execution_count": 310,
     "metadata": {},
     "output_type": "execute_result"
    }
   ],
   "source": [
    "## \n",
    "\n",
    "np.transpose(array1)"
   ]
  },
  {
   "cell_type": "code",
   "execution_count": 311,
   "id": "5946656a-ddcd-49fc-a788-8c35593aaf46",
   "metadata": {},
   "outputs": [
    {
     "data": {
      "text/plain": [
       "array([[2000.,   40.],\n",
       "       [2000.,   40.],\n",
       "       [1000.,   40.],\n",
       "       ...,\n",
       "       [2000.,   40.],\n",
       "       [1000.,   40.],\n",
       "       [2000.,   40.]])"
      ]
     },
     "execution_count": 311,
     "metadata": {},
     "output_type": "execute_result"
    }
   ],
   "source": [
    "## without np.transpose we can set axis = 1 and get same result\n",
    "\n",
    "np.stack((lending_co_data_numeric[:,0],lending_co_data_numeric[:,1]),axis=1)"
   ]
  },
  {
   "cell_type": "code",
   "execution_count": 313,
   "id": "e02f7a73-ea76-498e-b9ee-95590b74798f",
   "metadata": {},
   "outputs": [
    {
     "data": {
      "text/plain": [
       "array([[2000.,   40.,  365.],\n",
       "       [2000.,   40.,  365.],\n",
       "       [1000.,   40.,  365.],\n",
       "       ...,\n",
       "       [2000.,   40.,  365.],\n",
       "       [1000.,   40.,  365.],\n",
       "       [2000.,   40.,  365.]])"
      ]
     },
     "execution_count": 313,
     "metadata": {},
     "output_type": "execute_result"
    }
   ],
   "source": [
    "## let's one more clumn of dataset\n",
    "\n",
    "np.stack((lending_co_data_numeric[:,0],lending_co_data_numeric[:,1],lending_co_data_numeric[:,2]),axis=1)\n"
   ]
  },
  {
   "cell_type": "markdown",
   "id": "00982ce7-037d-40af-8317-2f805a85c150",
   "metadata": {},
   "source": [
    "## __np.vstack()__"
   ]
  },
  {
   "cell_type": "code",
   "execution_count": 314,
   "id": "75da90bf-c607-47ed-8779-9a504d5cb0c8",
   "metadata": {},
   "outputs": [
    {
     "data": {
      "text/plain": [
       "(1043, 6)"
      ]
     },
     "execution_count": 314,
     "metadata": {},
     "output_type": "execute_result"
    }
   ],
   "source": [
    "## first let's check the shape of the both arrays\n",
    "\n",
    "lending_co_data_numeric.shape"
   ]
  },
  {
   "cell_type": "code",
   "execution_count": 315,
   "id": "e0f3893e-939c-4223-a40a-12262c8beb7c",
   "metadata": {},
   "outputs": [
    {
     "data": {
      "text/plain": [
       "(1043, 6)"
      ]
     },
     "execution_count": 315,
     "metadata": {},
     "output_type": "execute_result"
    }
   ],
   "source": [
    "lending_co_data_numeric_NAN.shape"
   ]
  },
  {
   "cell_type": "markdown",
   "id": "93f90b5e-6696-4732-b276-b5aa393ba2cf",
   "metadata": {},
   "source": [
    "#### The above both arrays have the same shape , cool"
   ]
  },
  {
   "cell_type": "code",
   "execution_count": 316,
   "id": "2b1963c0-b131-4e67-8800-db21bdca85c8",
   "metadata": {},
   "outputs": [],
   "source": [
    "vertical_stack = np.vstack((lending_co_data_numeric,lending_co_data_numeric_NAN))"
   ]
  },
  {
   "cell_type": "code",
   "execution_count": 319,
   "id": "5deb125b-b417-4847-ba96-1fe3cf24e896",
   "metadata": {},
   "outputs": [
    {
     "data": {
      "text/plain": [
       "array([[ 2000.  ,    40.  ,   365.  ,  3121.  ,  4241.  , 13621.  ],\n",
       "       [ 2000.  ,    40.  ,   365.  ,  3061.  ,  4171.  , 15041.  ],\n",
       "       [ 1000.  ,    40.  ,   365.  ,  2160.  ,  3280.  , 15340.  ],\n",
       "       ...,\n",
       "       [ 2250.25,    40.  ,   365.  ,  4201.  ,  5001.  , 16600.  ],\n",
       "       [ 1000.  ,    40.  ,   365.  ,  2080.  ,  3320.  , 15600.  ],\n",
       "       [ 2000.  ,    40.  ,   365.  ,  4601.  ,  4601.  , 16600.  ]])"
      ]
     },
     "execution_count": 319,
     "metadata": {},
     "output_type": "execute_result"
    }
   ],
   "source": [
    "vertical_stack"
   ]
  },
  {
   "cell_type": "code",
   "execution_count": 317,
   "id": "df9a5c37-5a5d-4f60-ab26-bf499f18fe9a",
   "metadata": {},
   "outputs": [
    {
     "data": {
      "text/plain": [
       "(2086, 6)"
      ]
     },
     "execution_count": 317,
     "metadata": {},
     "output_type": "execute_result"
    }
   ],
   "source": [
    "### let's check it using the shape method\n",
    "\n",
    "vertical_stack.shape"
   ]
  },
  {
   "cell_type": "code",
   "execution_count": null,
   "id": "dcd8ec20-7763-4847-8dd4-db7a25d650fc",
   "metadata": {},
   "outputs": [],
   "source": []
  },
  {
   "cell_type": "markdown",
   "id": "2b66be25-18b5-4535-9ecf-5000c8187f2d",
   "metadata": {},
   "source": [
    "## __np.hstack()__"
   ]
  },
  {
   "cell_type": "code",
   "execution_count": 321,
   "id": "0c7c3a57-5334-4863-9e6d-8623dde69287",
   "metadata": {},
   "outputs": [
    {
     "data": {
      "text/plain": [
       "array([[ 2000.,    40.,   365., ...,  3121.,  4241., 13621.],\n",
       "       [ 2000.,    40.,   365., ...,  3061.,  4171., 15041.],\n",
       "       [ 1000.,    40.,   365., ...,  2160.,  3280., 15340.],\n",
       "       ...,\n",
       "       [ 2000.,    40.,   365., ...,  4201.,  5001., 16600.],\n",
       "       [ 1000.,    40.,   365., ...,  2080.,  3320., 15600.],\n",
       "       [ 2000.,    40.,   365., ...,  4601.,  4601., 16600.]])"
      ]
     },
     "execution_count": 321,
     "metadata": {},
     "output_type": "execute_result"
    }
   ],
   "source": [
    "horizontal_stack = np.hstack((lending_co_data_numeric,lending_co_data_numeric_NAN))\n",
    "horizontal_stack"
   ]
  },
  {
   "cell_type": "code",
   "execution_count": 322,
   "id": "8e15214a-9775-454f-aa50-ae2e4c6adff5",
   "metadata": {},
   "outputs": [
    {
     "data": {
      "text/plain": [
       "(1043, 12)"
      ]
     },
     "execution_count": 322,
     "metadata": {},
     "output_type": "execute_result"
    }
   ],
   "source": [
    "# let's check it using the shape method\n",
    "horizontal_stack.shape"
   ]
  },
  {
   "cell_type": "markdown",
   "id": "99c4d26d-99f2-423f-9e1e-6d99decd5c58",
   "metadata": {},
   "source": [
    " ## __np.dstack__\n",
    "#### d stack = depth satck\n",
    "#### We satck the arrays in the third dimension\n",
    "#### Returns an arrays of a hight dimension    \n"
   ]
  },
  {
   "cell_type": "code",
   "execution_count": 323,
   "id": "10f7fb55-5f8f-4682-aaa4-862c24c7ac58",
   "metadata": {},
   "outputs": [
    {
     "data": {
      "text/plain": [
       "array([[[ 2000.  ,  2000.  ],\n",
       "        [   40.  ,    40.  ],\n",
       "        [  365.  ,   365.  ],\n",
       "        [ 3121.  ,  3121.  ],\n",
       "        [ 4241.  ,  4241.  ],\n",
       "        [13621.  , 13621.  ]],\n",
       "\n",
       "       [[ 2000.  ,  2000.  ],\n",
       "        [   40.  ,    40.  ],\n",
       "        [  365.  ,   365.  ],\n",
       "        [ 3061.  ,  3061.  ],\n",
       "        [ 4171.  ,  4171.  ],\n",
       "        [15041.  , 15041.  ]],\n",
       "\n",
       "       [[ 1000.  ,  1000.  ],\n",
       "        [   40.  ,    40.  ],\n",
       "        [  365.  ,   365.  ],\n",
       "        [ 2160.  ,  2160.  ],\n",
       "        [ 3280.  ,  3280.  ],\n",
       "        [15340.  , 15340.  ]],\n",
       "\n",
       "       ...,\n",
       "\n",
       "       [[ 2000.  ,  2250.25],\n",
       "        [   40.  ,    40.  ],\n",
       "        [  365.  ,   365.  ],\n",
       "        [ 4201.  ,  4201.  ],\n",
       "        [ 5001.  ,  5001.  ],\n",
       "        [16600.  , 16600.  ]],\n",
       "\n",
       "       [[ 1000.  ,  1000.  ],\n",
       "        [   40.  ,    40.  ],\n",
       "        [  365.  ,   365.  ],\n",
       "        [ 2080.  ,  2080.  ],\n",
       "        [ 3320.  ,  3320.  ],\n",
       "        [15600.  , 15600.  ]],\n",
       "\n",
       "       [[ 2000.  ,  2000.  ],\n",
       "        [   40.  ,    40.  ],\n",
       "        [  365.  ,   365.  ],\n",
       "        [ 4601.  ,  4601.  ],\n",
       "        [ 4601.  ,  4601.  ],\n",
       "        [16600.  , 16600.  ]]])"
      ]
     },
     "execution_count": 323,
     "metadata": {},
     "output_type": "execute_result"
    }
   ],
   "source": [
    "depth_stack = np.dstack((lending_co_data_numeric,lending_co_data_numeric_NAN))\n",
    "depth_stack"
   ]
  },
  {
   "cell_type": "code",
   "execution_count": 326,
   "id": "2e2e43e0-c544-4a9d-b0a3-b9875b2ad740",
   "metadata": {},
   "outputs": [
    {
     "data": {
      "text/plain": [
       "array([[ 2000.,  2000.],\n",
       "       [   40.,    40.],\n",
       "       [  365.,   365.],\n",
       "       [ 3121.,  3121.],\n",
       "       [ 4241.,  4241.],\n",
       "       [13621., 13621.]])"
      ]
     },
     "execution_count": 326,
     "metadata": {},
     "output_type": "execute_result"
    }
   ],
   "source": [
    "depth_stack[0]"
   ]
  },
  {
   "cell_type": "code",
   "execution_count": 327,
   "id": "6ff934ce-e74f-4c44-8337-4df8508292dc",
   "metadata": {},
   "outputs": [
    {
     "data": {
      "text/plain": [
       "1043"
      ]
     },
     "execution_count": 327,
     "metadata": {},
     "output_type": "execute_result"
    }
   ],
   "source": [
    "len(depth_stack)"
   ]
  },
  {
   "cell_type": "code",
   "execution_count": 329,
   "id": "20b9d555-356c-43a8-b9ac-5555e2a9abe6",
   "metadata": {},
   "outputs": [],
   "source": [
    "#for x in depth_stack:\n",
    "#    print(x)"
   ]
  },
  {
   "cell_type": "code",
   "execution_count": 330,
   "id": "457e1c3f-67f5-4ed9-8ca3-0f6d02fcada6",
   "metadata": {},
   "outputs": [
    {
     "data": {
      "text/plain": [
       "(1043, 6, 2)"
      ]
     },
     "execution_count": 330,
     "metadata": {},
     "output_type": "execute_result"
    }
   ],
   "source": [
    "# let's check it using the shape method\n",
    "depth_stack.shape"
   ]
  },
  {
   "cell_type": "code",
   "execution_count": 333,
   "id": "860629a4-c420-4ce4-8bb5-9cdd85001366",
   "metadata": {},
   "outputs": [
    {
     "data": {
      "text/plain": [
       "array([ 2000.,    40.,   365.,  3121.,  4241., 13621.])"
      ]
     },
     "execution_count": 333,
     "metadata": {},
     "output_type": "execute_result"
    }
   ],
   "source": [
    "depth_stack[0,:,0]"
   ]
  },
  {
   "cell_type": "markdown",
   "id": "4e0253a1-62a5-4af9-a75e-340872072b91",
   "metadata": {},
   "source": [
    "# __Concatinating__\n",
    "\n",
    "#### Linking together objects in a chain\n",
    "#### Creating a new (larger) array by merging existing smaller arrays along a given axis\n",
    "#### The inputs and the outputs of the __np.concatenate()__ function always have the same number of dimensions."
   ]
  },
  {
   "cell_type": "code",
   "execution_count": 334,
   "id": "68fef568-2d76-4b8e-9f2b-1f982e618c7a",
   "metadata": {},
   "outputs": [
    {
     "data": {
      "text/plain": [
       "array([[ 2000.,    40.,   365.,  3121.,  4241., 13621.],\n",
       "       [ 2000.,    40.,   365.,  3061.,  4171., 15041.],\n",
       "       [ 1000.,    40.,   365.,  2160.,  3280., 15340.],\n",
       "       ...,\n",
       "       [ 2000.,    40.,   365.,  4201.,  5001., 16600.],\n",
       "       [ 1000.,    40.,   365.,  2080.,  3320., 15600.],\n",
       "       [ 2000.,    40.,   365.,  4601.,  4601., 16600.]])"
      ]
     },
     "execution_count": 334,
     "metadata": {},
     "output_type": "execute_result"
    }
   ],
   "source": [
    "## let's import the dataset\n",
    "\n",
    "lending_co_data_numeric = np.loadtxt('Lending-company-Numeric.csv',delimiter=',')\n",
    "\n",
    "lending_co_data_numeric"
   ]
  },
  {
   "cell_type": "code",
   "execution_count": 335,
   "id": "5a747a1a-9dc7-4175-9e96-329bc5817909",
   "metadata": {},
   "outputs": [
    {
     "data": {
      "text/plain": [
       "array([ 2000.,    40.,   365.,  3121.,  4241., 13621.])"
      ]
     },
     "execution_count": 335,
     "metadata": {},
     "output_type": "execute_result"
    }
   ],
   "source": [
    "lending_co_data_numeric[0,:]"
   ]
  },
  {
   "cell_type": "code",
   "execution_count": 336,
   "id": "7ba77d20-ddbf-418a-9ec1-cab13ac36898",
   "metadata": {},
   "outputs": [],
   "source": [
    "concat = np.concatenate((lending_co_data_numeric[0,:],lending_co_data_numeric[0,:]))"
   ]
  },
  {
   "cell_type": "code",
   "execution_count": 339,
   "id": "38818658-5d43-4a05-a8f0-2a4b3cdab63a",
   "metadata": {},
   "outputs": [
    {
     "data": {
      "text/plain": [
       "array([ 2000.,    40.,   365.,  3121.,  4241., 13621.,  2000.,    40.,\n",
       "         365.,  3121.,  4241., 13621.])"
      ]
     },
     "execution_count": 339,
     "metadata": {},
     "output_type": "execute_result"
    }
   ],
   "source": [
    "## the result here is one dimension as the 1st row and the 2nd row\n",
    "concat"
   ]
  },
  {
   "cell_type": "code",
   "execution_count": 338,
   "id": "ea16d5b1-8cb6-483d-a0a7-65424a5fb280",
   "metadata": {},
   "outputs": [
    {
     "data": {
      "text/plain": [
       "12"
      ]
     },
     "execution_count": 338,
     "metadata": {},
     "output_type": "execute_result"
    }
   ],
   "source": [
    "len(concat)"
   ]
  },
  {
   "cell_type": "markdown",
   "id": "0b00a6fd-7eca-43b8-ba5e-8b59508580c2",
   "metadata": {},
   "source": [
    "### let's concatinate 2D arrays"
   ]
  },
  {
   "cell_type": "code",
   "execution_count": 340,
   "id": "94d54630-d933-4477-98f1-e2ce3f70e014",
   "metadata": {},
   "outputs": [
    {
     "data": {
      "text/plain": [
       "array([[ 2000.  ,    40.  ,   365.  ,  3121.  ,  4241.  , 13621.  ],\n",
       "       [ 2000.  ,    40.  ,   365.  ,  3061.  ,  4171.  , 15041.  ],\n",
       "       [ 1000.  ,    40.  ,   365.  ,  2160.  ,  3280.  , 15340.  ],\n",
       "       ...,\n",
       "       [ 2250.25,    40.  ,   365.  ,  4201.  ,  5001.  , 16600.  ],\n",
       "       [ 1000.  ,    40.  ,   365.  ,  2080.  ,  3320.  , 15600.  ],\n",
       "       [ 2000.  ,    40.  ,   365.  ,  4601.  ,  4601.  , 16600.  ]])"
      ]
     },
     "execution_count": 340,
     "metadata": {},
     "output_type": "execute_result"
    }
   ],
   "source": [
    "lending_co_data_numeric_NAN = np.genfromtxt('Lending-Company-Numeric-Data-NAN.csv',delimiter=';')\n",
    "\n",
    "temporary_fill = np.nanmax(lending_co_data_numeric_NAN).round(2) + 1\n",
    "tempory_mean = np.nanmean(lending_co_data_numeric_NAN, axis=0).round(2)\n",
    "\n",
    "lending_co_data_numeric_NAN = np.genfromtxt('Lending-Company-Numeric-Data-NAN.csv',\n",
    "                                            delimiter=';',\n",
    "                                            filling_values = temporary_fill)\n",
    "\n",
    "for x in range(lending_co_data_numeric_NAN.shape[1]):\n",
    "    lending_co_data_numeric_NAN [:,x] = np.where(lending_co_data_numeric_NAN[:,x] == temporary_fill,\n",
    "                                                temporary_mean[x],\n",
    "                                                lending_co_data_numeric_NAN[:,x])\n",
    "lending_co_data_numeric_NAN\n",
    "\n",
    "\n"
   ]
  },
  {
   "cell_type": "code",
   "execution_count": 342,
   "id": "914e43ba-2664-47f7-9a6d-117beb0e0fd4",
   "metadata": {},
   "outputs": [
    {
     "data": {
      "text/plain": [
       "array([[ 2000.  ,    40.  ,   365.  ,  3121.  ,  4241.  , 13621.  ],\n",
       "       [ 2000.  ,    40.  ,   365.  ,  3061.  ,  4171.  , 15041.  ],\n",
       "       [ 1000.  ,    40.  ,   365.  ,  2160.  ,  3280.  , 15340.  ],\n",
       "       ...,\n",
       "       [ 2250.25,    40.  ,   365.  ,  4201.  ,  5001.  , 16600.  ],\n",
       "       [ 1000.  ,    40.  ,   365.  ,  2080.  ,  3320.  , 15600.  ],\n",
       "       [ 2000.  ,    40.  ,   365.  ,  4601.  ,  4601.  , 16600.  ]])"
      ]
     },
     "execution_count": 342,
     "metadata": {},
     "output_type": "execute_result"
    }
   ],
   "source": [
    "both_arrays = np.concatenate((lending_co_data_numeric,lending_co_data_numeric_NAN))\n",
    "both_arrays\n",
    "\n",
    "## the Ouput is a 2D arrays and larger"
   ]
  },
  {
   "cell_type": "code",
   "execution_count": 343,
   "id": "6d5e1a44-7714-4693-affc-011c30771073",
   "metadata": {},
   "outputs": [
    {
     "data": {
      "text/plain": [
       "2086"
      ]
     },
     "execution_count": 343,
     "metadata": {},
     "output_type": "execute_result"
    }
   ],
   "source": [
    "len(both_arrays)"
   ]
  },
  {
   "cell_type": "code",
   "execution_count": 344,
   "id": "26560aa7-4cde-4208-954d-78f51dd28361",
   "metadata": {},
   "outputs": [
    {
     "data": {
      "text/plain": [
       "(2086, 6)"
      ]
     },
     "execution_count": 344,
     "metadata": {},
     "output_type": "execute_result"
    }
   ],
   "source": [
    "both_arrays.shape"
   ]
  },
  {
   "cell_type": "markdown",
   "id": "281bb76f-1eb3-4be1-9eb2-1de1b54e57c5",
   "metadata": {},
   "source": [
    "### let's set axis = 1 , for horizontal concatination\n",
    "\n",
    "\n",
    "### the input arrays are 2D , we can set  axis = 1\n",
    "\n",
    "### for 3D , we can set axis = 2"
   ]
  },
  {
   "cell_type": "code",
   "execution_count": 345,
   "id": "302270ff-8bf3-44d9-a2ea-81691ff42f2a",
   "metadata": {},
   "outputs": [
    {
     "data": {
      "text/plain": [
       "array([[ 2000.,    40.,   365., ...,  3121.,  4241., 13621.],\n",
       "       [ 2000.,    40.,   365., ...,  3061.,  4171., 15041.],\n",
       "       [ 1000.,    40.,   365., ...,  2160.,  3280., 15340.],\n",
       "       ...,\n",
       "       [ 2000.,    40.,   365., ...,  4201.,  5001., 16600.],\n",
       "       [ 1000.,    40.,   365., ...,  2080.,  3320., 15600.],\n",
       "       [ 2000.,    40.,   365., ...,  4601.,  4601., 16600.]])"
      ]
     },
     "execution_count": 345,
     "metadata": {},
     "output_type": "execute_result"
    }
   ],
   "source": [
    "### let's set axis = 1 , for horizontal concatination\n",
    "\n",
    "both_arrays1 = np.concatenate((lending_co_data_numeric,lending_co_data_numeric_NAN),axis =1)\n",
    "both_arrays1\n",
    "\n",
    "## the input arrays are 2D , we can axis = 1\n",
    "\n",
    "## for 3D , we can set axis =2"
   ]
  },
  {
   "cell_type": "code",
   "execution_count": 346,
   "id": "cb5869d4-d460-47cb-9b20-6aae0ece4845",
   "metadata": {},
   "outputs": [
    {
     "data": {
      "text/plain": [
       "(1043, 12)"
      ]
     },
     "execution_count": 346,
     "metadata": {},
     "output_type": "execute_result"
    }
   ],
   "source": [
    "both_arrays1.shape"
   ]
  },
  {
   "cell_type": "markdown",
   "id": "99770565-466e-441b-89e5-8d342ea5ff8e",
   "metadata": {},
   "source": [
    "# __Unique__ in the __data__"
   ]
  },
  {
   "cell_type": "code",
   "execution_count": 347,
   "id": "abf8c56a-0e02-45ac-b6db-12911be6281f",
   "metadata": {},
   "outputs": [
    {
     "data": {
      "text/plain": [
       "array([[ 2000.,    40.,   365.,  3121.,  4241., 13621.],\n",
       "       [ 2000.,    40.,   365.,  3061.,  4171., 15041.],\n",
       "       [ 1000.,    40.,   365.,  2160.,  3280., 15340.],\n",
       "       ...,\n",
       "       [ 2000.,    40.,   365.,  4201.,  5001., 16600.],\n",
       "       [ 1000.,    40.,   365.,  2080.,  3320., 15600.],\n",
       "       [ 2000.,    40.,   365.,  4601.,  4601., 16600.]])"
      ]
     },
     "execution_count": 347,
     "metadata": {},
     "output_type": "execute_result"
    }
   ],
   "source": [
    "## let's import the dataset\n",
    "\n",
    "lending_co_data_numeric = np.loadtxt('Lending-company-Numeric.csv',delimiter=',')\n",
    "\n",
    "lending_co_data_numeric"
   ]
  },
  {
   "cell_type": "markdown",
   "id": "c137a846-f928-466b-a999-18763cb25c70",
   "metadata": {},
   "source": [
    "### __np.unique__"
   ]
  },
  {
   "cell_type": "code",
   "execution_count": 348,
   "id": "7a47a76b-c17f-4b85-b24e-718201ed6258",
   "metadata": {},
   "outputs": [
    {
     "data": {
      "text/plain": [
       "array([-2870., -2550., -2450., ..., 52751., 54625., 64001.])"
      ]
     },
     "execution_count": 348,
     "metadata": {},
     "output_type": "execute_result"
    }
   ],
   "source": [
    "np.unique(lending_co_data_numeric)"
   ]
  },
  {
   "cell_type": "code",
   "execution_count": 350,
   "id": "8ca32d0c-61a1-44e5-b1b5-d56486e3a366",
   "metadata": {},
   "outputs": [
    {
     "data": {
      "text/plain": [
       "array([ 35.,  40.,  50., 125., 165.])"
      ]
     },
     "execution_count": 350,
     "metadata": {},
     "output_type": "execute_result"
    }
   ],
   "source": [
    "## Unique values in the 2nd column\n",
    "\n",
    "np.unique(lending_co_data_numeric[:,1])"
   ]
  },
  {
   "cell_type": "code",
   "execution_count": 351,
   "id": "1dc97195-5d9d-43ba-b057-af95f74a2eda",
   "metadata": {},
   "outputs": [
    {
     "data": {
      "text/plain": [
       "array([   40.,   365.,  2000.,  3061.,  4171., 15041.])"
      ]
     },
     "execution_count": 351,
     "metadata": {},
     "output_type": "execute_result"
    }
   ],
   "source": [
    "## Unique values in the 2nd row\n",
    "\n",
    "\n",
    "np.unique(lending_co_data_numeric[1])"
   ]
  },
  {
   "cell_type": "markdown",
   "id": "d71e3fc2-d336-4ef8-a457-15db7535b65d",
   "metadata": {},
   "source": [
    "## Unique values in the 2nd column and __count__ per each element\n"
   ]
  },
  {
   "cell_type": "code",
   "execution_count": 352,
   "id": "1051e023-2743-4c2e-b08c-f2bb2d975ae3",
   "metadata": {},
   "outputs": [
    {
     "data": {
      "text/plain": [
       "(array([ 35.,  40.,  50., 125., 165.]), array([  4, 567, 451,  19,   2]))"
      ]
     },
     "execution_count": 352,
     "metadata": {},
     "output_type": "execute_result"
    }
   ],
   "source": [
    "## Unique values in the 2nd column and count per each element\n",
    "\n",
    "np.unique(lending_co_data_numeric[:,1], return_counts=True)"
   ]
  },
  {
   "cell_type": "markdown",
   "id": "c6e67a40-d28a-4cce-a275-857563daaee6",
   "metadata": {},
   "source": [
    "## Unique values in the 2nd column and count per each element\n",
    "### set return_index = True \n"
   ]
  },
  {
   "cell_type": "code",
   "execution_count": 354,
   "id": "91d7082f-8058-4cbe-8307-1857fe6f59ad",
   "metadata": {},
   "outputs": [],
   "source": [
    "## Unique values in the 2nd column and count per each element\n",
    "### set return_index = True \n",
    "\n",
    "avk = np.unique(lending_co_data_numeric[:,1], return_counts=True,return_index = True)"
   ]
  },
  {
   "cell_type": "code",
   "execution_count": 355,
   "id": "0dc4cc61-76e6-412b-bcc6-87f3400aedac",
   "metadata": {},
   "outputs": [
    {
     "data": {
      "text/plain": [
       "(array([ 35.,  40.,  50., 125., 165.]),\n",
       " array([327,   0,   4,  19,  27]),\n",
       " array([  4, 567, 451,  19,   2]))"
      ]
     },
     "execution_count": 355,
     "metadata": {},
     "output_type": "execute_result"
    }
   ],
   "source": [
    "avk"
   ]
  },
  {
   "cell_type": "code",
   "execution_count": null,
   "id": "2f54680f-b5d6-44cf-b7cf-5d9f5f2134f5",
   "metadata": {},
   "outputs": [],
   "source": []
  },
  {
   "cell_type": "code",
   "execution_count": null,
   "id": "b9e15984-55c8-4e59-8995-43fa30ddf613",
   "metadata": {},
   "outputs": [],
   "source": []
  }
 ],
 "metadata": {
  "kernelspec": {
   "display_name": "Python 3",
   "language": "python",
   "name": "python3"
  },
  "language_info": {
   "codemirror_mode": {
    "name": "ipython",
    "version": 3
   },
   "file_extension": ".py",
   "mimetype": "text/x-python",
   "name": "python",
   "nbconvert_exporter": "python",
   "pygments_lexer": "ipython3",
   "version": "3.8.8"
  }
 },
 "nbformat": 4,
 "nbformat_minor": 5
}
