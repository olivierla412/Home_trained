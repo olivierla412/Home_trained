{
 "cells": [
  {
   "cell_type": "markdown",
   "id": "21dbc48b-9afc-4f40-b0cc-be3862906a43",
   "metadata": {},
   "source": [
    "## Preprocessing data with Numpy"
   ]
  },
  {
   "cell_type": "code",
   "execution_count": 5,
   "id": "d5a8b243-f780-4d1f-b2d2-f3cceba71a6a",
   "metadata": {},
   "outputs": [],
   "source": [
    "import numpy as np\n",
    "import pandas as pd "
   ]
  },
  {
   "cell_type": "code",
   "execution_count": 4,
   "id": "e2a501f8-c42c-4a3d-8898-8874fa7f5665",
   "metadata": {},
   "outputs": [],
   "source": [
    "lending_co_data_numeric = np.loadtxt('Lending-Company-Numeric-Data.csv',delimiter=',')\n",
    "\n",
    "## we don't got any error message , that mean there no missing value(NAN)"
   ]
  },
  {
   "cell_type": "code",
   "execution_count": 8,
   "id": "43632367-4551-49f4-9d95-a2ee945a1493",
   "metadata": {},
   "outputs": [],
   "source": [
    "data = pd.read_csv('Lending-Company-Numeric-Data.csv')"
   ]
  },
  {
   "cell_type": "code",
   "execution_count": 9,
   "id": "6d0498a1-f72b-49dd-9779-dd29383e3f75",
   "metadata": {},
   "outputs": [
    {
     "data": {
      "text/html": [
       "<div>\n",
       "<style scoped>\n",
       "    .dataframe tbody tr th:only-of-type {\n",
       "        vertical-align: middle;\n",
       "    }\n",
       "\n",
       "    .dataframe tbody tr th {\n",
       "        vertical-align: top;\n",
       "    }\n",
       "\n",
       "    .dataframe thead th {\n",
       "        text-align: right;\n",
       "    }\n",
       "</style>\n",
       "<table border=\"1\" class=\"dataframe\">\n",
       "  <thead>\n",
       "    <tr style=\"text-align: right;\">\n",
       "      <th></th>\n",
       "      <th>2000</th>\n",
       "      <th>40</th>\n",
       "      <th>365</th>\n",
       "      <th>3121</th>\n",
       "      <th>4241</th>\n",
       "      <th>13621</th>\n",
       "    </tr>\n",
       "  </thead>\n",
       "  <tbody>\n",
       "    <tr>\n",
       "      <th>0</th>\n",
       "      <td>2000</td>\n",
       "      <td>40</td>\n",
       "      <td>365</td>\n",
       "      <td>3061</td>\n",
       "      <td>4171</td>\n",
       "      <td>15041</td>\n",
       "    </tr>\n",
       "    <tr>\n",
       "      <th>1</th>\n",
       "      <td>1000</td>\n",
       "      <td>40</td>\n",
       "      <td>365</td>\n",
       "      <td>2160</td>\n",
       "      <td>3280</td>\n",
       "      <td>15340</td>\n",
       "    </tr>\n",
       "  </tbody>\n",
       "</table>\n",
       "</div>"
      ],
      "text/plain": [
       "   2000  40  365  3121  4241  13621\n",
       "0  2000  40  365  3061  4171  15041\n",
       "1  1000  40  365  2160  3280  15340"
      ]
     },
     "execution_count": 9,
     "metadata": {},
     "output_type": "execute_result"
    }
   ],
   "source": [
    "data.head(2)"
   ]
  },
  {
   "cell_type": "code",
   "execution_count": 10,
   "id": "5ca40bda-e9c6-457e-84ae-beebe9c06c7c",
   "metadata": {},
   "outputs": [
    {
     "data": {
      "text/plain": [
       "array([[False, False, False, False, False, False],\n",
       "       [False, False, False, False, False, False],\n",
       "       [False, False, False, False, False, False],\n",
       "       ...,\n",
       "       [False, False, False, False, False, False],\n",
       "       [False, False, False, False, False, False],\n",
       "       [False, False, False, False, False, False]])"
      ]
     },
     "execution_count": 10,
     "metadata": {},
     "output_type": "execute_result"
    }
   ],
   "source": [
    "np.isnan(lending_co_data_numeric)"
   ]
  },
  {
   "cell_type": "code",
   "execution_count": 11,
   "id": "9633cac2-2226-4144-a88e-9061d0d5adc9",
   "metadata": {},
   "outputs": [
    {
     "data": {
      "text/plain": [
       "0"
      ]
     },
     "execution_count": 11,
     "metadata": {},
     "output_type": "execute_result"
    }
   ],
   "source": [
    "np.isnan(lending_co_data_numeric).sum()"
   ]
  },
  {
   "cell_type": "raw",
   "id": "3731cb7f-a6ee-48d9-844e-45912df599ca",
   "metadata": {},
   "source": [
    "lending_co_data_numeric_nan = np.loadtxt('Lending-Company-Numeric-Data-NAN.csv',delimiter=';')\n",
    "\n",
    "## we got error message , that mean there is missing value(NAN)\n",
    "\n",
    "# let's genfromtxt() method"
   ]
  },
  {
   "cell_type": "code",
   "execution_count": 13,
   "id": "8778842a-815b-4a3f-8588-4a231abd566d",
   "metadata": {},
   "outputs": [],
   "source": [
    "lending_co_data_numeric_nan = np.genfromtxt('Lending-Company-Numeric-Data-NAN.csv',delimiter=';')\n"
   ]
  },
  {
   "cell_type": "code",
   "execution_count": 15,
   "id": "16391d99-18cb-47c9-a6a2-5f8cd2294b1f",
   "metadata": {},
   "outputs": [
    {
     "data": {
      "text/plain": [
       "260"
      ]
     },
     "execution_count": 15,
     "metadata": {},
     "output_type": "execute_result"
    }
   ],
   "source": [
    "np.isnan(lending_co_data_numeric_nan).sum()\n",
    "# this the total missing values"
   ]
  },
  {
   "cell_type": "code",
   "execution_count": null,
   "id": "dbfafba5-e613-42cd-8561-e40dd0afc9b9",
   "metadata": {},
   "outputs": [],
   "source": []
  },
  {
   "cell_type": "code",
   "execution_count": null,
   "id": "6d45b4f7-ea2f-412c-b430-47bd6a69a822",
   "metadata": {},
   "outputs": [],
   "source": []
  }
 ],
 "metadata": {
  "kernelspec": {
   "display_name": "Python 3",
   "language": "python",
   "name": "python3"
  },
  "language_info": {
   "codemirror_mode": {
    "name": "ipython",
    "version": 3
   },
   "file_extension": ".py",
   "mimetype": "text/x-python",
   "name": "python",
   "nbconvert_exporter": "python",
   "pygments_lexer": "ipython3",
   "version": "3.8.8"
  }
 },
 "nbformat": 4,
 "nbformat_minor": 5
}
