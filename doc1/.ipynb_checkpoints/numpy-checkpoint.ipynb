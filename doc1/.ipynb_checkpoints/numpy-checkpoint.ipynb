{
 "cells": [
  {
   "cell_type": "code",
   "execution_count": 1,
   "id": "b7fa1d25-1d23-4ca5-9c1f-e8b094f9b489",
   "metadata": {},
   "outputs": [],
   "source": [
    "import numpy as np\n",
    "import pandas as pd"
   ]
  },
  {
   "cell_type": "code",
   "execution_count": 24,
   "id": "439ccad7-29d5-4e55-bd61-5bdbcc433bae",
   "metadata": {},
   "outputs": [],
   "source": [
    "array_a = np.array([[1,2,3],[4,5,6]])"
   ]
  },
  {
   "cell_type": "code",
   "execution_count": 35,
   "id": "8abdd994-55cf-4038-a868-a5fe6e3f4adf",
   "metadata": {},
   "outputs": [
    {
     "data": {
      "text/plain": [
       "1"
      ]
     },
     "execution_count": 35,
     "metadata": {},
     "output_type": "execute_result"
    }
   ],
   "source": [
    "array_a[0][0]"
   ]
  },
  {
   "cell_type": "code",
   "execution_count": 38,
   "id": "c11218dc-916a-4870-b5d9-aea56fb617ae",
   "metadata": {},
   "outputs": [
    {
     "data": {
      "text/plain": [
       "1"
      ]
     },
     "execution_count": 38,
     "metadata": {},
     "output_type": "execute_result"
    }
   ],
   "source": [
    "array_a[0,0]"
   ]
  },
  {
   "cell_type": "code",
   "execution_count": 30,
   "id": "03b70da9-103f-4358-bc87-3933f86e7cb4",
   "metadata": {},
   "outputs": [
    {
     "name": "stdout",
     "output_type": "stream",
     "text": [
      "[[1 2 3]\n",
      " [4 5 6]]\n"
     ]
    }
   ],
   "source": [
    "print(array_a)"
   ]
  },
  {
   "cell_type": "markdown",
   "id": "ad3eb72b-295a-4fa4-afab-3a0cbc38130d",
   "metadata": {},
   "source": [
    "## columns wise"
   ]
  },
  {
   "cell_type": "code",
   "execution_count": 55,
   "id": "cc110bfc-31f8-4d38-b3a7-c472bc4dcdb8",
   "metadata": {},
   "outputs": [
    {
     "data": {
      "text/plain": [
       "array([[2],\n",
       "       [5]])"
      ]
     },
     "execution_count": 55,
     "metadata": {},
     "output_type": "execute_result"
    }
   ],
   "source": [
    "array_a[0:2,1:2]\n",
    "## column, like a matrix."
   ]
  },
  {
   "cell_type": "code",
   "execution_count": 56,
   "id": "403ced0e-cda5-4b4f-b011-328953c1d541",
   "metadata": {},
   "outputs": [
    {
     "data": {
      "text/plain": [
       "array([[5]])"
      ]
     },
     "execution_count": 56,
     "metadata": {},
     "output_type": "execute_result"
    }
   ],
   "source": [
    "array_a[1:2,1:2]\n",
    "##  column, like a matrix."
   ]
  },
  {
   "cell_type": "markdown",
   "id": "2076bbc9-af0b-4ca3-b23f-cd0726f0ab55",
   "metadata": {},
   "source": [
    "### Altering ndarray"
   ]
  },
  {
   "cell_type": "code",
   "execution_count": 57,
   "id": "2985a8a8-f18e-4392-99cf-c30f86d7e591",
   "metadata": {},
   "outputs": [],
   "source": [
    "array_b = np.array([[1,2,3],[4,5,6]])"
   ]
  },
  {
   "cell_type": "code",
   "execution_count": 58,
   "id": "86dc2789-7c11-46b8-aa19-a251befa5c6a",
   "metadata": {},
   "outputs": [
    {
     "name": "stdout",
     "output_type": "stream",
     "text": [
      "[[1 2 3]\n",
      " [4 5 6]]\n"
     ]
    }
   ],
   "source": [
    "print(array_b)"
   ]
  },
  {
   "cell_type": "code",
   "execution_count": 60,
   "id": "42c66d1e-53b5-4380-91d3-53599cd0485d",
   "metadata": {},
   "outputs": [],
   "source": [
    "array_b[0,2] =10"
   ]
  },
  {
   "cell_type": "code",
   "execution_count": 61,
   "id": "83747bc4-f5cb-44bb-a25d-7df372946741",
   "metadata": {},
   "outputs": [
    {
     "name": "stdout",
     "output_type": "stream",
     "text": [
      "[[ 1  2 10]\n",
      " [ 4  5  6]]\n"
     ]
    }
   ],
   "source": [
    "print(array_b)"
   ]
  },
  {
   "cell_type": "code",
   "execution_count": 62,
   "id": "920a0b15-5674-45a8-8457-8642d0349c9c",
   "metadata": {},
   "outputs": [
    {
     "data": {
      "text/plain": [
       "5"
      ]
     },
     "execution_count": 62,
     "metadata": {},
     "output_type": "execute_result"
    }
   ],
   "source": [
    "array_b[1,1]"
   ]
  },
  {
   "cell_type": "code",
   "execution_count": 63,
   "id": "f6a24fc4-ce35-4832-a222-3b127305fa2e",
   "metadata": {},
   "outputs": [],
   "source": [
    "array_b[1,1] = 100"
   ]
  },
  {
   "cell_type": "code",
   "execution_count": 64,
   "id": "b6f245a0-815c-4bc9-b960-83b408693e74",
   "metadata": {},
   "outputs": [
    {
     "name": "stdout",
     "output_type": "stream",
     "text": [
      "[[  1   2  10]\n",
      " [  4 100   6]]\n"
     ]
    }
   ],
   "source": [
    "print(array_b)"
   ]
  },
  {
   "cell_type": "code",
   "execution_count": 65,
   "id": "6da5a6df-5cf0-4f9e-9721-ac129bc235ec",
   "metadata": {},
   "outputs": [],
   "source": [
    "### Another method"
   ]
  },
  {
   "cell_type": "code",
   "execution_count": 66,
   "id": "408e7037-d1e0-4d38-af4d-c62601dd1de4",
   "metadata": {},
   "outputs": [
    {
     "data": {
      "text/plain": [
       "array([[  1,   2,  10],\n",
       "       [  4, 100,   6]])"
      ]
     },
     "execution_count": 66,
     "metadata": {},
     "output_type": "execute_result"
    }
   ],
   "source": [
    "array_b"
   ]
  },
  {
   "cell_type": "code",
   "execution_count": 67,
   "id": "de9b8777-a973-4441-b8e5-fff228a82b9f",
   "metadata": {},
   "outputs": [
    {
     "data": {
      "text/plain": [
       "array([[10, 10, 10],\n",
       "       [10, 10, 10]])"
      ]
     },
     "execution_count": 67,
     "metadata": {},
     "output_type": "execute_result"
    }
   ],
   "source": [
    "array_b[:] = 10\n",
    "array_b\n"
   ]
  },
  {
   "cell_type": "code",
   "execution_count": 72,
   "id": "eea148b4-9cfc-42c1-863a-07ff4bfe4046",
   "metadata": {},
   "outputs": [],
   "source": [
    "array_b[:,0] = 11\n",
    "\n",
    "## affect only first column"
   ]
  },
  {
   "cell_type": "code",
   "execution_count": 73,
   "id": "f8c83ebc-b984-4d94-abce-db08486bf891",
   "metadata": {},
   "outputs": [
    {
     "data": {
      "text/plain": [
       "array([[11,  1,  1],\n",
       "       [11,  1,  1]])"
      ]
     },
     "execution_count": 73,
     "metadata": {},
     "output_type": "execute_result"
    }
   ],
   "source": [
    "array_b"
   ]
  },
  {
   "cell_type": "code",
   "execution_count": 74,
   "id": "6d11734f-9ee5-4006-95b1-31e43a6aad9f",
   "metadata": {},
   "outputs": [],
   "source": [
    "array_b[0] = 20\n",
    "## this affect only the first rows the matrix"
   ]
  },
  {
   "cell_type": "code",
   "execution_count": 75,
   "id": "b0723a0e-e4d9-4478-8cb9-da83d09537c9",
   "metadata": {},
   "outputs": [
    {
     "data": {
      "text/plain": [
       "array([[20, 20, 20],\n",
       "       [11,  1,  1]])"
      ]
     },
     "execution_count": 75,
     "metadata": {},
     "output_type": "execute_result"
    }
   ],
   "source": [
    "array_b"
   ]
  },
  {
   "cell_type": "code",
   "execution_count": 76,
   "id": "c76db7f7-856f-46c1-84df-071b00bbb4f6",
   "metadata": {},
   "outputs": [
    {
     "name": "stdout",
     "output_type": "stream",
     "text": [
      "[[20 20 20]\n",
      " [11  1  1]]\n"
     ]
    }
   ],
   "source": [
    "print(array_b)\n",
    "\n",
    "## consider numpy.ndarray as a matrix"
   ]
  },
  {
   "cell_type": "code",
   "execution_count": 77,
   "id": "79998003-ea94-4a27-8b72-523166663b7d",
   "metadata": {},
   "outputs": [],
   "source": [
    "df = array_b"
   ]
  },
  {
   "cell_type": "code",
   "execution_count": 78,
   "id": "fe52ae13-a3ce-4097-8b8a-dab740766b2b",
   "metadata": {},
   "outputs": [
    {
     "data": {
      "text/plain": [
       "array([[20, 20, 20],\n",
       "       [11,  1,  1]])"
      ]
     },
     "execution_count": 78,
     "metadata": {},
     "output_type": "execute_result"
    }
   ],
   "source": [
    "df"
   ]
  },
  {
   "cell_type": "code",
   "execution_count": 80,
   "id": "616f17cd-dfaf-4089-b8a8-3c4aac81d117",
   "metadata": {},
   "outputs": [
    {
     "data": {
      "text/plain": [
       "array([[21, 21, 21],\n",
       "       [12,  2,  2]])"
      ]
     },
     "execution_count": 80,
     "metadata": {},
     "output_type": "execute_result"
    }
   ],
   "source": [
    "df + 1"
   ]
  },
  {
   "cell_type": "code",
   "execution_count": 81,
   "id": "48e0238e-fc49-45df-99b5-4e919c6cb11e",
   "metadata": {},
   "outputs": [],
   "source": [
    "x = np.array(['hello','yes','no'])"
   ]
  },
  {
   "cell_type": "code",
   "execution_count": 82,
   "id": "87af5607-5771-4d93-9414-8447e6e96eaa",
   "metadata": {},
   "outputs": [
    {
     "data": {
      "text/plain": [
       "array(['hello', 'yes', 'no'], dtype='<U5')"
      ]
     },
     "execution_count": 82,
     "metadata": {},
     "output_type": "execute_result"
    }
   ],
   "source": [
    "x"
   ]
  },
  {
   "cell_type": "code",
   "execution_count": 83,
   "id": "4de18e31-d77c-46d5-ba75-4a1f8508c02b",
   "metadata": {},
   "outputs": [
    {
     "name": "stdout",
     "output_type": "stream",
     "text": [
      "['hello' 'yes' 'no']\n"
     ]
    }
   ],
   "source": [
    "print(x)"
   ]
  },
  {
   "cell_type": "markdown",
   "id": "3024bc2f-23ca-489b-bc2a-3bda7a6c21ec",
   "metadata": {},
   "source": [
    "## Universal Function ?"
   ]
  },
  {
   "cell_type": "markdown",
   "id": "d02275f3-4035-4577-b2e4-d09ea10817a7",
   "metadata": {},
   "source": [
    "#### broadcasting "
   ]
  },
  {
   "cell_type": "code",
   "execution_count": 84,
   "id": "5a98c5dd-9254-44a5-a6a5-277e67a6c051",
   "metadata": {},
   "outputs": [
    {
     "data": {
      "text/plain": [
       "array([1, 2, 3])"
      ]
     },
     "execution_count": 84,
     "metadata": {},
     "output_type": "execute_result"
    }
   ],
   "source": [
    "x_array = np.array([1,2,3])\n",
    "x_array"
   ]
  },
  {
   "cell_type": "code",
   "execution_count": 85,
   "id": "4363c5d6-a968-461e-a6b8-bc684d9c7bb5",
   "metadata": {},
   "outputs": [
    {
     "data": {
      "text/plain": [
       "array([[1],\n",
       "       [2]])"
      ]
     },
     "execution_count": 85,
     "metadata": {},
     "output_type": "execute_result"
    }
   ],
   "source": [
    "y_array= np.array([[1],[2]])\n",
    "y_array"
   ]
  },
  {
   "cell_type": "code",
   "execution_count": 88,
   "id": "9735b09b-50b2-4415-a14b-29fc1cfbc549",
   "metadata": {},
   "outputs": [
    {
     "data": {
      "text/plain": [
       "array([[1, 2, 3],\n",
       "       [4, 5, 6]])"
      ]
     },
     "execution_count": 88,
     "metadata": {},
     "output_type": "execute_result"
    }
   ],
   "source": [
    "matrix_c = np.array([[1,2,3],[4,5,6]])\n",
    "matrix_c"
   ]
  },
  {
   "cell_type": "code",
   "execution_count": 89,
   "id": "fba29e9c-8c5c-4fe9-8be8-002ac1062779",
   "metadata": {},
   "outputs": [
    {
     "data": {
      "text/plain": [
       "array([[2, 4, 6],\n",
       "       [5, 7, 9]])"
      ]
     },
     "execution_count": 89,
     "metadata": {},
     "output_type": "execute_result"
    }
   ],
   "source": [
    "np.add(x_array,matrix_c)"
   ]
  },
  {
   "cell_type": "markdown",
   "id": "8509c0ae-6117-4e87-8493-253555a9aff5",
   "metadata": {},
   "source": [
    "#### Type_casting"
   ]
  },
  {
   "cell_type": "code",
   "execution_count": 92,
   "id": "c58ca722-400b-4f12-8dba-cc117916fa3b",
   "metadata": {},
   "outputs": [],
   "source": [
    "array_d = np.add(x_array,matrix_c, dtype = np.float16)"
   ]
  },
  {
   "cell_type": "code",
   "execution_count": 93,
   "id": "577797b7-bd8a-4781-856b-02aba2b0867f",
   "metadata": {},
   "outputs": [
    {
     "data": {
      "text/plain": [
       "array([[2., 4., 6.],\n",
       "       [5., 7., 9.]], dtype=float16)"
      ]
     },
     "execution_count": 93,
     "metadata": {},
     "output_type": "execute_result"
    }
   ],
   "source": [
    "array_d"
   ]
  },
  {
   "cell_type": "code",
   "execution_count": null,
   "id": "48ae778e-b52d-4fe1-8054-7d39c65b6a2c",
   "metadata": {},
   "outputs": [],
   "source": []
  },
  {
   "cell_type": "code",
   "execution_count": 98,
   "id": "1661ce20-5f77-426a-858c-582370c13c34",
   "metadata": {},
   "outputs": [
    {
     "data": {
      "text/plain": [
       "array([[1, 2, 3],\n",
       "       [4, 5, 6]])"
      ]
     },
     "execution_count": 98,
     "metadata": {},
     "output_type": "execute_result"
    }
   ],
   "source": [
    "matrix_c"
   ]
  },
  {
   "cell_type": "code",
   "execution_count": 102,
   "id": "96be82ee-e0ca-4774-b5a7-4924f07e6992",
   "metadata": {},
   "outputs": [
    {
     "data": {
      "text/plain": [
       "array([2., 5.])"
      ]
     },
     "execution_count": 102,
     "metadata": {},
     "output_type": "execute_result"
    }
   ],
   "source": [
    "mean_m = np.mean(matrix_c,axis=1)\n",
    "mean_m\n",
    "\n",
    "\n",
    "## rows wise mean .....\n",
    "\n"
   ]
  },
  {
   "cell_type": "code",
   "execution_count": 103,
   "id": "4dc695d4-0526-46d7-a326-1620051c5d1c",
   "metadata": {},
   "outputs": [
    {
     "data": {
      "text/plain": [
       "array([2.5, 3.5, 4.5])"
      ]
     },
     "execution_count": 103,
     "metadata": {},
     "output_type": "execute_result"
    }
   ],
   "source": [
    "mean_m = np.mean(matrix_c,axis=0)\n",
    "mean_m\n",
    "## columns wise mean ......\n"
   ]
  },
  {
   "cell_type": "markdown",
   "id": "47150e12-516d-4594-96c1-b378cd57633b",
   "metadata": {},
   "source": [
    " #### empty() method"
   ]
  },
  {
   "cell_type": "code",
   "execution_count": 8,
   "id": "304b508a-24e2-4b52-86d5-fbe0d7dc4fd6",
   "metadata": {},
   "outputs": [
    {
     "data": {
      "text/plain": [
       "array([[3.10503618e+231, 2.68679706e+154, 0.00000000e+000,\n",
       "        0.00000000e+000],\n",
       "       [0.00000000e+000, 0.00000000e+000, 0.00000000e+000,\n",
       "        0.00000000e+000],\n",
       "       [0.00000000e+000, 0.00000000e+000, 0.00000000e+000,\n",
       "        0.00000000e+000]])"
      ]
     },
     "execution_count": 8,
     "metadata": {},
     "output_type": "execute_result"
    }
   ],
   "source": [
    "array_empty = np.empty(shape = (3,4))\n",
    "array_empty"
   ]
  },
  {
   "cell_type": "markdown",
   "id": "6596e95f-f1f3-4fa6-a80e-2e189d25f3e3",
   "metadata": {},
   "source": [
    "### zeros() method"
   ]
  },
  {
   "cell_type": "code",
   "execution_count": 9,
   "id": "c1921adc-576e-4547-bdf3-82029b169fca",
   "metadata": {},
   "outputs": [
    {
     "data": {
      "text/plain": [
       "array([[0., 0., 0.],\n",
       "       [0., 0., 0.]])"
      ]
     },
     "execution_count": 9,
     "metadata": {},
     "output_type": "execute_result"
    }
   ],
   "source": [
    "array_os = np.zeros(shape =(2,3))\n",
    "array_os"
   ]
  },
  {
   "cell_type": "code",
   "execution_count": 111,
   "id": "3a4dc239-ccbc-423b-9eb3-9c87e2c4f6c5",
   "metadata": {},
   "outputs": [
    {
     "name": "stdout",
     "output_type": "stream",
     "text": [
      "[[0. 0. 0.]\n",
      " [0. 0. 0.]]\n"
     ]
    }
   ],
   "source": [
    "print(array_os)"
   ]
  },
  {
   "cell_type": "code",
   "execution_count": 113,
   "id": "83d57306-7bfa-4f01-9954-b110930709a6",
   "metadata": {},
   "outputs": [
    {
     "data": {
      "text/plain": [
       "array([[0, 0, 0],\n",
       "       [0, 0, 0]], dtype=int8)"
      ]
     },
     "execution_count": 113,
     "metadata": {},
     "output_type": "execute_result"
    }
   ],
   "source": [
    "array_os1 = np.zeros(shape =(2,3),dtype = np.int8)\n",
    "array_os1\n",
    "\n",
    "## integer casting"
   ]
  },
  {
   "cell_type": "code",
   "execution_count": 116,
   "id": "07a086c1-249d-4024-9ef5-27d9adffd182",
   "metadata": {},
   "outputs": [
    {
     "data": {
      "text/plain": [
       "array([[1, 1, 1],\n",
       "       [1, 1, 1]], dtype=int8)"
      ]
     },
     "execution_count": 116,
     "metadata": {},
     "output_type": "execute_result"
    }
   ],
   "source": [
    "array_os1 + 1"
   ]
  },
  {
   "cell_type": "markdown",
   "id": "e20a0ee9-51b6-42fb-9f4c-605629c00e31",
   "metadata": {},
   "source": [
    "### ones() method"
   ]
  },
  {
   "cell_type": "code",
   "execution_count": 117,
   "id": "74ed0e9a-4e37-4874-aa27-7b98bfdc317f",
   "metadata": {},
   "outputs": [
    {
     "data": {
      "text/plain": [
       "array([[1., 1., 1.],\n",
       "       [1., 1., 1.]])"
      ]
     },
     "execution_count": 117,
     "metadata": {},
     "output_type": "execute_result"
    }
   ],
   "source": [
    "array_ones = np.ones(shape =(2,3))\n",
    "array_ones"
   ]
  },
  {
   "cell_type": "markdown",
   "id": "46fb47f0-6a89-481c-b652-cec58b4b1344",
   "metadata": {},
   "source": [
    "#### __full()__ and his argument __fill_value__"
   ]
  },
  {
   "cell_type": "code",
   "execution_count": 122,
   "id": "67ea3faf-a2f7-430f-85ff-7fe4c8a75ddb",
   "metadata": {},
   "outputs": [
    {
     "data": {
      "text/plain": [
       "array([[1, 1, 1],\n",
       "       [1, 1, 1]])"
      ]
     },
     "execution_count": 122,
     "metadata": {},
     "output_type": "execute_result"
    }
   ],
   "source": [
    "array_full= np.full(shape =(2,3), fill_value = 1)\n",
    "array_full"
   ]
  },
  {
   "cell_type": "code",
   "execution_count": null,
   "id": "faea0c77-c08c-440e-a266-f8c71e308abb",
   "metadata": {},
   "outputs": [],
   "source": []
  },
  {
   "cell_type": "code",
   "execution_count": 123,
   "id": "bfff3cb5-e100-49bb-b0ef-7e933c48fb34",
   "metadata": {},
   "outputs": [
    {
     "data": {
      "text/plain": [
       "array([['Good morning', 'Good morning', 'Good morning'],\n",
       "       ['Good morning', 'Good morning', 'Good morning']], dtype='<U12')"
      ]
     },
     "execution_count": 123,
     "metadata": {},
     "output_type": "execute_result"
    }
   ],
   "source": [
    "array_full= np.full(shape =(2,3), fill_value = 'Good morning')\n",
    "array_full"
   ]
  },
  {
   "cell_type": "markdown",
   "id": "01962d6d-2957-408e-9c2f-c7ee1dfd6f47",
   "metadata": {},
   "source": [
    "### like() method"
   ]
  },
  {
   "cell_type": "code",
   "execution_count": 11,
   "id": "29c35c28-e854-458c-97d9-2257af2fce8e",
   "metadata": {},
   "outputs": [
    {
     "data": {
      "text/plain": [
       "array([[ 1,  2,  3,  4,  3],\n",
       "       [ 0,  3,  4,  5,  6],\n",
       "       [ 3, 11, 10, 12,  1]])"
      ]
     },
     "execution_count": 11,
     "metadata": {},
     "output_type": "execute_result"
    }
   ],
   "source": [
    "val = np.array([ [1,2,3,4,3],[0,3,4,5,6],[3,11,10,12,1]])\n",
    "val"
   ]
  },
  {
   "cell_type": "code",
   "execution_count": 12,
   "id": "0b4c4442-b9c2-4202-b0e3-0850b8d2cc2c",
   "metadata": {},
   "outputs": [
    {
     "data": {
      "text/plain": [
       "array([[                  0,                   0, 4607182418800017408,\n",
       "        4589168020290535424, 4598175219545276416],\n",
       "       [4607182418800017408, 4607182418800017408, 4607182418800017408,\n",
       "        4607182418800017408, 4617385886705778688],\n",
       "       [4612248968380809216, 4607182418800017408, 4625196817309499392,\n",
       "        4616189618054758400, 4607182418800017408]])"
      ]
     },
     "execution_count": 12,
     "metadata": {},
     "output_type": "execute_result"
    }
   ],
   "source": [
    "arr_empty_like = np.empty_like(val)\n",
    "arr_empty_like"
   ]
  },
  {
   "cell_type": "code",
   "execution_count": 141,
   "id": "8424c02c-78fd-4530-ac0d-0cefc1b93c0e",
   "metadata": {},
   "outputs": [
    {
     "data": {
      "text/plain": [
       "array([[0, 0, 0, 0, 0],\n",
       "       [0, 0, 0, 0, 0],\n",
       "       [0, 0, 0, 0, 0]])"
      ]
     },
     "execution_count": 141,
     "metadata": {},
     "output_type": "execute_result"
    }
   ],
   "source": [
    "arr_os_like = np.zeros_like(val)\n",
    "arr_os_like \n",
    "\n",
    "## create zero array with the same shape as the inner array "
   ]
  },
  {
   "cell_type": "code",
   "execution_count": 143,
   "id": "f18ee818-60c9-40df-b707-c0e73fa7629d",
   "metadata": {},
   "outputs": [
    {
     "data": {
      "text/plain": [
       "array([[11, 11, 11, 11, 11],\n",
       "       [11, 11, 11, 11, 11],\n",
       "       [11, 11, 11, 11, 11]])"
      ]
     },
     "execution_count": 143,
     "metadata": {},
     "output_type": "execute_result"
    }
   ],
   "source": [
    "arr_full_like = np.full_like(val,fill_value=11)\n",
    "arr_full_like \n",
    "\n",
    "## create zero array with the same shape as the inner array = val"
   ]
  },
  {
   "cell_type": "markdown",
   "id": "e2c97bfb-af9d-4634-aefb-afff57eb437e",
   "metadata": {},
   "source": [
    "### __range()__ and __arrange()__"
   ]
  },
  {
   "cell_type": "code",
   "execution_count": 144,
   "id": "f02cdee9-8eec-4a2a-b7ee-33b23762f497",
   "metadata": {},
   "outputs": [
    {
     "data": {
      "text/plain": [
       "range(0, 5)"
      ]
     },
     "execution_count": 144,
     "metadata": {},
     "output_type": "execute_result"
    }
   ],
   "source": [
    "range(5)"
   ]
  },
  {
   "cell_type": "code",
   "execution_count": 145,
   "id": "9494af38-429f-4555-84ba-b0be96d4bf51",
   "metadata": {},
   "outputs": [
    {
     "data": {
      "text/plain": [
       "[0, 1, 2, 3, 4]"
      ]
     },
     "execution_count": 145,
     "metadata": {},
     "output_type": "execute_result"
    }
   ],
   "source": [
    "list(range(5))"
   ]
  },
  {
   "cell_type": "code",
   "execution_count": 146,
   "id": "f40a875c-b285-44e4-929b-989da766c48d",
   "metadata": {},
   "outputs": [
    {
     "data": {
      "text/plain": [
       "array([ 0,  1,  2,  3,  4,  5,  6,  7,  8,  9, 10, 11, 12, 13, 14, 15, 16,\n",
       "       17, 18, 19, 20, 21, 22, 23, 24, 25, 26, 27, 28, 29])"
      ]
     },
     "execution_count": 146,
     "metadata": {},
     "output_type": "execute_result"
    }
   ],
   "source": [
    "### arange\n",
    "\n",
    "array_rng = np.arange(30)\n",
    "array_rng"
   ]
  },
  {
   "cell_type": "markdown",
   "id": "e4792208-74d0-4289-9441-b7a30ace9b9e",
   "metadata": {},
   "source": [
    "### __Random Generators__"
   ]
  },
  {
   "cell_type": "markdown",
   "id": "d6a0ac7f-6cb2-4d28-8736-9f07273f82f2",
   "metadata": {},
   "source": [
    "from numpy.random import Generator as gen\n",
    "from numpy.random import PCG64 as pcg\n",
    "\n"
   ]
  },
  {
   "cell_type": "code",
   "execution_count": 15,
   "id": "71d51b4f-f587-477d-a856-f86199a11f2a",
   "metadata": {},
   "outputs": [
    {
     "data": {
      "text/plain": [
       "'/Users/olivierla412/Home_trained/doc1'"
      ]
     },
     "execution_count": 15,
     "metadata": {},
     "output_type": "execute_result"
    }
   ],
   "source": [
    "pwd"
   ]
  },
  {
   "cell_type": "code",
   "execution_count": null,
   "id": "477e8294-b18d-48a1-b474-9017364b1dcf",
   "metadata": {},
   "outputs": [],
   "source": [
    "#### pcg = Permutation Comgruential Generator"
   ]
  },
  {
   "cell_type": "code",
   "execution_count": 150,
   "id": "c6f3bbd0-61c8-4a1e-b743-01e69d9ae612",
   "metadata": {},
   "outputs": [
    {
     "data": {
      "text/plain": [
       "-1.2529600418535287"
      ]
     },
     "execution_count": 150,
     "metadata": {},
     "output_type": "execute_result"
    }
   ],
   "source": [
    "array_RG = gen(pcg())\n",
    "array_RG.normal()"
   ]
  },
  {
   "cell_type": "code",
   "execution_count": 152,
   "id": "5f38369f-6742-4b39-8e58-b9984a30d07d",
   "metadata": {},
   "outputs": [
    {
     "data": {
      "text/plain": [
       "array([[-0.76696525,  0.54403914,  0.97105838, -1.44446583,  1.15120596],\n",
       "       [-0.23227285,  1.26920225,  0.1858036 , -1.06182854,  0.07887246],\n",
       "       [ 1.29768143, -0.20706647, -0.62066003,  0.44396598,  0.56181666]])"
      ]
     },
     "execution_count": 152,
     "metadata": {},
     "output_type": "execute_result"
    }
   ],
   "source": [
    "array_RG = gen(pcg())\n",
    "array_RG.normal(size =(3,5))"
   ]
  },
  {
   "cell_type": "markdown",
   "id": "e55406a3-5e1a-459f-aa82-5ecd83c984ed",
   "metadata": {},
   "source": [
    "### to get same values , let use __seed__ argument."
   ]
  },
  {
   "cell_type": "code",
   "execution_count": 158,
   "id": "076f93cd-b321-4117-b7d0-b13005f48a12",
   "metadata": {},
   "outputs": [
    {
     "data": {
      "text/plain": [
       "array([[-0.13640899,  0.09414431, -0.06300442,  1.05391641, -0.6866818 ],\n",
       "       [-0.50922173, -0.7999526 ,  0.73041825,  0.08825439, -2.1177576 ],\n",
       "       [ 0.65526774, -0.48095012, -0.5519114 , -0.58578662, -0.98257896],\n",
       "       [ 1.12378166, -1.30984316, -0.04703774,  0.955272  ,  0.26071745],\n",
       "       [-0.20023668, -1.50172484, -1.4929163 ,  0.96535084,  1.18694633]])"
      ]
     },
     "execution_count": 158,
     "metadata": {},
     "output_type": "execute_result"
    }
   ],
   "source": [
    "array_RG = gen(pcg(seed = 365))\n",
    "array_RG.normal(size =(5,5))"
   ]
  },
  {
   "cell_type": "code",
   "execution_count": null,
   "id": "ffcc7410-7d6f-48a3-ad51-74d3164815a8",
   "metadata": {},
   "outputs": [],
   "source": []
  },
  {
   "cell_type": "code",
   "execution_count": 159,
   "id": "a011acad-2aa0-43b7-864c-4d3f0f8c8446",
   "metadata": {},
   "outputs": [],
   "source": [
    "from numpy.random import Generator as gen\n",
    "from numpy.random import PCG64 as pcg"
   ]
  },
  {
   "cell_type": "code",
   "execution_count": 16,
   "id": "69fe274a-6dee-49fa-b98d-23674f20c4fc",
   "metadata": {},
   "outputs": [],
   "source": [
    "array_RG = gen(pcg(seed = 365))"
   ]
  },
  {
   "cell_type": "code",
   "execution_count": 22,
   "id": "11777859-851e-4ebe-a505-770e8adf3f6d",
   "metadata": {},
   "outputs": [],
   "source": [
    "result = array_RG.integers(10,size=(4,4))"
   ]
  },
  {
   "cell_type": "code",
   "execution_count": 23,
   "id": "05d116e6-490c-4136-b112-cb3baf203f7e",
   "metadata": {},
   "outputs": [
    {
     "data": {
      "text/plain": [
       "array([[4, 4, 7, 4],\n",
       "       [2, 6, 3, 5],\n",
       "       [0, 6, 2, 0],\n",
       "       [5, 7, 7, 8]])"
      ]
     },
     "execution_count": 23,
     "metadata": {},
     "output_type": "execute_result"
    }
   ],
   "source": [
    "result"
   ]
  },
  {
   "cell_type": "code",
   "execution_count": 169,
   "id": "041f8c41-bdae-4db4-b7af-3ba77d4c4fce",
   "metadata": {},
   "outputs": [
    {
     "data": {
      "text/plain": [
       "array([[26, 29, 38, 29],\n",
       "       [19, 35, 24, 31],\n",
       "       [12, 35, 18, 11],\n",
       "       [31, 38, 38, 43]])"
      ]
     },
     "execution_count": 169,
     "metadata": {},
     "output_type": "execute_result"
    }
   ],
   "source": [
    "array_RG.integers(low=10,high = 50,size=(4,4))"
   ]
  },
  {
   "cell_type": "code",
   "execution_count": 170,
   "id": "c4747a65-75ce-4468-996e-0d2e5b0064d0",
   "metadata": {},
   "outputs": [
    {
     "data": {
      "text/plain": [
       "array([[0.17159792, 0.72989385, 0.31220331, 0.4966964 ],\n",
       "       [0.62633289, 0.25432223, 0.27184357, 0.58527261],\n",
       "       [0.47582808, 0.31213978, 0.86326571, 0.69308801],\n",
       "       [0.03810334, 0.7685183 , 0.35663042, 0.10106293]])"
      ]
     },
     "execution_count": 170,
     "metadata": {},
     "output_type": "execute_result"
    }
   ],
   "source": [
    "array_RG.random(size=(4,4))"
   ]
  },
  {
   "cell_type": "code",
   "execution_count": 174,
   "id": "02635ee5-d4da-48e3-808f-2c2bf391550c",
   "metadata": {},
   "outputs": [],
   "source": [
    "ac = array_RG.choice([1,2,3,4,5],size=(4,4))"
   ]
  },
  {
   "cell_type": "code",
   "execution_count": 175,
   "id": "cd1ef08f-0c7a-4a60-872b-76c06284d7cc",
   "metadata": {},
   "outputs": [
    {
     "name": "stdout",
     "output_type": "stream",
     "text": [
      "[[4 4 5 1]\n",
      " [5 2 5 1]\n",
      " [3 2 3 1]\n",
      " [5 2 4 3]]\n"
     ]
    }
   ],
   "source": [
    "print(ac)"
   ]
  },
  {
   "cell_type": "code",
   "execution_count": null,
   "id": "fa6cbc4d-e8bc-473e-a99a-6508ca134c95",
   "metadata": {},
   "outputs": [],
   "source": [
    "array_RG"
   ]
  },
  {
   "cell_type": "markdown",
   "id": "072275ac-15c0-4020-a680-50bd13d76959",
   "metadata": {},
   "source": [
    "## Generate Arrays from kown Distributions"
   ]
  },
  {
   "cell_type": "code",
   "execution_count": 179,
   "id": "62b69f9a-0bda-4baf-aa0b-033bca5ca2a2",
   "metadata": {},
   "outputs": [],
   "source": [
    "array_RG1 = gen(pcg(seed = 365))"
   ]
  },
  {
   "cell_type": "code",
   "execution_count": 182,
   "id": "807065c8-85e9-41d5-944b-a0db22aa11be",
   "metadata": {},
   "outputs": [
    {
     "data": {
      "text/plain": [
       "array([[0, 0, 1, 2],\n",
       "       [3, 1, 1, 0],\n",
       "       [1, 0, 4, 1],\n",
       "       [2, 2, 2, 0]])"
      ]
     },
     "execution_count": 182,
     "metadata": {},
     "output_type": "execute_result"
    }
   ],
   "source": [
    "array_RG1.poisson(size =(4,4))"
   ]
  },
  {
   "cell_type": "code",
   "execution_count": 183,
   "id": "21fdb239-02b7-45dc-b907-8850b287cc0a",
   "metadata": {},
   "outputs": [
    {
     "data": {
      "text/plain": [
       "array([[ 9, 12, 10,  7],\n",
       "       [ 8, 12,  7, 11],\n",
       "       [ 6,  8, 16, 13],\n",
       "       [12, 15, 10,  6]])"
      ]
     },
     "execution_count": 183,
     "metadata": {},
     "output_type": "execute_result"
    }
   ],
   "source": [
    "array_RG1.poisson(lam = 10,size =(4,4))"
   ]
  },
  {
   "cell_type": "markdown",
   "id": "9ee2e6d9-4c4c-442c-8a93-1d7405caef23",
   "metadata": {},
   "source": [
    "## Test creation\n"
   ]
  },
  {
   "cell_type": "code",
   "execution_count": 187,
   "id": "34644900-e3af-4ff6-a7e3-7092fca3a424",
   "metadata": {},
   "outputs": [],
   "source": [
    "arr_column1 = array_RG1.normal(loc =2, scale = 3,size =(1000))\n",
    "arr_column2 = array_RG1.normal(loc =7, scale = 2,size =(1000))\n",
    "arr_column3 = array_RG1.logistic(loc =11, scale = 3,size =(1000))\n",
    "arr_column4 = array_RG1.exponential(scale =4 ,size =(1000))\n",
    "arr_column5 = array_RG1.geometric(p =0.7,size =(1000))"
   ]
  },
  {
   "cell_type": "code",
   "execution_count": 190,
   "id": "eb754489-6c72-429c-8091-c829be6817c8",
   "metadata": {},
   "outputs": [],
   "source": [
    "random_test_data = np.array([arr_column1,arr_column2,arr_column3,arr_column4,arr_column5]).transpose()"
   ]
  },
  {
   "cell_type": "code",
   "execution_count": 191,
   "id": "2b01a376-9c75-432b-814f-dab898065d5b",
   "metadata": {},
   "outputs": [
    {
     "data": {
      "text/plain": [
       "array([[ 0.86818758,  5.90560375,  8.90594793,  1.66654222,  2.        ],\n",
       "       [-2.54736585,  9.61769608,  8.77548566,  1.25651593,  1.        ],\n",
       "       [ 2.40854186, 10.23415854, 18.77001679,  3.56155901,  1.        ],\n",
       "       ...,\n",
       "       [ 2.697466  ,  8.82473052,  8.2061061 ,  2.40327928,  1.        ],\n",
       "       [ 0.86384074,  4.77216952,  6.14456232,  1.21517085,  1.        ],\n",
       "       [ 4.38801446,  6.42749659, 11.19413878,  0.59960985,  1.        ]])"
      ]
     },
     "execution_count": 191,
     "metadata": {},
     "output_type": "execute_result"
    }
   ],
   "source": [
    "random_test_data"
   ]
  },
  {
   "cell_type": "code",
   "execution_count": 192,
   "id": "cc10be6e-27e1-4a08-ac70-939edf7a0377",
   "metadata": {},
   "outputs": [
    {
     "data": {
      "text/plain": [
       "(1000, 5)"
      ]
     },
     "execution_count": 192,
     "metadata": {},
     "output_type": "execute_result"
    }
   ],
   "source": [
    "random_test_data.shape"
   ]
  },
  {
   "cell_type": "code",
   "execution_count": 193,
   "id": "67b55aa5-e21d-4356-b300-837a81e6223b",
   "metadata": {},
   "outputs": [],
   "source": [
    "np.savetxt('random_text.csv',random_test_data,fmt='%s',delimiter=',')"
   ]
  },
  {
   "cell_type": "code",
   "execution_count": 194,
   "id": "d2148c76-d32c-499a-84cf-edd0c14e8270",
   "metadata": {},
   "outputs": [
    {
     "data": {
      "text/plain": [
       "array([[ 0.86818758,  5.90560375,  8.90594793,  1.66654222,  2.        ],\n",
       "       [-2.54736585,  9.61769608,  8.77548566,  1.25651593,  1.        ],\n",
       "       [ 2.40854186, 10.23415854, 18.77001679,  3.56155901,  1.        ],\n",
       "       ...,\n",
       "       [ 2.697466  ,  8.82473052,  8.2061061 ,  2.40327928,  1.        ],\n",
       "       [ 0.86384074,  4.77216952,  6.14456232,  1.21517085,  1.        ],\n",
       "       [ 4.38801446,  6.42749659, 11.19413878,  0.59960985,  1.        ]])"
      ]
     },
     "execution_count": 194,
     "metadata": {},
     "output_type": "execute_result"
    }
   ],
   "source": [
    "### to display the saved file\n",
    "\n",
    "np.genfromtxt('random_text.csv',delimiter=',')"
   ]
  },
  {
   "cell_type": "code",
   "execution_count": 7,
   "id": "63749799-7f4a-4a2d-9dbe-724e9c9a0b04",
   "metadata": {},
   "outputs": [
    {
     "data": {
      "text/plain": [
       "['', 'in', 'IN', 'In', \"print('hello')\", 'Out', 'x = 20', 'In']"
      ]
     },
     "execution_count": 7,
     "metadata": {},
     "output_type": "execute_result"
    }
   ],
   "source": [
    "In"
   ]
  },
  {
   "cell_type": "code",
   "execution_count": 4,
   "id": "1afb02df-d231-4d3e-999a-8a13f410edf5",
   "metadata": {},
   "outputs": [
    {
     "name": "stdout",
     "output_type": "stream",
     "text": [
      "hello\n"
     ]
    }
   ],
   "source": [
    "print('hello')"
   ]
  },
  {
   "cell_type": "code",
   "execution_count": 5,
   "id": "e29b5092-6a0a-4e84-949a-22537a870b01",
   "metadata": {},
   "outputs": [
    {
     "data": {
      "text/plain": [
       "{3: ['', 'in', 'IN', 'In', \"print('hello')\", 'Out']}"
      ]
     },
     "execution_count": 5,
     "metadata": {},
     "output_type": "execute_result"
    }
   ],
   "source": [
    "Out"
   ]
  },
  {
   "cell_type": "code",
   "execution_count": 6,
   "id": "17b55be5-e450-4826-b9de-86ee8c390c75",
   "metadata": {},
   "outputs": [],
   "source": [
    "x = 20"
   ]
  },
  {
   "cell_type": "code",
   "execution_count": 24,
   "id": "8039c345-eb0d-4551-98e4-cb536339fcfa",
   "metadata": {},
   "outputs": [],
   "source": [
    "import time"
   ]
  },
  {
   "cell_type": "code",
   "execution_count": 25,
   "id": "a0186f3c-5cd0-4411-8f38-abbf93127d8d",
   "metadata": {},
   "outputs": [
    {
     "name": "stdout",
     "output_type": "stream",
     "text": [
      "012"
     ]
    }
   ],
   "source": [
    "for i in range(3):\n",
    "    print(i,end='')\n",
    "    time.sleep(3)\n",
    "    "
   ]
  },
  {
   "cell_type": "code",
   "execution_count": 12,
   "id": "4117619c-1a0a-4063-860c-243ea926fa64",
   "metadata": {},
   "outputs": [
    {
     "name": "stdout",
     "output_type": "stream",
     "text": [
      "012345"
     ]
    }
   ],
   "source": []
  },
  {
   "cell_type": "code",
   "execution_count": null,
   "id": "3b675e79-168f-4223-9fc8-233661af4232",
   "metadata": {},
   "outputs": [],
   "source": []
  }
 ],
 "metadata": {
  "kernelspec": {
   "display_name": "Python 3",
   "language": "python",
   "name": "python3"
  },
  "language_info": {
   "codemirror_mode": {
    "name": "ipython",
    "version": 3
   },
   "file_extension": ".py",
   "mimetype": "text/x-python",
   "name": "python",
   "nbconvert_exporter": "python",
   "pygments_lexer": "ipython3",
   "version": "3.8.8"
  }
 },
 "nbformat": 4,
 "nbformat_minor": 5
}
