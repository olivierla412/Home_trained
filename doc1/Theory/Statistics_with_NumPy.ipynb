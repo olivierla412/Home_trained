{
 "cells": [
  {
   "cell_type": "code",
   "execution_count": 1,
   "id": "0f3633ed-4830-4ac0-8fd4-1acd9e275b20",
   "metadata": {},
   "outputs": [],
   "source": [
    "import numpy as np\n"
   ]
  },
  {
   "cell_type": "code",
   "execution_count": 2,
   "id": "246bef09-baf4-4522-b15a-baa3e352a372",
   "metadata": {},
   "outputs": [
    {
     "name": "stdout",
     "output_type": "stream",
     "text": [
      "[[1 0 0 3 1]\n",
      " [3 6 6 2 9]\n",
      " [4 5 3 8 0]]\n"
     ]
    }
   ],
   "source": [
    "matrix_A = np.array([[1,0,0,3,1],[3,6,6,2,9],[4,5,3,8,0]])\n",
    "print(matrix_A)\n"
   ]
  },
  {
   "cell_type": "code",
   "execution_count": 3,
   "id": "7fa0db19-58da-4354-9275-1be2ca389984",
   "metadata": {},
   "outputs": [
    {
     "data": {
      "text/plain": [
       "3.4"
      ]
     },
     "execution_count": 3,
     "metadata": {},
     "output_type": "execute_result"
    }
   ],
   "source": [
    "np.mean(matrix_A)"
   ]
  },
  {
   "cell_type": "code",
   "execution_count": 4,
   "id": "8f9a7cfe-eb66-4aff-94aa-88ece90c0f31",
   "metadata": {},
   "outputs": [
    {
     "data": {
      "text/plain": [
       "1.0"
      ]
     },
     "execution_count": 4,
     "metadata": {},
     "output_type": "execute_result"
    }
   ],
   "source": [
    "np.mean(matrix_A[0])\n",
    "\n",
    "# row wise"
   ]
  },
  {
   "cell_type": "code",
   "execution_count": 5,
   "id": "4677f5ec-99ec-4a93-a7bc-92a1082e0387",
   "metadata": {},
   "outputs": [
    {
     "data": {
      "text/plain": [
       "1.0"
      ]
     },
     "execution_count": 5,
     "metadata": {},
     "output_type": "execute_result"
    }
   ],
   "source": [
    "np.mean(matrix_A[0,:])\n",
    "\n",
    "# row wise"
   ]
  },
  {
   "cell_type": "code",
   "execution_count": 6,
   "id": "ca2ce3db-4748-42ae-aea1-fb78b092424a",
   "metadata": {},
   "outputs": [
    {
     "data": {
      "text/plain": [
       "2.6666666666666665"
      ]
     },
     "execution_count": 6,
     "metadata": {},
     "output_type": "execute_result"
    }
   ],
   "source": [
    "np.mean(matrix_A[:,0])\n",
    "\n",
    "# column  wise"
   ]
  },
  {
   "cell_type": "code",
   "execution_count": 7,
   "id": "aa243b8a-3e19-445e-afa1-4c6ecbe8e448",
   "metadata": {},
   "outputs": [
    {
     "data": {
      "text/plain": [
       "array([[1, 0, 0],\n",
       "       [3, 6, 6]])"
      ]
     },
     "execution_count": 7,
     "metadata": {},
     "output_type": "execute_result"
    }
   ],
   "source": [
    "matrix_A[0:2,0:3]"
   ]
  },
  {
   "cell_type": "markdown",
   "id": "7dd911c2-d958-4d2a-8a14-cfc950dda031",
   "metadata": {},
   "source": [
    "## Easy way to solve  all above problem "
   ]
  },
  {
   "cell_type": "code",
   "execution_count": 8,
   "id": "db93a268-8965-4079-b65f-2e1b2bbb3c12",
   "metadata": {},
   "outputs": [
    {
     "data": {
      "text/plain": [
       "array([[1, 0, 0, 3, 1],\n",
       "       [3, 6, 6, 2, 9],\n",
       "       [4, 5, 3, 8, 0]])"
      ]
     },
     "execution_count": 8,
     "metadata": {},
     "output_type": "execute_result"
    }
   ],
   "source": [
    "matrix_A"
   ]
  },
  {
   "cell_type": "code",
   "execution_count": 9,
   "id": "18c666f2-4960-4873-aa92-9519fa50523e",
   "metadata": {},
   "outputs": [
    {
     "data": {
      "text/plain": [
       "array([2.66666667, 3.66666667, 3.        , 4.33333333, 3.33333333])"
      ]
     },
     "execution_count": 9,
     "metadata": {},
     "output_type": "execute_result"
    }
   ],
   "source": [
    "np.mean(matrix_A,axis=0)\n",
    "\n",
    "# column  wise"
   ]
  },
  {
   "cell_type": "code",
   "execution_count": 10,
   "id": "c54bfede-d7bf-4ff0-861f-44b5a2fa593d",
   "metadata": {},
   "outputs": [
    {
     "data": {
      "text/plain": [
       "array([1. , 5.2, 4. ])"
      ]
     },
     "execution_count": 10,
     "metadata": {},
     "output_type": "execute_result"
    }
   ],
   "source": [
    "np.mean(matrix_A,axis=1)\n",
    "\n",
    "# row_wise"
   ]
  },
  {
   "cell_type": "markdown",
   "id": "a8e08cc3-9e27-46a8-bdbf-a6da9f11b965",
   "metadata": {},
   "source": [
    "## __Min__ and __Max__ values"
   ]
  },
  {
   "cell_type": "code",
   "execution_count": 11,
   "id": "9f5a4bda-0562-436a-a044-f02070be9935",
   "metadata": {},
   "outputs": [],
   "source": [
    "import numpy as np"
   ]
  },
  {
   "cell_type": "code",
   "execution_count": 12,
   "id": "5a895018-726a-43ce-a355-0c95409e8781",
   "metadata": {},
   "outputs": [
    {
     "data": {
      "text/plain": [
       "array([[1, 0, 0, 3, 1],\n",
       "       [3, 6, 6, 2, 9],\n",
       "       [4, 5, 3, 8, 0]])"
      ]
     },
     "execution_count": 12,
     "metadata": {},
     "output_type": "execute_result"
    }
   ],
   "source": [
    "matrix_A"
   ]
  },
  {
   "cell_type": "code",
   "execution_count": 13,
   "id": "8e5883f1-7758-4d3c-988e-3a3cbd7fc121",
   "metadata": {},
   "outputs": [
    {
     "data": {
      "text/plain": [
       "0"
      ]
     },
     "execution_count": 13,
     "metadata": {},
     "output_type": "execute_result"
    }
   ],
   "source": [
    "np.min(matrix_A)"
   ]
  },
  {
   "cell_type": "code",
   "execution_count": 14,
   "id": "806eee63-96a8-4c6f-a6f2-564a7fc7e728",
   "metadata": {},
   "outputs": [
    {
     "data": {
      "text/plain": [
       "0"
      ]
     },
     "execution_count": 14,
     "metadata": {},
     "output_type": "execute_result"
    }
   ],
   "source": [
    "np.amin(matrix_A)"
   ]
  },
  {
   "cell_type": "code",
   "execution_count": 15,
   "id": "e6c02da5-af69-4424-a966-6d68f8d79b15",
   "metadata": {},
   "outputs": [
    {
     "data": {
      "text/plain": [
       "array([3, 5, 3, 2, 0])"
      ]
     },
     "execution_count": 15,
     "metadata": {},
     "output_type": "execute_result"
    }
   ],
   "source": [
    "np.minimum(matrix_A[1],matrix_A[2])"
   ]
  },
  {
   "cell_type": "code",
   "execution_count": 16,
   "id": "e1e56c71-65cf-4b87-8430-abc59a469024",
   "metadata": {},
   "outputs": [
    {
     "data": {
      "text/plain": [
       "array([1, 0, 0, 2, 0])"
      ]
     },
     "execution_count": 16,
     "metadata": {},
     "output_type": "execute_result"
    }
   ],
   "source": [
    "np.minimum.reduce(matrix_A)"
   ]
  },
  {
   "cell_type": "code",
   "execution_count": 17,
   "id": "f7eae8d5-a282-440a-b6cd-cec97efc09fd",
   "metadata": {},
   "outputs": [
    {
     "data": {
      "text/plain": [
       "array([4, 6, 6, 8, 9])"
      ]
     },
     "execution_count": 17,
     "metadata": {},
     "output_type": "execute_result"
    }
   ],
   "source": [
    "np.maximum.reduce(matrix_A)\n",
    "\n",
    "## important"
   ]
  },
  {
   "cell_type": "code",
   "execution_count": 18,
   "id": "7fe38649-af48-4782-a47f-adaee4697478",
   "metadata": {},
   "outputs": [
    {
     "data": {
      "text/plain": [
       "array([1, 0, 0, 2, 0])"
      ]
     },
     "execution_count": 18,
     "metadata": {},
     "output_type": "execute_result"
    }
   ],
   "source": [
    "np.min(matrix_A,axis=0)"
   ]
  },
  {
   "cell_type": "code",
   "execution_count": 19,
   "id": "54d71121-a596-4a31-a81a-5b36b09b3ed3",
   "metadata": {},
   "outputs": [
    {
     "data": {
      "text/plain": [
       "array([0, 2, 0])"
      ]
     },
     "execution_count": 19,
     "metadata": {},
     "output_type": "execute_result"
    }
   ],
   "source": [
    "np.min(matrix_A,axis=1)"
   ]
  },
  {
   "cell_type": "markdown",
   "id": "fbe15d69-b337-45c7-84a5-c4ec20dda461",
   "metadata": {},
   "source": [
    "## statistic order functions\n",
    "\n",
    "#### __np.ptp()__ , __np.percentile()__ , __np.quantile()__"
   ]
  },
  {
   "cell_type": "code",
   "execution_count": 20,
   "id": "729d8bb5-acc2-47d0-be8b-63182bd1edf9",
   "metadata": {},
   "outputs": [
    {
     "data": {
      "text/plain": [
       "array([[1, 0, 0, 3, 1],\n",
       "       [3, 6, 6, 2, 9],\n",
       "       [4, 5, 3, 8, 0]])"
      ]
     },
     "execution_count": 20,
     "metadata": {},
     "output_type": "execute_result"
    }
   ],
   "source": [
    "matrix_A"
   ]
  },
  {
   "cell_type": "markdown",
   "id": "7bb4e128-53e3-4381-b855-9513cdc7a6ca",
   "metadata": {},
   "source": [
    "## __np.ptp()__\n",
    "#### ptp = peak to peak"
   ]
  },
  {
   "cell_type": "code",
   "execution_count": 21,
   "id": "345e70b9-0ffd-4db4-8194-0c2db0cb2710",
   "metadata": {},
   "outputs": [
    {
     "data": {
      "text/plain": [
       "9"
      ]
     },
     "execution_count": 21,
     "metadata": {},
     "output_type": "execute_result"
    }
   ],
   "source": [
    "np.ptp(matrix_A)"
   ]
  },
  {
   "cell_type": "code",
   "execution_count": 22,
   "id": "ecf30380-3cec-4142-b786-f2fd2cb54bfa",
   "metadata": {},
   "outputs": [
    {
     "data": {
      "text/plain": [
       "array([3, 6, 6, 6, 9])"
      ]
     },
     "execution_count": 22,
     "metadata": {},
     "output_type": "execute_result"
    }
   ],
   "source": [
    "np.ptp(matrix_A,axis=0)\n",
    "\n",
    "## difference bw the lower and highest , column wise"
   ]
  },
  {
   "cell_type": "code",
   "execution_count": 23,
   "id": "76f92016-2a8f-46df-9377-97bfec82f8d2",
   "metadata": {},
   "outputs": [
    {
     "data": {
      "text/plain": [
       "array([3, 7, 8])"
      ]
     },
     "execution_count": 23,
     "metadata": {},
     "output_type": "execute_result"
    }
   ],
   "source": [
    "np.ptp(matrix_A,axis=1)\n",
    "\n",
    "## difference bw the lower and highest , row wise"
   ]
  },
  {
   "cell_type": "markdown",
   "id": "5ea3af05-9d5b-494b-a3c1-3fff8367ca9f",
   "metadata": {},
   "source": [
    "## __np.percentile()__ \n",
    "#### It returns a specific percentile of a given set\n",
    "#### __Percentile__ takes an argument between __0__ to __100__\n"
   ]
  },
  {
   "cell_type": "code",
   "execution_count": 24,
   "id": "a49f39d5-c6e5-423c-bf33-837e3a16306e",
   "metadata": {},
   "outputs": [],
   "source": [
    "# first let's sort the matrix_A\n",
    "\n",
    "matrix_A_sorted = np.sort(matrix_A, axis=None)"
   ]
  },
  {
   "cell_type": "code",
   "execution_count": 25,
   "id": "4506275c-a73a-4fd6-acdd-56e557157948",
   "metadata": {},
   "outputs": [
    {
     "name": "stdout",
     "output_type": "stream",
     "text": [
      "[0 0 0 1 1 2 3 3 3 4 5 6 6 8 9]\n"
     ]
    }
   ],
   "source": [
    "print(matrix_A_sorted)"
   ]
  },
  {
   "cell_type": "code",
   "execution_count": 26,
   "id": "66f95e9a-0fe1-4b28-b1e1-c19fdbfa6a34",
   "metadata": {},
   "outputs": [
    {
     "data": {
      "text/plain": [
       "4.799999999999999"
      ]
     },
     "execution_count": 26,
     "metadata": {},
     "output_type": "execute_result"
    }
   ],
   "source": [
    "np.percentile(matrix_A,70)"
   ]
  },
  {
   "cell_type": "code",
   "execution_count": 27,
   "id": "52c6dab8-5cf5-49ed-87ae-a1247351bd89",
   "metadata": {},
   "outputs": [
    {
     "data": {
      "text/plain": [
       "5"
      ]
     },
     "execution_count": 27,
     "metadata": {},
     "output_type": "execute_result"
    }
   ],
   "source": [
    "np.percentile(matrix_A,70, interpolation= 'nearest')\n",
    "\n",
    "## this gives the 70-th of the set"
   ]
  },
  {
   "cell_type": "code",
   "execution_count": 28,
   "id": "debe2ca2-d5d5-4b8b-bc85-299c32cf78a8",
   "metadata": {},
   "outputs": [
    {
     "data": {
      "text/plain": [
       "3"
      ]
     },
     "execution_count": 28,
     "metadata": {},
     "output_type": "execute_result"
    }
   ],
   "source": [
    "np.percentile(matrix_A,50, interpolation= 'nearest')\n",
    "\n",
    "# this gives the median of the set"
   ]
  },
  {
   "cell_type": "code",
   "execution_count": 29,
   "id": "6df2f9bc-53f9-4a4a-96c3-48cb7e799fa5",
   "metadata": {},
   "outputs": [
    {
     "data": {
      "text/plain": [
       "0"
      ]
     },
     "execution_count": 29,
     "metadata": {},
     "output_type": "execute_result"
    }
   ],
   "source": [
    "np.percentile(matrix_A,0, interpolation= 'nearest')\n",
    "\n",
    "# this gives the minimum of the set"
   ]
  },
  {
   "cell_type": "code",
   "execution_count": 30,
   "id": "be51b4a6-0811-4cda-adbc-c4ef7b03b2dd",
   "metadata": {},
   "outputs": [
    {
     "data": {
      "text/plain": [
       "9"
      ]
     },
     "execution_count": 30,
     "metadata": {},
     "output_type": "execute_result"
    }
   ],
   "source": [
    "np.percentile(matrix_A,100, interpolation= 'nearest')\n",
    "\n",
    "# this gives the maximum of the set"
   ]
  },
  {
   "cell_type": "markdown",
   "id": "2098ffe0-26d6-4700-92d2-5b9578637480",
   "metadata": {},
   "source": [
    "##  __np.quantile()__\n",
    "\n",
    "#### A value that is greater than the corresponding part of the datatset\n",
    "#### 70-th percentile = 0.7 quantile\n",
    "#### __Quantile__ takes an argument between __0__ to __1__"
   ]
  },
  {
   "cell_type": "code",
   "execution_count": 31,
   "id": "25eb8070-a2eb-4257-a567-583c10a17ef5",
   "metadata": {},
   "outputs": [
    {
     "data": {
      "text/plain": [
       "4.799999999999999"
      ]
     },
     "execution_count": 31,
     "metadata": {},
     "output_type": "execute_result"
    }
   ],
   "source": [
    "np.quantile(matrix_A,0.7)\n"
   ]
  },
  {
   "cell_type": "code",
   "execution_count": 32,
   "id": "c32708cc-e408-44c5-ba7b-528b4fdb633e",
   "metadata": {},
   "outputs": [
    {
     "data": {
      "text/plain": [
       "5"
      ]
     },
     "execution_count": 32,
     "metadata": {},
     "output_type": "execute_result"
    }
   ],
   "source": [
    "np.quantile(matrix_A,0.7, interpolation= 'nearest')\n"
   ]
  },
  {
   "cell_type": "markdown",
   "id": "ff36968c-e73a-44c8-a60d-58f5e3252390",
   "metadata": {},
   "source": [
    "## __Variance__"
   ]
  },
  {
   "cell_type": "code",
   "execution_count": 33,
   "id": "ea6aef8e-8bef-47a1-81fc-d382c39479d5",
   "metadata": {},
   "outputs": [
    {
     "data": {
      "text/plain": [
       "array([0, 0, 0, 1, 1, 2, 3, 3, 3, 4, 5, 6, 6, 8, 9])"
      ]
     },
     "execution_count": 33,
     "metadata": {},
     "output_type": "execute_result"
    }
   ],
   "source": [
    "matrix_A_sorted"
   ]
  },
  {
   "cell_type": "code",
   "execution_count": 34,
   "id": "9c37dc8f-89b1-4c53-8cb8-78d9de7b14b5",
   "metadata": {},
   "outputs": [
    {
     "data": {
      "text/plain": [
       "3.0"
      ]
     },
     "execution_count": 34,
     "metadata": {},
     "output_type": "execute_result"
    }
   ],
   "source": [
    "np.median(matrix_A_sorted)"
   ]
  },
  {
   "cell_type": "code",
   "execution_count": 35,
   "id": "5f5866e5-c0c1-49b1-8120-ca396db37d31",
   "metadata": {},
   "outputs": [
    {
     "data": {
      "text/plain": [
       "3.4"
      ]
     },
     "execution_count": 35,
     "metadata": {},
     "output_type": "execute_result"
    }
   ],
   "source": [
    "np.mean(matrix_A_sorted)"
   ]
  },
  {
   "cell_type": "code",
   "execution_count": 36,
   "id": "db504f3f-7ff6-4287-b4fb-fb08576f3a32",
   "metadata": {},
   "outputs": [
    {
     "data": {
      "text/plain": [
       "3.4"
      ]
     },
     "execution_count": 36,
     "metadata": {},
     "output_type": "execute_result"
    }
   ],
   "source": [
    "np.average(matrix_A_sorted)"
   ]
  },
  {
   "cell_type": "markdown",
   "id": "d5169087-d7b7-4430-80e5-941ecb78657d",
   "metadata": {},
   "source": [
    "## What's the difference between the both method __mean()__ & __average()__ ?\n"
   ]
  },
  {
   "cell_type": "code",
   "execution_count": 37,
   "id": "32ddb311-6a06-4673-8f9d-b0f6dce56fc9",
   "metadata": {},
   "outputs": [],
   "source": [
    "from numpy.random import Generator as gen\n",
    "from numpy.random import PCG64 as pcg"
   ]
  },
  {
   "cell_type": "code",
   "execution_count": 38,
   "id": "ed228ce2-0a83-4104-853c-98b4914a16d0",
   "metadata": {},
   "outputs": [],
   "source": [
    "array_RG = gen(pcg(365))"
   ]
  },
  {
   "cell_type": "code",
   "execution_count": 39,
   "id": "319738fd-27d5-4eb0-a2e0-2b50049d9b99",
   "metadata": {},
   "outputs": [
    {
     "data": {
      "text/plain": [
       "array([[0.75915734, 0.7662218 , 0.6291028 , 0.20336599, 0.66501486],\n",
       "       [0.06559111, 0.71326309, 0.10812106, 0.87969046, 0.49405844],\n",
       "       [0.82472673, 0.45652944, 0.07367232, 0.69628564, 0.36690736]])"
      ]
     },
     "execution_count": 39,
     "metadata": {},
     "output_type": "execute_result"
    }
   ],
   "source": [
    "array_weights = array_RG.random(size =(3,5))\n",
    "array_weights"
   ]
  },
  {
   "cell_type": "code",
   "execution_count": 40,
   "id": "7c49ad80-05b4-4e41-abbc-9f856fde7202",
   "metadata": {},
   "outputs": [
    {
     "data": {
      "text/plain": [
       "3.2120290871899306"
      ]
     },
     "execution_count": 40,
     "metadata": {},
     "output_type": "execute_result"
    }
   ],
   "source": [
    "np.average(matrix_A,weights=array_weights)"
   ]
  },
  {
   "cell_type": "code",
   "execution_count": 41,
   "id": "9f1c633b-6d33-4e8b-b88c-64a1bafd0718",
   "metadata": {},
   "outputs": [
    {
     "data": {
      "text/plain": [
       "7.84"
      ]
     },
     "execution_count": 41,
     "metadata": {},
     "output_type": "execute_result"
    }
   ],
   "source": [
    "# Variance\n",
    "\n",
    "np.var(matrix_A_sorted)"
   ]
  },
  {
   "cell_type": "code",
   "execution_count": 42,
   "id": "b9fea4f3-bc6d-40b6-93ce-8383b1bb7e0f",
   "metadata": {},
   "outputs": [
    {
     "data": {
      "text/plain": [
       "2.8"
      ]
     },
     "execution_count": 42,
     "metadata": {},
     "output_type": "execute_result"
    }
   ],
   "source": [
    "## standard deviation\n",
    "\n",
    "np.std(matrix_A_sorted)"
   ]
  },
  {
   "cell_type": "code",
   "execution_count": 43,
   "id": "b10faf07-2ba3-4775-867c-1e516791a362",
   "metadata": {},
   "outputs": [
    {
     "data": {
      "text/plain": [
       "7.839999999999999"
      ]
     },
     "execution_count": 43,
     "metadata": {},
     "output_type": "execute_result"
    }
   ],
   "source": [
    "##  var(A) = std(A)**2, let's check it\n",
    "\n",
    "np.std(matrix_A_sorted)**2"
   ]
  },
  {
   "cell_type": "markdown",
   "id": "0e4e2d98-cf09-485c-9bfa-ae4679dd7d09",
   "metadata": {},
   "source": [
    "## Correlation"
   ]
  },
  {
   "cell_type": "code",
   "execution_count": 44,
   "id": "bf0d0896-2c35-4816-9cd0-91e7c7646e22",
   "metadata": {},
   "outputs": [
    {
     "data": {
      "text/plain": [
       "array([[1, 0, 0, 3, 1],\n",
       "       [3, 6, 6, 2, 9],\n",
       "       [4, 5, 3, 8, 0]])"
      ]
     },
     "execution_count": 44,
     "metadata": {},
     "output_type": "execute_result"
    }
   ],
   "source": [
    "matrix_A"
   ]
  },
  {
   "cell_type": "code",
   "execution_count": 45,
   "id": "90d662a8-226d-4923-b1a4-211eef06b9dc",
   "metadata": {},
   "outputs": [
    {
     "data": {
      "text/plain": [
       "array([[ 1.5, -2. ,  2. ],\n",
       "       [-2. ,  7.7, -7. ],\n",
       "       [ 2. , -7. ,  8.5]])"
      ]
     },
     "execution_count": 45,
     "metadata": {},
     "output_type": "execute_result"
    }
   ],
   "source": [
    "## covariance\n",
    "\n",
    "np.cov(matrix_A)"
   ]
  },
  {
   "cell_type": "code",
   "execution_count": 46,
   "id": "6d1151fc-8bba-4852-b9bf-a3d79066641e",
   "metadata": {},
   "outputs": [
    {
     "data": {
      "text/plain": [
       "array([[ 1.        , -0.58848989,  0.56011203],\n",
       "       [-0.58848989,  1.        , -0.8652532 ],\n",
       "       [ 0.56011203, -0.8652532 ,  1.        ]])"
      ]
     },
     "execution_count": 46,
     "metadata": {},
     "output_type": "execute_result"
    }
   ],
   "source": [
    "## correlation\n",
    "np.corrcoef(matrix_A)"
   ]
  },
  {
   "cell_type": "markdown",
   "id": "67c27aca-5b5e-44f7-b2cf-a1a4ad7a44d0",
   "metadata": {},
   "source": [
    "## Histograms"
   ]
  },
  {
   "cell_type": "code",
   "execution_count": 47,
   "id": "c2a0c833-4553-4198-9856-0dae2def385c",
   "metadata": {},
   "outputs": [
    {
     "data": {
      "text/plain": [
       "array([[1, 0, 0, 3, 1],\n",
       "       [3, 6, 6, 2, 9],\n",
       "       [4, 5, 3, 8, 0]])"
      ]
     },
     "execution_count": 47,
     "metadata": {},
     "output_type": "execute_result"
    }
   ],
   "source": [
    "matrix_A"
   ]
  },
  {
   "cell_type": "code",
   "execution_count": 48,
   "id": "5e784bd5-a11e-460f-bc8e-b32d90249355",
   "metadata": {},
   "outputs": [
    {
     "data": {
      "text/plain": [
       "array([0, 0, 0, 1, 1, 2, 3, 3, 3, 4, 5, 6, 6, 8, 9])"
      ]
     },
     "execution_count": 48,
     "metadata": {},
     "output_type": "execute_result"
    }
   ],
   "source": [
    "np.sort(matrix_A, axis=None)"
   ]
  },
  {
   "cell_type": "code",
   "execution_count": 49,
   "id": "846845df-e2c8-4dc8-bb56-30c88c629e5a",
   "metadata": {},
   "outputs": [
    {
     "data": {
      "text/plain": [
       "(array([3, 2, 1, 3, 1, 1, 2, 0, 1, 1]),\n",
       " array([0. , 0.9, 1.8, 2.7, 3.6, 4.5, 5.4, 6.3, 7.2, 8.1, 9. ]))"
      ]
     },
     "execution_count": 49,
     "metadata": {},
     "output_type": "execute_result"
    }
   ],
   "source": [
    "np.histogram(matrix_A)"
   ]
  },
  {
   "cell_type": "code",
   "execution_count": 52,
   "id": "1ecaa160-09b6-4909-ab46-fe7660f65675",
   "metadata": {},
   "outputs": [
    {
     "data": {
      "text/plain": [
       "array([3, 2, 1, 3, 1, 1, 2, 0, 1, 1])"
      ]
     },
     "execution_count": 52,
     "metadata": {},
     "output_type": "execute_result"
    }
   ],
   "source": [
    "np.histogram(matrix_A)[0]\n",
    "\n",
    "## if we interested in first array"
   ]
  },
  {
   "cell_type": "code",
   "execution_count": 53,
   "id": "a396ee06-21ca-43bf-81f2-3cf14604bc75",
   "metadata": {},
   "outputs": [
    {
     "data": {
      "text/plain": [
       "array([0. , 0.9, 1.8, 2.7, 3.6, 4.5, 5.4, 6.3, 7.2, 8.1, 9. ])"
      ]
     },
     "execution_count": 53,
     "metadata": {},
     "output_type": "execute_result"
    }
   ],
   "source": [
    "np.histogram(matrix_A)[1]\n",
    "\n",
    "## if we interested in second array"
   ]
  },
  {
   "cell_type": "code",
   "execution_count": 54,
   "id": "f34f403b-2fcc-4572-b202-e7f6f0beb2dd",
   "metadata": {},
   "outputs": [],
   "source": [
    "import matplotlib.pyplot as plt"
   ]
  },
  {
   "cell_type": "code",
   "execution_count": 65,
   "id": "8535a114-576e-4338-9461-588d0484bb61",
   "metadata": {},
   "outputs": [
    {
     "data": {
      "image/png": "[encoded data removed]",
      "text/plain": [
       "<Figure size 432x288 with 1 Axes>"
      ]
     },
     "metadata": {
      "needs_background": "light"
     },
     "output_type": "display_data"
    }
   ],
   "source": [
    "plt.hist(matrix_A_sorted,bins=20,color='purple')\n",
    "plt.show()"
   ]
  },
  {
   "cell_type": "code",
   "execution_count": 66,
   "id": "e2f74ae7-63d4-4607-b5d6-483b860d4839",
   "metadata": {},
   "outputs": [
    {
     "data": {
      "image/png": "[encoded data removed]",
      "text/plain": [
       "<Figure size 432x288 with 1 Axes>"
      ]
     },
     "metadata": {
      "needs_background": "light"
     },
     "output_type": "display_data"
    }
   ],
   "source": [
    "plt.hist(matrix_A_sorted,bins=np.histogram(matrix_A)[1],color='purple')\n",
    "plt.show()"
   ]
  },
  {
   "cell_type": "code",
   "execution_count": null,
   "id": "99d63dc6-3593-494b-8a26-2b3fed4049ee",
   "metadata": {},
   "outputs": [],
   "source": []
  }
 ],
 "metadata": {
  "kernelspec": {
   "display_name": "Python 3",
   "language": "python",
   "name": "python3"
  },
  "language_info": {
   "codemirror_mode": {
    "name": "ipython",
    "version": 3
   },
   "file_extension": ".py",
   "mimetype": "text/x-python",
   "name": "python",
   "nbconvert_exporter": "python",
   "pygments_lexer": "ipython3",
   "version": "3.8.8"
  }
 },
 "nbformat": 4,
 "nbformat_minor": 5
}
