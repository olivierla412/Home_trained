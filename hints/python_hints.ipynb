{
 "cells": [
  {
   "cell_type": "code",
   "execution_count": 1,
   "id": "58eb7ded-47cc-43c2-92ef-c0065a4f9acb",
   "metadata": {},
   "outputs": [],
   "source": [
    "### link_youtue:  https://www.youtube.com/watch?v=2Wb98sgIQVs"
   ]
  },
  {
   "cell_type": "code",
   "execution_count": 2,
   "id": "66355977-4151-4536-85c6-21a682b2a438",
   "metadata": {},
   "outputs": [],
   "source": [
    "import time"
   ]
  },
  {
   "cell_type": "raw",
   "id": "7b505a5a-9469-4cb4-a1fa-a2a7fedfb582",
   "metadata": {},
   "source": [
    "for i in range(10):\n",
    "    print(i,end='')\n",
    "    time.sleep(2)"
   ]
  },
  {
   "cell_type": "code",
   "execution_count": null,
   "id": "0734e37a-4db8-43b2-8ea0-f816b8e4314a",
   "metadata": {},
   "outputs": [],
   "source": []
  },
  {
   "cell_type": "raw",
   "id": "bd81d902-83cc-48c9-bee8-b74ef987028d",
   "metadata": {},
   "source": [
    "for i in range(10):\n",
    "    if i == 6:\n",
    "        break\n",
    "    print(i,end='')\n",
    "    \n",
    "    time.sleep(2)"
   ]
  },
  {
   "cell_type": "code",
   "execution_count": null,
   "id": "2f5cf096-aec5-4025-b206-25ee63edcb6a",
   "metadata": {},
   "outputs": [],
   "source": []
  }
 ],
 "metadata": {
  "kernelspec": {
   "display_name": "Python 3",
   "language": "python",
   "name": "python3"
  },
  "language_info": {
   "codemirror_mode": {
    "name": "ipython",
    "version": 3
   },
   "file_extension": ".py",
   "mimetype": "text/x-python",
   "name": "python",
   "nbconvert_exporter": "python",
   "pygments_lexer": "ipython3",
   "version": "3.8.8"
  }
 },
 "nbformat": 4,
 "nbformat_minor": 5
}
